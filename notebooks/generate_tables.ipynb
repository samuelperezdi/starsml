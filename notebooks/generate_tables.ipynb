{
 "cells": [
  {
   "cell_type": "code",
   "execution_count": 1,
   "metadata": {
    "colab": {
     "base_uri": "https://localhost:8080/"
    },
    "executionInfo": {
     "elapsed": 1402,
     "status": "ok",
     "timestamp": 1646792485416,
     "user": {
      "displayName": "Juan Martinez Galarza",
      "photoUrl": "https://lh3.googleusercontent.com/a-/AOh14GjbbwXLTiq96SY6wFlM3UCnuViVCCrd_23Uu1S8=s64",
      "userId": "02756929718806781863"
     },
     "user_tz": 300
    },
    "id": "E055Crj-ekHo",
    "outputId": "e87cd569-bb76-49e4-c278-8c385c3af3b3"
   },
   "outputs": [],
   "source": [
    "import sys\n",
    "import os\n",
    "sys.path.append(\"../../\") \n",
    "\n",
    "import pandas as pd\n",
    "from astropy.table import Table\n",
    "from src.data import (\n",
    "    read_votable_to_dataframe,\n",
    "    convert_byte_columns_to_str,\n",
    "    filter_multiple_matches,\n",
    "    get_most_probable_matches,\n",
    "    get_second_most_probable_matches,\n",
    "    get_last_probable_matches,\n",
    "    prepare_final_dataset,\n",
    "    include_classifications,\n",
    "    read_gzipped_votable_to_dataframe\n",
    "    )\n",
    "\n",
    "%load_ext autoreload\n",
    "%autoreload 2"
   ]
  },
  {
   "cell_type": "code",
   "execution_count": 2,
   "metadata": {},
   "outputs": [],
   "source": [
    "# load Dong-Woo nway data\n",
    "t_nway = Table.read('../../data/v3/nway_CSC21_GAIA3.fits', format='fits')\n",
    "t_nway = convert_byte_columns_to_str(t_nway)\n",
    "df_nway_all = t_nway.to_pandas()"
   ]
  },
  {
   "cell_type": "code",
   "execution_count": 3,
   "metadata": {},
   "outputs": [],
   "source": [
    "# correct chandra ids\n",
    "df_nway_all['CSC21_CSCID'] = df_nway_all['CSC21_CSCID'].str.replace('_', ' ')\n",
    "df_nway_all['CSC21_CSCID'] = df_nway_all['CSC21_CSCID'].str.strip()"
   ]
  },
  {
   "cell_type": "code",
   "execution_count": 4,
   "metadata": {},
   "outputs": [],
   "source": [
    "# generate dataframe of possible chandra matches\n",
    "\n",
    "nway_csc21_possible_matches_count = pd.DataFrame(df_nway_all[['CSC21_CSCID']].value_counts(), columns=['count'])"
   ]
  },
  {
   "cell_type": "code",
   "execution_count": 5,
   "metadata": {},
   "outputs": [],
   "source": [
    "# include them in df_nway_all \n",
    "df_nway_all = df_nway_all.merge(nway_csc21_possible_matches_count, left_on='CSC21_CSCID', right_on='CSC21_CSCID', how='left')"
   ]
  },
  {
   "cell_type": "code",
   "execution_count": 6,
   "metadata": {},
   "outputs": [],
   "source": [
    "# before this, download the whole CSC21 with properties from CSCView.\n",
    "df_csc_all = read_votable_to_dataframe('../../data/v3/csc_all_1.vot')"
   ]
  },
  {
   "cell_type": "code",
   "execution_count": 7,
   "metadata": {},
   "outputs": [],
   "source": [
    "# filter nway crossmatches to only have those with >1 possible matches\n",
    "df_filtered = filter_multiple_matches(df_nway_all, 'CSC21_CSCID')"
   ]
  },
  {
   "cell_type": "code",
   "execution_count": 8,
   "metadata": {},
   "outputs": [],
   "source": [
    "# get the table of most probable matches based on p_i\n",
    "df_most_probable = get_most_probable_matches(df_nway_all, 'CSC21_CSCID', 'p_i')"
   ]
  },
  {
   "cell_type": "code",
   "execution_count": 9,
   "metadata": {},
   "outputs": [],
   "source": [
    "# get second most probable matches\n",
    "df_second_most_probable = get_second_most_probable_matches(df_filtered, 'CSC21_CSCID', 'p_i')"
   ]
  },
  {
   "cell_type": "code",
   "execution_count": 10,
   "metadata": {},
   "outputs": [],
   "source": [
    "# get last probable matches\n",
    "df_last_probable = get_last_probable_matches(df_filtered, 'CSC21_CSCID', 'p_i')"
   ]
  },
  {
   "cell_type": "code",
   "execution_count": 11,
   "metadata": {},
   "outputs": [],
   "source": [
    "# prepare final datasets\n",
    "prepared_most_probable = prepare_final_dataset(df_most_probable, df_csc_all)\n",
    "prepared_second_prob = prepare_final_dataset(df_second_most_probable, df_csc_all)\n",
    "prepared_last_prob = prepare_final_dataset(df_last_probable, df_csc_all)"
   ]
  },
  {
   "cell_type": "code",
   "execution_count": 12,
   "metadata": {},
   "outputs": [
    {
     "name": "stderr",
     "output_type": "stream",
     "text": [
      "/tmp/ipykernel_331326/1691537927.py:2: DtypeWarning: Columns (59) have mixed types. Specify dtype option on import or set low_memory=False.\n",
      "  yangetal_gcs = pd.read_csv('../../data/v3/yangetal_gcs.csv')\n"
     ]
    }
   ],
   "source": [
    "# read classification tables\n",
    "yangetal_gcs = pd.read_csv('../../data/v3/yangetal_gcs.csv')\n",
    "yangetal_training = pd.read_csv('../../data/v3/yangetal_training.csv')\n",
    "perezdiazetal_class = pd.read_csv('../../data/v3/uniquely_classified.csv')"
   ]
  },
  {
   "cell_type": "code",
   "execution_count": 13,
   "metadata": {},
   "outputs": [
    {
     "name": "stderr",
     "output_type": "stream",
     "text": [
      "/mnt/d/workspace/starsml/notebooks/v3/../../src/data.py:206: SettingWithCopyWarning: \n",
      "A value is trying to be set on a copy of a slice from a DataFrame\n",
      "\n",
      "See the caveats in the documentation: https://pandas.pydata.org/pandas-docs/stable/user_guide/indexing.html#returning-a-view-versus-a-copy\n",
      "  df_additional_selected.rename(columns=rename_columns, inplace=True)\n",
      "/mnt/d/workspace/starsml/notebooks/v3/../../src/data.py:206: SettingWithCopyWarning: \n",
      "A value is trying to be set on a copy of a slice from a DataFrame\n",
      "\n",
      "See the caveats in the documentation: https://pandas.pydata.org/pandas-docs/stable/user_guide/indexing.html#returning-a-view-versus-a-copy\n",
      "  df_additional_selected.rename(columns=rename_columns, inplace=True)\n",
      "/mnt/d/workspace/starsml/notebooks/v3/../../src/data.py:206: SettingWithCopyWarning: \n",
      "A value is trying to be set on a copy of a slice from a DataFrame\n",
      "\n",
      "See the caveats in the documentation: https://pandas.pydata.org/pandas-docs/stable/user_guide/indexing.html#returning-a-view-versus-a-copy\n",
      "  df_additional_selected.rename(columns=rename_columns, inplace=True)\n"
     ]
    }
   ],
   "source": [
    "# include classifications\n",
    "p_most_probable_with_class = include_classifications(\n",
    "    prepared_most_probable,\n",
    "    yangetal_gcs,\n",
    "    base_col='csc21_name',\n",
    "    additional_col='CSCv2_name',\n",
    "    additional_columns=['Class'],\n",
    "    rename_columns={'Class': 'yangetal_gcs_class'}\n",
    ")\n",
    "\n",
    "p_most_probable_with_class = include_classifications(\n",
    "    p_most_probable_with_class,\n",
    "    yangetal_training,\n",
    "    base_col='csc21_name',\n",
    "    additional_col='name',\n",
    "    additional_columns=['Class'],\n",
    "    rename_columns={'Class': 'yangetal_training_class'}\n",
    ")\n",
    "\n",
    "p_most_probable_with_class = include_classifications(\n",
    "    p_most_probable_with_class,\n",
    "    perezdiazetal_class,\n",
    "    base_col='csc21_name',\n",
    "    additional_col='name',\n",
    "    additional_columns=['agg_master_class'],\n",
    "    rename_columns={'agg_master_class': 'perezdiazetal_class'}\n",
    ")"
   ]
  },
  {
   "cell_type": "code",
   "execution_count": 14,
   "metadata": {},
   "outputs": [
    {
     "name": "stderr",
     "output_type": "stream",
     "text": [
      "/mnt/d/workspace/starsml/notebooks/v3/../../src/data.py:206: SettingWithCopyWarning: \n",
      "A value is trying to be set on a copy of a slice from a DataFrame\n",
      "\n",
      "See the caveats in the documentation: https://pandas.pydata.org/pandas-docs/stable/user_guide/indexing.html#returning-a-view-versus-a-copy\n",
      "  df_additional_selected.rename(columns=rename_columns, inplace=True)\n",
      "/mnt/d/workspace/starsml/notebooks/v3/../../src/data.py:206: SettingWithCopyWarning: \n",
      "A value is trying to be set on a copy of a slice from a DataFrame\n",
      "\n",
      "See the caveats in the documentation: https://pandas.pydata.org/pandas-docs/stable/user_guide/indexing.html#returning-a-view-versus-a-copy\n",
      "  df_additional_selected.rename(columns=rename_columns, inplace=True)\n",
      "/mnt/d/workspace/starsml/notebooks/v3/../../src/data.py:206: SettingWithCopyWarning: \n",
      "A value is trying to be set on a copy of a slice from a DataFrame\n",
      "\n",
      "See the caveats in the documentation: https://pandas.pydata.org/pandas-docs/stable/user_guide/indexing.html#returning-a-view-versus-a-copy\n",
      "  df_additional_selected.rename(columns=rename_columns, inplace=True)\n"
     ]
    }
   ],
   "source": [
    "# include classifications\n",
    "p_second_most_probable_with_class = include_classifications(\n",
    "    prepared_second_prob,\n",
    "    yangetal_gcs,\n",
    "    base_col='csc21_name',\n",
    "    additional_col='CSCv2_name',\n",
    "    additional_columns=['Class'],\n",
    "    rename_columns={'Class': 'yangetal_gcs_class'}\n",
    ")\n",
    "\n",
    "p_second_most_probable_with_class = include_classifications(\n",
    "    p_second_most_probable_with_class,\n",
    "    yangetal_training,\n",
    "    base_col='csc21_name',\n",
    "    additional_col='name',\n",
    "    additional_columns=['Class'],\n",
    "    rename_columns={'Class': 'yangetal_training_class'}\n",
    ")\n",
    "\n",
    "p_second_most_probable_with_class = include_classifications(\n",
    "    p_second_most_probable_with_class,\n",
    "    perezdiazetal_class,\n",
    "    base_col='csc21_name',\n",
    "    additional_col='name',\n",
    "    additional_columns=['agg_master_class'],\n",
    "    rename_columns={'agg_master_class': 'perezdiazetal_class'}\n",
    ")"
   ]
  },
  {
   "cell_type": "code",
   "execution_count": 15,
   "metadata": {},
   "outputs": [
    {
     "name": "stderr",
     "output_type": "stream",
     "text": [
      "/mnt/d/workspace/starsml/notebooks/v3/../../src/data.py:206: SettingWithCopyWarning: \n",
      "A value is trying to be set on a copy of a slice from a DataFrame\n",
      "\n",
      "See the caveats in the documentation: https://pandas.pydata.org/pandas-docs/stable/user_guide/indexing.html#returning-a-view-versus-a-copy\n",
      "  df_additional_selected.rename(columns=rename_columns, inplace=True)\n",
      "/mnt/d/workspace/starsml/notebooks/v3/../../src/data.py:206: SettingWithCopyWarning: \n",
      "A value is trying to be set on a copy of a slice from a DataFrame\n",
      "\n",
      "See the caveats in the documentation: https://pandas.pydata.org/pandas-docs/stable/user_guide/indexing.html#returning-a-view-versus-a-copy\n",
      "  df_additional_selected.rename(columns=rename_columns, inplace=True)\n",
      "/mnt/d/workspace/starsml/notebooks/v3/../../src/data.py:206: SettingWithCopyWarning: \n",
      "A value is trying to be set on a copy of a slice from a DataFrame\n",
      "\n",
      "See the caveats in the documentation: https://pandas.pydata.org/pandas-docs/stable/user_guide/indexing.html#returning-a-view-versus-a-copy\n",
      "  df_additional_selected.rename(columns=rename_columns, inplace=True)\n"
     ]
    }
   ],
   "source": [
    "# include classifications\n",
    "p_last_prob_with_class = include_classifications(\n",
    "    prepared_last_prob,\n",
    "    yangetal_gcs,\n",
    "    base_col='csc21_name',\n",
    "    additional_col='CSCv2_name',\n",
    "    additional_columns=['Class'],\n",
    "    rename_columns={'Class': 'yangetal_gcs_class'}\n",
    ")\n",
    "\n",
    "p_last_prob_with_class = include_classifications(\n",
    "    p_last_prob_with_class,\n",
    "    yangetal_training,\n",
    "    base_col='csc21_name',\n",
    "    additional_col='name',\n",
    "    additional_columns=['Class'],\n",
    "    rename_columns={'Class': 'yangetal_training_class'}\n",
    ")\n",
    "\n",
    "p_last_prob_with_class = include_classifications(\n",
    "    p_last_prob_with_class,\n",
    "    perezdiazetal_class,\n",
    "    base_col='csc21_name',\n",
    "    additional_col='name',\n",
    "    additional_columns=['agg_master_class'],\n",
    "    rename_columns={'agg_master_class': 'perezdiazetal_class'}\n",
    ")"
   ]
  },
  {
   "cell_type": "code",
   "execution_count": 16,
   "metadata": {},
   "outputs": [],
   "source": [
    "p_most_probable_with_class.to_csv('../../out_data/v3/most_prob_class.csv', index=False)\n",
    "p_second_most_probable_with_class.to_csv('../../out_data/v3/second_most_prob_class.csv', index=False)\n",
    "p_last_prob_with_class.to_csv('../../out_data/v3/last_prob_class.csv', index=False)\n",
    "\n",
    "# end"
   ]
  },
  {
   "cell_type": "code",
   "execution_count": 18,
   "metadata": {},
   "outputs": [],
   "source": [
    "# this is for querying gaia archive, create a list of the gaia ids needed\n",
    "# concatenate the 'gaia3_source_id' columns\n",
    "all_gaia3_ids = pd.concat([\n",
    "    prepared_most_probable['gaia3_source_id'],\n",
    "    prepared_second_prob['gaia3_source_id'],\n",
    "    prepared_last_prob['gaia3_source_id']\n",
    "])\n",
    "\n",
    "# unique gaia IDs\n",
    "unique_gaia3_ids = all_gaia3_ids.unique()\n",
    "\n",
    "# dataframe\n",
    "unique_gaia3_ids_df = pd.DataFrame(unique_gaia3_ids, columns=['gaia3_source_id'])\n",
    "\n",
    "# export\n",
    "unique_gaia3_ids_df.to_csv('../../data/v3/unique_gaia3_ids.csv', index=False)"
   ]
  },
  {
   "cell_type": "code",
   "execution_count": 17,
   "metadata": {},
   "outputs": [],
   "source": [
    "# read gaia additional properties\n",
    "\n",
    "gaia_add_props = read_gzipped_votable_to_dataframe('../../data/v3/additional_gaia_properties-result.vot.gz')"
   ]
  },
  {
   "cell_type": "code",
   "execution_count": 31,
   "metadata": {},
   "outputs": [],
   "source": [
    "# change type of id\n",
    "p_last_prob_with_class['gaia3_source_id'] = p_last_prob_with_class['gaia3_source_id'].astype(str)\n",
    "p_second_most_probable_with_class['gaia3_source_id'] = p_second_most_probable_with_class['gaia3_source_id'].astype(str)\n",
    "p_most_probable_with_class['gaia3_source_id'] = p_most_probable_with_class['gaia3_source_id'].astype(str)\n",
    "gaia_add_props['gaia3_source_id'] = gaia_add_props['gaia3_source_id'].astype(str)"
   ]
  },
  {
   "cell_type": "code",
   "execution_count": 37,
   "metadata": {},
   "outputs": [],
   "source": [
    "# format names\n",
    "p_last_prob_with_class['gaia3_source_id'] = p_last_prob_with_class['gaia3_source_id'].str.strip()\n",
    "p_second_most_probable_with_class['gaia3_source_id'] = p_second_most_probable_with_class['gaia3_source_id'].str.strip()\n",
    "p_most_probable_with_class['gaia3_source_id'] = p_most_probable_with_class['gaia3_source_id'].str.strip()\n",
    "gaia_add_props['gaia3_source_id'] = gaia_add_props['gaia3_source_id'].str.strip()"
   ]
  },
  {
   "cell_type": "code",
   "execution_count": 38,
   "metadata": {},
   "outputs": [],
   "source": [
    "additional_columns_gaia = [\n",
    "'gaia3_source_id', 'parallax_error', 'pmra', 'pmra_error', 'pmdec', 'pmdec_error',\n",
    "'phot_g_mean_flux', 'phot_g_mean_flux_error', 'phot_bp_mean_flux',\n",
    "'phot_bp_mean_flux_error', 'phot_rp_mean_flux', 'phot_rp_mean_flux_error',\n",
    "'radial_velocity', 'radial_velocity_error', 'vbroad', 'vbroad_error',\n",
    "'phot_variable_flag', 'classprob_dsc_combmod_quasar', 'classprob_dsc_combmod_galaxy',\n",
    "'classprob_dsc_combmod_star', 'distance_gspphot', 'distance_gspphot_lower',\n",
    "'distance_gspphot_upper'\n",
    "]\n",
    "\n",
    "gaia_selected_props = gaia_add_props[additional_columns_gaia]\n",
    "# merge the tables with the new Gaia data\n",
    "prepared_most_probable_gaiaprops = pd.merge(p_most_probable_with_class, gaia_selected_props, on='gaia3_source_id', how='left')\n",
    "prepared_second_prob_gaiaprops = pd.merge(p_second_most_probable_with_class, gaia_selected_props, on='gaia3_source_id', how='left')\n",
    "prepared_last_prob_gaiaprops = pd.merge(p_last_prob_with_class, gaia_selected_props, on='gaia3_source_id', how='left')\n"
   ]
  },
  {
   "cell_type": "code",
   "execution_count": 51,
   "metadata": {},
   "outputs": [],
   "source": [
    "# save the merged datasets with the new gaia properties\n",
    "prepared_most_probable_gaiaprops.to_csv('../../out_data/v3/most_prob_class_gaia_props.csv', index=False)\n",
    "prepared_second_prob_gaiaprops.to_csv('../../out_data/v3/second_most_prob_class_gaia_props.csv', index=False)\n",
    "prepared_last_prob_gaiaprops.to_csv('../../out_data/v3/last_prob_class_gaia_props.csv', index=False)"
   ]
  },
  {
   "cell_type": "code",
   "execution_count": 67,
   "metadata": {},
   "outputs": [],
   "source": [
    "# all stack properties for each master source table\n",
    "\n",
    "all_stack_df = read_votable_to_dataframe('../../data/v3/all_stacks.vot')"
   ]
  },
  {
   "cell_type": "code",
   "execution_count": null,
   "metadata": {},
   "outputs": [],
   "source": [
    "# find the rows with the minimum theta_mean for each name\n",
    "\n",
    "min_theta_rows = all_stack_df.loc[all_stack_df.groupby('name')['theta_mean'].idxmin()]"
   ]
  },
  {
   "cell_type": "code",
   "execution_count": 75,
   "metadata": {},
   "outputs": [
    {
     "name": "stdout",
     "output_type": "stream",
     "text": [
      "Comparison Result: True\n"
     ]
    }
   ],
   "source": [
    "# Reindex min_theta_rows to match df_csc_all\n",
    "min_theta_rows_reindexed = min_theta_rows.set_index('name').reindex(df_csc_all['name']).reset_index()\n",
    "\n",
    "# Compare the theta_mean in reindexed min_theta_rows with min_theta_mean in df_csc_all\n",
    "comparison_result = min_theta_rows_reindexed['theta_mean'].equals(df_csc_all['min_theta_mean'])\n",
    "\n",
    "# Display the comparison result\n",
    "print('Comparison Result:', comparison_result)"
   ]
  },
  {
   "cell_type": "code",
   "execution_count": 108,
   "metadata": {},
   "outputs": [],
   "source": [
    "# Create a new column for the maximum flux significance across all bands\n",
    "all_stack_df['max_flux_significance'] = all_stack_df[['flux_significance_b', 'flux_significance_u', 'flux_significance_s', \n",
    "                                      'flux_significance_m', 'flux_significance_h', 'flux_significance_w']].max(axis=1)\n",
    "\n",
    "#idx_max_flux = all_stack_df.groupby('name')['max_flux_significance'].idxmax()\n",
    "\n",
    "# Function to get the row with max flux significance or the only row if single\n",
    "def get_max_flux_row(group):\n",
    "    if len(group) == 1:\n",
    "        return group.iloc[0]\n",
    "    else:\n",
    "        return group.loc[group['max_flux_significance'].idxmax()]\n",
    "\n",
    "# Group by 'name' and apply the function to get the desired rows\n",
    "max_flux_rows = all_stack_df.groupby('name').apply(get_max_flux_row).reset_index(drop=True)\n",
    "\n",
    "# it turns out that the CSC main table takes the significance property from the max flux significance in each band, but considering all associated stack observations (not only uniquely associated)"
   ]
  }
 ],
 "metadata": {
  "colab": {
   "name": "nn_xmatch.ipynb",
   "provenance": []
  },
  "kernelspec": {
   "display_name": "Python 3 (ipykernel)",
   "language": "python",
   "name": "python3"
  },
  "language_info": {
   "codemirror_mode": {
    "name": "ipython",
    "version": 3
   },
   "file_extension": ".py",
   "mimetype": "text/x-python",
   "name": "python",
   "nbconvert_exporter": "python",
   "pygments_lexer": "ipython3",
   "version": "3.11.4"
  }
 },
 "nbformat": 4,
 "nbformat_minor": 4
}
