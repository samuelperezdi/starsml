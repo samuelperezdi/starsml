{
 "cells": [
  {
   "cell_type": "code",
   "execution_count": 72,
   "metadata": {
    "colab": {
     "base_uri": "https://localhost:8080/"
    },
    "executionInfo": {
     "elapsed": 1402,
     "status": "ok",
     "timestamp": 1646792485416,
     "user": {
      "displayName": "Juan Martinez Galarza",
      "photoUrl": "https://lh3.googleusercontent.com/a-/AOh14GjbbwXLTiq96SY6wFlM3UCnuViVCCrd_23Uu1S8=s64",
      "userId": "02756929718806781863"
     },
     "user_tz": 300
    },
    "id": "E055Crj-ekHo",
    "outputId": "e87cd569-bb76-49e4-c278-8c385c3af3b3"
   },
   "outputs": [
    {
     "name": "stdout",
     "output_type": "stream",
     "text": [
      "The autoreload extension is already loaded. To reload it, use:\n",
      "  %reload_ext autoreload\n"
     ]
    }
   ],
   "source": [
    "import sys\n",
    "import os\n",
    "sys.path.append(\"../../\") \n",
    "\n",
    "import pandas as pd\n",
    "from astropy.table import Table\n",
    "from src.data import (\n",
    "    read_votable_to_dataframe,\n",
    "    convert_byte_columns_to_str,\n",
    "    filter_multiple_matches,\n",
    "    get_most_probable_matches,\n",
    "    get_second_most_probable_matches,\n",
    "    get_last_probable_matches,\n",
    "    prepare_final_dataset,\n",
    "    include_classifications\n",
    "    )\n",
    "\n",
    "%load_ext autoreload\n",
    "%autoreload 2"
   ]
  },
  {
   "cell_type": "code",
   "execution_count": 24,
   "metadata": {},
   "outputs": [],
   "source": [
    "# load Dong-Woo nway data\n",
    "t_nway = Table.read('../../data/v3/nway_CSC21_GAIA3.fits', format='fits')\n",
    "t_nway = convert_byte_columns_to_str(t_nway)\n",
    "df_nway_all = t_nway.to_pandas()"
   ]
  },
  {
   "cell_type": "code",
   "execution_count": 35,
   "metadata": {},
   "outputs": [],
   "source": [
    "# before this, download the whole CSC21 with properties from CSCView.\n",
    "df_csc_all = read_votable_to_dataframe('../../data/v3/csc_all.vot')"
   ]
  },
  {
   "cell_type": "code",
   "execution_count": 38,
   "metadata": {},
   "outputs": [],
   "source": [
    "# filter nway crossmatches to only have those with >1 possible matches\n",
    "df_filtered = filter_multiple_matches(df_nway_all, 'CSC21_CSCID')"
   ]
  },
  {
   "cell_type": "code",
   "execution_count": 42,
   "metadata": {},
   "outputs": [],
   "source": [
    "# get the table of most probable matches based on p_i\n",
    "df_most_probable = get_most_probable_matches(df_filtered, 'CSC21_CSCID', 'p_i')"
   ]
  },
  {
   "cell_type": "code",
   "execution_count": 47,
   "metadata": {},
   "outputs": [],
   "source": [
    "# get second most probable matches\n",
    "df_second_most_probable = get_second_most_probable_matches(df_filtered, 'CSC21_CSCID', 'p_i')"
   ]
  },
  {
   "cell_type": "code",
   "execution_count": 53,
   "metadata": {},
   "outputs": [],
   "source": [
    "# get last probable matches\n",
    "df_last_probable = get_last_probable_matches(df_filtered, 'CSC21_CSCID', 'p_i')"
   ]
  },
  {
   "cell_type": "code",
   "execution_count": 106,
   "metadata": {},
   "outputs": [],
   "source": [
    "# prepare final datasets\n",
    "prepared_most_probable = prepare_final_dataset(df_most_probable, df_csc_all)\n",
    "prepared_second_prob = prepare_final_dataset(df_second_most_probable, df_csc_all)\n",
    "prepared_last_prob = prepare_final_dataset(df_last_probable, df_csc_all)"
   ]
  },
  {
   "cell_type": "code",
   "execution_count": 70,
   "metadata": {},
   "outputs": [
    {
     "name": "stderr",
     "output_type": "stream",
     "text": [
      "/tmp/ipykernel_35230/1691537927.py:2: DtypeWarning: Columns (59) have mixed types. Specify dtype option on import or set low_memory=False.\n",
      "  yangetal_gcs = pd.read_csv('../../data/v3/yangetal_gcs.csv')\n"
     ]
    }
   ],
   "source": [
    "# read classification tables\n",
    "yangetal_gcs = pd.read_csv('../../data/v3/yangetal_gcs.csv')\n",
    "yangetal_training = pd.read_csv('../../data/v3/yangetal_training.csv')\n",
    "perezdiazetal_class = pd.read_csv('../../data/v3/uniquely_classified.csv')"
   ]
  },
  {
   "cell_type": "code",
   "execution_count": 131,
   "metadata": {},
   "outputs": [
    {
     "name": "stderr",
     "output_type": "stream",
     "text": [
      "/mnt/d/workspace/starsml/notebooks/v3/../../src/data.py:187: SettingWithCopyWarning: \n",
      "A value is trying to be set on a copy of a slice from a DataFrame\n",
      "\n",
      "See the caveats in the documentation: https://pandas.pydata.org/pandas-docs/stable/user_guide/indexing.html#returning-a-view-versus-a-copy\n",
      "  df_additional_selected.rename(columns=rename_columns, inplace=True)\n",
      "/mnt/d/workspace/starsml/notebooks/v3/../../src/data.py:187: SettingWithCopyWarning: \n",
      "A value is trying to be set on a copy of a slice from a DataFrame\n",
      "\n",
      "See the caveats in the documentation: https://pandas.pydata.org/pandas-docs/stable/user_guide/indexing.html#returning-a-view-versus-a-copy\n",
      "  df_additional_selected.rename(columns=rename_columns, inplace=True)\n",
      "/mnt/d/workspace/starsml/notebooks/v3/../../src/data.py:187: SettingWithCopyWarning: \n",
      "A value is trying to be set on a copy of a slice from a DataFrame\n",
      "\n",
      "See the caveats in the documentation: https://pandas.pydata.org/pandas-docs/stable/user_guide/indexing.html#returning-a-view-versus-a-copy\n",
      "  df_additional_selected.rename(columns=rename_columns, inplace=True)\n"
     ]
    }
   ],
   "source": [
    "# include classifications and export\n",
    "p_most_probable_with_class = include_classifications(\n",
    "    prepared_most_probable,\n",
    "    yangetal_gcs,\n",
    "    base_col='csc21_name',\n",
    "    additional_col='CSCv2_name',\n",
    "    additional_columns=['Class'],\n",
    "    rename_columns={'Class': 'yangetal_gcs_class'}\n",
    ")\n",
    "\n",
    "p_most_probable_with_class = include_classifications(\n",
    "    p_most_probable_with_class,\n",
    "    yangetal_training,\n",
    "    base_col='csc21_name',\n",
    "    additional_col='name',\n",
    "    additional_columns=['Class'],\n",
    "    rename_columns={'Class': 'yangetal_training_class'}\n",
    ")\n",
    "\n",
    "p_most_probable_with_class = include_classifications(\n",
    "    p_most_probable_with_class,\n",
    "    perezdiazetal_class,\n",
    "    base_col='csc21_name',\n",
    "    additional_col='name',\n",
    "    additional_columns=['agg_master_class'],\n",
    "    rename_columns={'agg_master_class': 'perezdiazetal_class'}\n",
    ")"
   ]
  },
  {
   "cell_type": "code",
   "execution_count": 133,
   "metadata": {},
   "outputs": [
    {
     "name": "stderr",
     "output_type": "stream",
     "text": [
      "/mnt/d/workspace/starsml/notebooks/v3/../../src/data.py:187: SettingWithCopyWarning: \n",
      "A value is trying to be set on a copy of a slice from a DataFrame\n",
      "\n",
      "See the caveats in the documentation: https://pandas.pydata.org/pandas-docs/stable/user_guide/indexing.html#returning-a-view-versus-a-copy\n",
      "  df_additional_selected.rename(columns=rename_columns, inplace=True)\n",
      "/mnt/d/workspace/starsml/notebooks/v3/../../src/data.py:187: SettingWithCopyWarning: \n",
      "A value is trying to be set on a copy of a slice from a DataFrame\n",
      "\n",
      "See the caveats in the documentation: https://pandas.pydata.org/pandas-docs/stable/user_guide/indexing.html#returning-a-view-versus-a-copy\n",
      "  df_additional_selected.rename(columns=rename_columns, inplace=True)\n",
      "/mnt/d/workspace/starsml/notebooks/v3/../../src/data.py:187: SettingWithCopyWarning: \n",
      "A value is trying to be set on a copy of a slice from a DataFrame\n",
      "\n",
      "See the caveats in the documentation: https://pandas.pydata.org/pandas-docs/stable/user_guide/indexing.html#returning-a-view-versus-a-copy\n",
      "  df_additional_selected.rename(columns=rename_columns, inplace=True)\n"
     ]
    }
   ],
   "source": [
    "# include classifications and export\n",
    "p_second_most_probable_with_class = include_classifications(\n",
    "    prepared_second_prob,\n",
    "    yangetal_gcs,\n",
    "    base_col='csc21_name',\n",
    "    additional_col='CSCv2_name',\n",
    "    additional_columns=['Class'],\n",
    "    rename_columns={'Class': 'yangetal_gcs_class'}\n",
    ")\n",
    "\n",
    "p_second_most_probable_with_class = include_classifications(\n",
    "    p_second_most_probable_with_class,\n",
    "    yangetal_training,\n",
    "    base_col='csc21_name',\n",
    "    additional_col='name',\n",
    "    additional_columns=['Class'],\n",
    "    rename_columns={'Class': 'yangetal_training_class'}\n",
    ")\n",
    "\n",
    "p_second_most_probable_with_class = include_classifications(\n",
    "    p_second_most_probable_with_class,\n",
    "    perezdiazetal_class,\n",
    "    base_col='csc21_name',\n",
    "    additional_col='name',\n",
    "    additional_columns=['agg_master_class'],\n",
    "    rename_columns={'agg_master_class': 'perezdiazetal_class'}\n",
    ")"
   ]
  },
  {
   "cell_type": "code",
   "execution_count": 134,
   "metadata": {},
   "outputs": [
    {
     "name": "stderr",
     "output_type": "stream",
     "text": [
      "/mnt/d/workspace/starsml/notebooks/v3/../../src/data.py:187: SettingWithCopyWarning: \n",
      "A value is trying to be set on a copy of a slice from a DataFrame\n",
      "\n",
      "See the caveats in the documentation: https://pandas.pydata.org/pandas-docs/stable/user_guide/indexing.html#returning-a-view-versus-a-copy\n",
      "  df_additional_selected.rename(columns=rename_columns, inplace=True)\n",
      "/mnt/d/workspace/starsml/notebooks/v3/../../src/data.py:187: SettingWithCopyWarning: \n",
      "A value is trying to be set on a copy of a slice from a DataFrame\n",
      "\n",
      "See the caveats in the documentation: https://pandas.pydata.org/pandas-docs/stable/user_guide/indexing.html#returning-a-view-versus-a-copy\n",
      "  df_additional_selected.rename(columns=rename_columns, inplace=True)\n",
      "/mnt/d/workspace/starsml/notebooks/v3/../../src/data.py:187: SettingWithCopyWarning: \n",
      "A value is trying to be set on a copy of a slice from a DataFrame\n",
      "\n",
      "See the caveats in the documentation: https://pandas.pydata.org/pandas-docs/stable/user_guide/indexing.html#returning-a-view-versus-a-copy\n",
      "  df_additional_selected.rename(columns=rename_columns, inplace=True)\n"
     ]
    }
   ],
   "source": [
    "# include classifications and export\n",
    "p_last_prob_with_class = include_classifications(\n",
    "    prepared_last_prob,\n",
    "    yangetal_gcs,\n",
    "    base_col='csc21_name',\n",
    "    additional_col='CSCv2_name',\n",
    "    additional_columns=['Class'],\n",
    "    rename_columns={'Class': 'yangetal_gcs_class'}\n",
    ")\n",
    "\n",
    "p_last_prob_with_class = include_classifications(\n",
    "    p_last_prob_with_class,\n",
    "    yangetal_training,\n",
    "    base_col='csc21_name',\n",
    "    additional_col='name',\n",
    "    additional_columns=['Class'],\n",
    "    rename_columns={'Class': 'yangetal_training_class'}\n",
    ")\n",
    "\n",
    "p_last_prob_with_class = include_classifications(\n",
    "    p_last_prob_with_class,\n",
    "    perezdiazetal_class,\n",
    "    base_col='csc21_name',\n",
    "    additional_col='name',\n",
    "    additional_columns=['agg_master_class'],\n",
    "    rename_columns={'agg_master_class': 'perezdiazetal_class'}\n",
    ")"
   ]
  },
  {
   "cell_type": "code",
   "execution_count": 135,
   "metadata": {},
   "outputs": [],
   "source": [
    "p_most_probable_with_class.to_csv('../../out_data/v3/most_prob_class.csv', index=False)\n",
    "p_second_most_probable_with_class.to_csv('../../out_data/v3/second_most_prob_class.csv', index=False)\n",
    "p_last_prob_with_class.to_csv('../../out_data/v3/last_prob_class.csv', index=False)\n",
    "\n",
    "# end"
   ]
  },
  {
   "cell_type": "code",
   "execution_count": 137,
   "metadata": {},
   "outputs": [
    {
     "data": {
      "text/plain": [
       "Index(['csc21_name', 'csc21_ra', 'csc21_dec', 'gaia3_source_id', 'gaia3_ra',\n",
       "       'gaia3_dec', 'phot_g_mean_mag', 'phot_bp_mean_mag', 'phot_rp_mean_mag',\n",
       "       'bp_rp', 'bp_g', 'g_rp', 'parallax', 'parallax_over_error', 'hard_hs',\n",
       "       'hard_hm', 'hard_ms', 'var_intra_prob_b', 'var_inter_prob_b',\n",
       "       'separation', 'dist_bayesfactor', 'dist_post', 'p_single', 'p_any',\n",
       "       'p_i', 'match_flag', 'yangetal_gcs_class', 'yangetal_training_class',\n",
       "       'perezdiazetal_class'],\n",
       "      dtype='object')"
      ]
     },
     "execution_count": 137,
     "metadata": {},
     "output_type": "execute_result"
    }
   ],
   "source": [
    "p_most_probable_with_class.columns"
   ]
  }
 ],
 "metadata": {
  "colab": {
   "name": "nn_xmatch.ipynb",
   "provenance": []
  },
  "kernelspec": {
   "display_name": "Python 3 (ipykernel)",
   "language": "python",
   "name": "python3"
  },
  "language_info": {
   "codemirror_mode": {
    "name": "ipython",
    "version": 3
   },
   "file_extension": ".py",
   "mimetype": "text/x-python",
   "name": "python",
   "nbconvert_exporter": "python",
   "pygments_lexer": "ipython3",
   "version": "3.11.4"
  }
 },
 "nbformat": 4,
 "nbformat_minor": 4
}
