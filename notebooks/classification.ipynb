{
 "cells": [
  {
   "cell_type": "code",
   "execution_count": 1,
   "metadata": {},
   "outputs": [],
   "source": [
    "# run only once\n",
    "import sys\n",
    "import os\n",
    "sys.path.append(\"../../\") \n",
    "os.chdir(\"../../\")"
   ]
  },
  {
   "cell_type": "code",
   "execution_count": 6,
   "metadata": {
    "colab": {
     "base_uri": "https://localhost:8080/"
    },
    "executionInfo": {
     "elapsed": 1402,
     "status": "ok",
     "timestamp": 1646792485416,
     "user": {
      "displayName": "Juan Martinez Galarza",
      "photoUrl": "https://lh3.googleusercontent.com/a-/AOh14GjbbwXLTiq96SY6wFlM3UCnuViVCCrd_23Uu1S8=s64",
      "userId": "02756929718806781863"
     },
     "user_tz": 300
    },
    "id": "E055Crj-ekHo",
    "outputId": "e87cd569-bb76-49e4-c278-8c385c3af3b3"
   },
   "outputs": [
    {
     "name": "stdout",
     "output_type": "stream",
     "text": [
      "The autoreload extension is already loaded. To reload it, use:\n",
      "  %reload_ext autoreload\n"
     ]
    }
   ],
   "source": [
    "import pandas as pd\n",
    "import numpy as np\n",
    "\n",
    "from src.data import (\n",
    "    read_data\n",
    "    )\n",
    "from src.utils import (\n",
    "    preprocess,\n",
    "    train_and_tune_model,\n",
    "    run_experiments,\n",
    "    save_experiment_results,\n",
    "    load_experiment_results\n",
    ")\n",
    "\n",
    "from src.plot import plot_experiment_results\n",
    "\n",
    "%load_ext autoreload\n",
    "%autoreload 2"
   ]
  },
  {
   "cell_type": "code",
   "execution_count": 3,
   "metadata": {},
   "outputs": [],
   "source": [
    "from src.plot import plot_experiment_results"
   ]
  },
  {
   "cell_type": "code",
   "execution_count": 4,
   "metadata": {},
   "outputs": [],
   "source": [
    "separation_thresholds = {\n",
    "    '0-3': 1.3,  # 0-3 arcmin\n",
    "    '3-6': 1.3,  # 3-6 arcmin\n",
    "    '6+': 2.2    # 6+ arcmin\n",
    "}\n",
    "\n",
    "# read the pos and neg datasets\n",
    "results = read_data(separation_thresholds)"
   ]
  },
  {
   "cell_type": "code",
   "execution_count": 20,
   "metadata": {},
   "outputs": [],
   "source": [
    "# access the positive and negative sets for each threshold range\n",
    "df_pos_0_3 = results['0-3']['df_pos']\n",
    "df_neg_0_3 = results['0-3']['df_neg']\n",
    "df_pos_3_6 = results['3-6']['df_pos']\n",
    "df_neg_3_6 = results['3-6']['df_neg']\n",
    "df_pos_6_plus = results['6+']['df_pos']\n",
    "df_neg_6_plus = results['6+']['df_neg']"
   ]
  },
  {
   "cell_type": "markdown",
   "metadata": {},
   "source": [
    "---\n",
    "#### Preprocessing"
   ]
  },
  {
   "cell_type": "code",
   "execution_count": 8,
   "metadata": {},
   "outputs": [],
   "source": [
    "# preprocess the data without log transformation\n",
    "# split into training and test sets\n",
    "X_train, X_test, Y_train, Y_test, indices_train, indices_test = preprocess(df_pos_0_3, df_neg_0_3, log_transform=False)"
   ]
  },
  {
   "cell_type": "markdown",
   "metadata": {},
   "source": [
    "---\n",
    "#### Baseline Models"
   ]
  },
  {
   "cell_type": "code",
   "execution_count": 9,
   "metadata": {},
   "outputs": [
    {
     "name": "stdout",
     "output_type": "stream",
     "text": [
      "Performing hyperparameter tuning...\n",
      "Fitting 5 folds for each of 10 candidates, totalling 50 fits\n",
      "[CV] END max_depth=30, min_samples_leaf=2, min_samples_split=2, n_estimators=500; total time= 3.0min\n",
      "[CV] END max_depth=30, min_samples_leaf=2, min_samples_split=2, n_estimators=500; total time= 3.1min\n",
      "[CV] END max_depth=30, min_samples_leaf=2, min_samples_split=2, n_estimators=500; total time= 3.1min\n",
      "[CV] END max_depth=30, min_samples_leaf=2, min_samples_split=2, n_estimators=500; total time= 3.4min\n",
      "[CV] END max_depth=30, min_samples_leaf=2, min_samples_split=2, n_estimators=500; total time= 3.4min\n",
      "[CV] END max_depth=70, min_samples_leaf=2, min_samples_split=5, n_estimators=700; total time= 4.3min\n",
      "[CV] END max_depth=70, min_samples_leaf=2, min_samples_split=5, n_estimators=700; total time= 4.8min\n",
      "[CV] END max_depth=70, min_samples_leaf=2, min_samples_split=5, n_estimators=700; total time= 4.8min\n",
      "[CV] END max_depth=100, min_samples_leaf=4, min_samples_split=2, n_estimators=600; total time= 3.8min\n",
      "[CV] END max_depth=100, min_samples_leaf=4, min_samples_split=2, n_estimators=600; total time= 3.9min\n",
      "[CV] END max_depth=100, min_samples_leaf=4, min_samples_split=2, n_estimators=600; total time= 4.1min\n",
      "[CV] END max_depth=70, min_samples_leaf=2, min_samples_split=5, n_estimators=700; total time= 4.5min\n",
      "[CV] END max_depth=70, min_samples_leaf=2, min_samples_split=5, n_estimators=700; total time= 4.7min\n",
      "[CV] END max_depth=100, min_samples_leaf=4, min_samples_split=2, n_estimators=600; total time= 3.8min\n",
      "[CV] END max_depth=90, min_samples_leaf=1, min_samples_split=10, n_estimators=100; total time=  45.0s\n",
      "[CV] END max_depth=100, min_samples_leaf=4, min_samples_split=2, n_estimators=600; total time= 3.8min\n",
      "[CV] END max_depth=90, min_samples_leaf=1, min_samples_split=10, n_estimators=100; total time=  35.4s\n",
      "[CV] END max_depth=100, min_samples_leaf=2, min_samples_split=2, n_estimators=600; total time= 4.3min\n",
      "[CV] END max_depth=90, min_samples_leaf=1, min_samples_split=10, n_estimators=100; total time=  37.6s\n",
      "[CV] END max_depth=90, min_samples_leaf=1, min_samples_split=10, n_estimators=100; total time=  34.7s\n",
      "[CV] END max_depth=90, min_samples_leaf=1, min_samples_split=10, n_estimators=100; total time=  35.0s\n",
      "[CV] END max_depth=None, min_samples_leaf=1, min_samples_split=5, n_estimators=100; total time=  39.0s\n",
      "[CV] END max_depth=None, min_samples_leaf=1, min_samples_split=5, n_estimators=100; total time=  35.8s\n",
      "[CV] END max_depth=None, min_samples_leaf=1, min_samples_split=5, n_estimators=100; total time=  38.0s\n",
      "[CV] END max_depth=None, min_samples_leaf=1, min_samples_split=5, n_estimators=100; total time=  36.2s\n",
      "[CV] END max_depth=None, min_samples_leaf=1, min_samples_split=5, n_estimators=100; total time=  40.8s\n",
      "[CV] END max_depth=100, min_samples_leaf=2, min_samples_split=2, n_estimators=600; total time= 4.0min\n"
     ]
    },
    {
     "name": "stderr",
     "output_type": "stream",
     "text": [
      "/home/ubunsam/miniconda3/envs/starsml/lib/python3.11/site-packages/joblib/externals/loky/process_executor.py:700: UserWarning: A worker stopped while some jobs were given to the executor. This can be caused by a too short worker timeout or by a memory leak.\n",
      "  warnings.warn(\n"
     ]
    },
    {
     "name": "stdout",
     "output_type": "stream",
     "text": [
      "[CV] END max_depth=100, min_samples_leaf=2, min_samples_split=2, n_estimators=600; total time= 3.7min\n",
      "[CV] END max_depth=100, min_samples_leaf=2, min_samples_split=2, n_estimators=600; total time= 3.7min\n",
      "[CV] END max_depth=100, min_samples_leaf=2, min_samples_split=2, n_estimators=600; total time= 4.0min\n",
      "[CV] END max_depth=20, min_samples_leaf=1, min_samples_split=5, n_estimators=800; total time= 4.7min\n",
      "[CV] END max_depth=40, min_samples_leaf=4, min_samples_split=2, n_estimators=600; total time= 3.5min\n",
      "[CV] END max_depth=20, min_samples_leaf=1, min_samples_split=5, n_estimators=800; total time= 4.7min\n",
      "[CV] END max_depth=40, min_samples_leaf=4, min_samples_split=2, n_estimators=600; total time= 3.5min\n",
      "[CV] END max_depth=20, min_samples_leaf=1, min_samples_split=5, n_estimators=800; total time= 5.0min\n",
      "[CV] END max_depth=40, min_samples_leaf=4, min_samples_split=2, n_estimators=600; total time= 3.7min\n",
      "[CV] END max_depth=20, min_samples_leaf=1, min_samples_split=5, n_estimators=800; total time= 5.0min\n",
      "[CV] END max_depth=20, min_samples_leaf=1, min_samples_split=5, n_estimators=800; total time= 4.9min\n",
      "[CV] END max_depth=None, min_samples_leaf=2, min_samples_split=2, n_estimators=200; total time= 1.5min\n",
      "[CV] END max_depth=80, min_samples_leaf=4, min_samples_split=5, n_estimators=500; total time= 3.0min\n",
      "[CV] END max_depth=80, min_samples_leaf=4, min_samples_split=5, n_estimators=500; total time= 3.0min\n",
      "[CV] END max_depth=40, min_samples_leaf=4, min_samples_split=2, n_estimators=600; total time= 3.6min\n",
      "[CV] END max_depth=40, min_samples_leaf=4, min_samples_split=2, n_estimators=600; total time= 3.7min\n",
      "[CV] END max_depth=80, min_samples_leaf=4, min_samples_split=5, n_estimators=500; total time= 3.3min\n",
      "[CV] END max_depth=80, min_samples_leaf=4, min_samples_split=5, n_estimators=500; total time= 3.3min\n",
      "[CV] END max_depth=None, min_samples_leaf=2, min_samples_split=2, n_estimators=200; total time= 1.2min\n",
      "[CV] END max_depth=None, min_samples_leaf=2, min_samples_split=2, n_estimators=200; total time= 1.1min\n",
      "[CV] END max_depth=80, min_samples_leaf=4, min_samples_split=5, n_estimators=500; total time= 3.2min\n",
      "[CV] END max_depth=None, min_samples_leaf=2, min_samples_split=2, n_estimators=200; total time= 1.1min\n",
      "[CV] END max_depth=None, min_samples_leaf=2, min_samples_split=2, n_estimators=200; total time=  50.9s\n",
      "Best parameters found: {'n_estimators': 800, 'min_samples_split': 5, 'min_samples_leaf': 1, 'max_depth': 20}\n",
      "Model performance on the test set:\n",
      "Accuracy: 0.7388158516977206\n",
      "              precision    recall  f1-score   support\n",
      "\n",
      "         0.0       0.75      0.73      0.74     10713\n",
      "         1.0       0.73      0.75      0.74     10433\n",
      "\n",
      "    accuracy                           0.74     21146\n",
      "   macro avg       0.74      0.74      0.74     21146\n",
      "weighted avg       0.74      0.74      0.74     21146\n",
      "\n"
     ]
    }
   ],
   "source": [
    "# model. either rf or lgbm.\n",
    "best_model, y_pred, best_params = train_and_tune_model(X_train, X_test, Y_train, Y_test, model_type='rf', hyperparameter_tuning=True)"
   ]
  },
  {
   "cell_type": "code",
   "execution_count": null,
   "metadata": {},
   "outputs": [],
   "source": [
    "# run experiment\n",
    "results_exp = run_experiments(df_pos_0_3, df_neg_0_3, model_type='rf', hyperparameter_tuning=False)"
   ]
  },
  {
   "cell_type": "code",
   "execution_count": 23,
   "metadata": {},
   "outputs": [
    {
     "name": "stdout",
     "output_type": "stream",
     "text": [
      "experiment results saved in: models/rf_default_seed42_20240708_142049\n"
     ]
    }
   ],
   "source": [
    "# save results\n",
    "experiment_path = save_experiment_results(results_exp, model_type='rf', hyperparameter_tuning=False, random_seed=42)"
   ]
  },
  {
   "cell_type": "code",
   "execution_count": 9,
   "metadata": {},
   "outputs": [
    {
     "name": "stdout",
     "output_type": "stream",
     "text": [
      "experiment results loaded from: models/rf_default_seed42_20240708_142049\n"
     ]
    }
   ],
   "source": [
    "# load results\n",
    "results_exp = load_experiment_results('models/rf_default_seed42_20240708_142049')"
   ]
  },
  {
   "cell_type": "code",
   "execution_count": 49,
   "metadata": {},
   "outputs": [
    {
     "name": "stdout",
     "output_type": "stream",
     "text": [
      "Results saved to figures/experiments/kashyap_2024_07_orion/0-3arcmin_experiment_results.pdf\n"
     ]
    }
   ],
   "source": [
    "# plot experiments\n",
    "plot_experiment_results(results_exp, df_pos_0_3, df_neg_0_3, \"kashyap_2024_07_orion\", \"0-3arcmin\")"
   ]
  }
 ],
 "metadata": {
  "colab": {
   "name": "nn_xmatch.ipynb",
   "provenance": []
  },
  "kernelspec": {
   "display_name": "Python 3 (ipykernel)",
   "language": "python",
   "name": "python3"
  },
  "language_info": {
   "codemirror_mode": {
    "name": "ipython",
    "version": 3
   },
   "file_extension": ".py",
   "mimetype": "text/x-python",
   "name": "python",
   "nbconvert_exporter": "python",
   "pygments_lexer": "ipython3",
   "version": "3.11.4"
  }
 },
 "nbformat": 4,
 "nbformat_minor": 4
}
