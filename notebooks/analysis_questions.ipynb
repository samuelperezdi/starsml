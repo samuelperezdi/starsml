{
 "cells": [
  {
   "cell_type": "code",
   "execution_count": 1,
   "metadata": {
    "colab": {
     "base_uri": "https://localhost:8080/"
    },
    "executionInfo": {
     "elapsed": 1402,
     "status": "ok",
     "timestamp": 1646792485416,
     "user": {
      "displayName": "Juan Martinez Galarza",
      "photoUrl": "https://lh3.googleusercontent.com/a-/AOh14GjbbwXLTiq96SY6wFlM3UCnuViVCCrd_23Uu1S8=s64",
      "userId": "02756929718806781863"
     },
     "user_tz": 300
    },
    "id": "E055Crj-ekHo",
    "outputId": "e87cd569-bb76-49e4-c278-8c385c3af3b3"
   },
   "outputs": [],
   "source": [
    "import sys\n",
    "import os\n",
    "sys.path.append(\"../../\") \n",
    "\n",
    "import pandas as pd\n",
    "from astropy.table import Table\n",
    "from src.data import (\n",
    "    read_votable_to_dataframe,\n",
    "    convert_byte_columns_to_str,\n",
    "    filter_multiple_matches,\n",
    "    get_most_probable_matches,\n",
    "    get_second_most_probable_matches,\n",
    "    get_last_probable_matches,\n",
    "    prepare_final_dataset,\n",
    "    include_classifications,\n",
    "    read_gzipped_votable_to_dataframe\n",
    "    )\n",
    "\n",
    "%load_ext autoreload\n",
    "%autoreload 2"
   ]
  },
  {
   "cell_type": "code",
   "execution_count": 2,
   "metadata": {},
   "outputs": [],
   "source": [
    "# load Dong-Woo nway data\n",
    "t_nway = Table.read('../../data/v3/nway_CSC21_GAIA3.fits', format='fits')\n",
    "t_nway = convert_byte_columns_to_str(t_nway)\n",
    "df_nway_all = t_nway.to_pandas()"
   ]
  },
  {
   "cell_type": "code",
   "execution_count": 3,
   "metadata": {},
   "outputs": [],
   "source": [
    "df_nway_all['CSC21_CSCID'] = df_nway_all['CSC21_CSCID'].str.replace('_', ' ')\n",
    "df_nway_all['CSC21_CSCID'] = df_nway_all['CSC21_CSCID'].str.strip()"
   ]
  },
  {
   "cell_type": "code",
   "execution_count": 4,
   "metadata": {},
   "outputs": [],
   "source": [
    "df_nway_names = pd.DataFrame(df_nway_all['CSC21_CSCID'].unique(), columns=['csc21_name'])"
   ]
  },
  {
   "cell_type": "code",
   "execution_count": 5,
   "metadata": {},
   "outputs": [
    {
     "name": "stderr",
     "output_type": "stream",
     "text": [
      "/tmp/ipykernel_1123/1691537927.py:2: DtypeWarning: Columns (59) have mixed types. Specify dtype option on import or set low_memory=False.\n",
      "  yangetal_gcs = pd.read_csv('../../data/v3/yangetal_gcs.csv')\n"
     ]
    }
   ],
   "source": [
    "# read classification tables\n",
    "yangetal_gcs = pd.read_csv('../../data/v3/yangetal_gcs.csv')\n",
    "yangetal_training = pd.read_csv('../../data/v3/yangetal_training.csv')\n",
    "perezdiazetal_class = pd.read_csv('../../data/v3/uniquely_classified.csv')"
   ]
  },
  {
   "cell_type": "code",
   "execution_count": 6,
   "metadata": {},
   "outputs": [
    {
     "name": "stderr",
     "output_type": "stream",
     "text": [
      "/mnt/d/workspace/starsml/notebooks/v3/../../src/data.py:201: SettingWithCopyWarning: \n",
      "A value is trying to be set on a copy of a slice from a DataFrame\n",
      "\n",
      "See the caveats in the documentation: https://pandas.pydata.org/pandas-docs/stable/user_guide/indexing.html#returning-a-view-versus-a-copy\n",
      "  df_additional_selected.rename(columns=rename_columns, inplace=True)\n",
      "/mnt/d/workspace/starsml/notebooks/v3/../../src/data.py:201: SettingWithCopyWarning: \n",
      "A value is trying to be set on a copy of a slice from a DataFrame\n",
      "\n",
      "See the caveats in the documentation: https://pandas.pydata.org/pandas-docs/stable/user_guide/indexing.html#returning-a-view-versus-a-copy\n",
      "  df_additional_selected.rename(columns=rename_columns, inplace=True)\n",
      "/mnt/d/workspace/starsml/notebooks/v3/../../src/data.py:201: SettingWithCopyWarning: \n",
      "A value is trying to be set on a copy of a slice from a DataFrame\n",
      "\n",
      "See the caveats in the documentation: https://pandas.pydata.org/pandas-docs/stable/user_guide/indexing.html#returning-a-view-versus-a-copy\n",
      "  df_additional_selected.rename(columns=rename_columns, inplace=True)\n"
     ]
    }
   ],
   "source": [
    "# include classifications and export\n",
    "df_nway_all_class = include_classifications(\n",
    "    df_nway_names,\n",
    "    yangetal_gcs,\n",
    "    base_col='csc21_name',\n",
    "    additional_col='CSCv2_name',\n",
    "    additional_columns=['Class'],\n",
    "    rename_columns={'Class': 'yangetal_gcs_class'}\n",
    ")\n",
    "\n",
    "df_nway_all_class = include_classifications(\n",
    "    df_nway_all_class,\n",
    "    yangetal_training,\n",
    "    base_col='csc21_name',\n",
    "    additional_col='name',\n",
    "    additional_columns=['Class'],\n",
    "    rename_columns={'Class': 'yangetal_training_class'}\n",
    ")\n",
    "\n",
    "df_nway_all_class = include_classifications(\n",
    "    df_nway_all_class,\n",
    "    perezdiazetal_class,\n",
    "    base_col='csc21_name',\n",
    "    additional_col='name',\n",
    "    additional_columns=['agg_master_class'],\n",
    "    rename_columns={'agg_master_class': 'perezdiazetal_class'}\n",
    ")"
   ]
  },
  {
   "cell_type": "code",
   "execution_count": 7,
   "metadata": {},
   "outputs": [],
   "source": [
    "# download the whole CSC21 with properties from CSCView.\n",
    "df_csc_all = read_votable_to_dataframe('../../data/v3/csc_all_1.vot')"
   ]
  },
  {
   "cell_type": "code",
   "execution_count": 8,
   "metadata": {},
   "outputs": [],
   "source": [
    "df_csc_nway_complement = df_csc_all.loc[~df_csc_all.name.isin(df_nway_names.csc21_name)][['name']]"
   ]
  },
  {
   "cell_type": "code",
   "execution_count": 9,
   "metadata": {},
   "outputs": [
    {
     "name": "stderr",
     "output_type": "stream",
     "text": [
      "/mnt/d/workspace/starsml/notebooks/v3/../../src/data.py:201: SettingWithCopyWarning: \n",
      "A value is trying to be set on a copy of a slice from a DataFrame\n",
      "\n",
      "See the caveats in the documentation: https://pandas.pydata.org/pandas-docs/stable/user_guide/indexing.html#returning-a-view-versus-a-copy\n",
      "  df_additional_selected.rename(columns=rename_columns, inplace=True)\n",
      "/mnt/d/workspace/starsml/notebooks/v3/../../src/data.py:201: SettingWithCopyWarning: \n",
      "A value is trying to be set on a copy of a slice from a DataFrame\n",
      "\n",
      "See the caveats in the documentation: https://pandas.pydata.org/pandas-docs/stable/user_guide/indexing.html#returning-a-view-versus-a-copy\n",
      "  df_additional_selected.rename(columns=rename_columns, inplace=True)\n",
      "/mnt/d/workspace/starsml/notebooks/v3/../../src/data.py:201: SettingWithCopyWarning: \n",
      "A value is trying to be set on a copy of a slice from a DataFrame\n",
      "\n",
      "See the caveats in the documentation: https://pandas.pydata.org/pandas-docs/stable/user_guide/indexing.html#returning-a-view-versus-a-copy\n",
      "  df_additional_selected.rename(columns=rename_columns, inplace=True)\n"
     ]
    }
   ],
   "source": [
    "# we check the sources that are NOT in Dong Woo's table and find their classifications.\n",
    "df_cscs_nway_comp_class = include_classifications(\n",
    "    df_csc_nway_complement,\n",
    "    yangetal_gcs,\n",
    "    base_col='name',\n",
    "    additional_col='CSCv2_name',\n",
    "    additional_columns=['Class'],\n",
    "    rename_columns={'Class': 'yangetal_gcs_class'}\n",
    ")\n",
    "\n",
    "df_cscs_nway_comp_class = include_classifications(\n",
    "    df_cscs_nway_comp_class,\n",
    "    yangetal_training,\n",
    "    base_col='name',\n",
    "    additional_col='name',\n",
    "    additional_columns=['Class'],\n",
    "    rename_columns={'Class': 'yangetal_training_class'}\n",
    ")\n",
    "\n",
    "df_cscs_nway_comp_class = include_classifications(\n",
    "    df_cscs_nway_comp_class,\n",
    "    perezdiazetal_class,\n",
    "    base_col='name',\n",
    "    additional_col='name',\n",
    "    additional_columns=['agg_master_class'],\n",
    "    rename_columns={'agg_master_class': 'perezdiazetal_class'}\n",
    ")"
   ]
  },
  {
   "cell_type": "code",
   "execution_count": 10,
   "metadata": {},
   "outputs": [
    {
     "data": {
      "text/plain": [
       "NaN        151775\n",
       "AGN           668\n",
       "XB            624\n",
       "Seyfert       258\n",
       "YSO           172\n",
       "Name: perezdiazetal_class, dtype: int64"
      ]
     },
     "execution_count": 10,
     "metadata": {},
     "output_type": "execute_result"
    }
   ],
   "source": [
    "df_cscs_nway_comp_class.perezdiazetal_class.value_counts(dropna=False)"
   ]
  },
  {
   "cell_type": "code",
   "execution_count": 11,
   "metadata": {},
   "outputs": [
    {
     "data": {
      "text/plain": [
       "NaN        132593\n",
       "AGN         16417\n",
       "NS           2188\n",
       "LMXB         1813\n",
       "YSO           424\n",
       "CV             45\n",
       "LM-STAR         9\n",
       "HM-STAR         8\n",
       "Name: yangetal_gcs_class, dtype: int64"
      ]
     },
     "execution_count": 11,
     "metadata": {},
     "output_type": "execute_result"
    }
   ],
   "source": [
    "df_cscs_nway_comp_class.yangetal_gcs_class.value_counts(dropna=False)"
   ]
  },
  {
   "cell_type": "code",
   "execution_count": 12,
   "metadata": {},
   "outputs": [
    {
     "data": {
      "text/plain": [
       "(153497, 4)"
      ]
     },
     "execution_count": 12,
     "metadata": {},
     "output_type": "execute_result"
    }
   ],
   "source": [
    "df_cscs_nway_comp_class.shape"
   ]
  },
  {
   "cell_type": "code",
   "execution_count": 13,
   "metadata": {},
   "outputs": [
    {
     "name": "stdout",
     "output_type": "stream",
     "text": [
      "Number of sources with multiple stacks:  (49827, 2)\n"
     ]
    }
   ],
   "source": [
    "# now we are analyzing how many master sources have multiple unique stacks\n",
    "\n",
    "count_stacks = read_votable_to_dataframe('../../data/v3/count_stacks_per_master_source.vot')\n",
    "print('Number of sources with multiple stacks: ', count_stacks.query('count_stacks > 1').shape)"
   ]
  },
  {
   "cell_type": "code",
   "execution_count": 14,
   "metadata": {},
   "outputs": [
    {
     "data": {
      "text/html": [
       "<div>\n",
       "<style scoped>\n",
       "    .dataframe tbody tr th:only-of-type {\n",
       "        vertical-align: middle;\n",
       "    }\n",
       "\n",
       "    .dataframe tbody tr th {\n",
       "        vertical-align: top;\n",
       "    }\n",
       "\n",
       "    .dataframe thead th {\n",
       "        text-align: right;\n",
       "    }\n",
       "</style>\n",
       "<table border=\"1\" class=\"dataframe\">\n",
       "  <thead>\n",
       "    <tr style=\"text-align: right;\">\n",
       "      <th></th>\n",
       "      <th>name</th>\n",
       "      <th>count_stacks</th>\n",
       "    </tr>\n",
       "  </thead>\n",
       "  <tbody>\n",
       "    <tr>\n",
       "      <th>0</th>\n",
       "      <td>2CXO J000000.0+004331</td>\n",
       "      <td>1</td>\n",
       "    </tr>\n",
       "    <tr>\n",
       "      <th>1</th>\n",
       "      <td>2CXO J000000.1+623124</td>\n",
       "      <td>1</td>\n",
       "    </tr>\n",
       "    <tr>\n",
       "      <th>2</th>\n",
       "      <td>2CXO J000000.2-501250</td>\n",
       "      <td>1</td>\n",
       "    </tr>\n",
       "    <tr>\n",
       "      <th>3</th>\n",
       "      <td>2CXO J000000.3+321702</td>\n",
       "      <td>1</td>\n",
       "    </tr>\n",
       "    <tr>\n",
       "      <th>4</th>\n",
       "      <td>2CXO J000000.5+321232</td>\n",
       "      <td>1</td>\n",
       "    </tr>\n",
       "    <tr>\n",
       "      <th>...</th>\n",
       "      <td>...</td>\n",
       "      <td>...</td>\n",
       "    </tr>\n",
       "    <tr>\n",
       "      <th>407801</th>\n",
       "      <td>2CXO J010236.6-720819</td>\n",
       "      <td>60</td>\n",
       "    </tr>\n",
       "    <tr>\n",
       "      <th>407802</th>\n",
       "      <td>2CXO J010325.2-720643</td>\n",
       "      <td>64</td>\n",
       "    </tr>\n",
       "    <tr>\n",
       "      <th>407803</th>\n",
       "      <td>2CXO J010206.5-714536</td>\n",
       "      <td>74</td>\n",
       "    </tr>\n",
       "    <tr>\n",
       "      <th>407804</th>\n",
       "      <td>2CXO J220840.7+454432</td>\n",
       "      <td>102</td>\n",
       "    </tr>\n",
       "    <tr>\n",
       "      <th>407805</th>\n",
       "      <td>2CXO J010401.9-720153X</td>\n",
       "      <td>113</td>\n",
       "    </tr>\n",
       "  </tbody>\n",
       "</table>\n",
       "<p>407806 rows × 2 columns</p>\n",
       "</div>"
      ],
      "text/plain": [
       "                          name  count_stacks\n",
       "0        2CXO J000000.0+004331             1\n",
       "1        2CXO J000000.1+623124             1\n",
       "2        2CXO J000000.2-501250             1\n",
       "3        2CXO J000000.3+321702             1\n",
       "4        2CXO J000000.5+321232             1\n",
       "...                        ...           ...\n",
       "407801   2CXO J010236.6-720819            60\n",
       "407802   2CXO J010325.2-720643            64\n",
       "407803   2CXO J010206.5-714536            74\n",
       "407804   2CXO J220840.7+454432           102\n",
       "407805  2CXO J010401.9-720153X           113\n",
       "\n",
       "[407806 rows x 2 columns]"
      ]
     },
     "execution_count": 14,
     "metadata": {},
     "output_type": "execute_result"
    }
   ],
   "source": [
    "count_stacks"
   ]
  },
  {
   "cell_type": "markdown",
   "metadata": {},
   "source": [
    "---"
   ]
  },
  {
   "cell_type": "code",
   "execution_count": null,
   "metadata": {},
   "outputs": [],
   "source": [
    "# count the trainining and test proportions\n",
    "from collections import Counter\n",
    "\n",
    "def class_proportions(y):\n",
    "    counts = Counter(y)\n",
    "    total = len(y)\n",
    "    proportions = {key: value / total for key, value in counts.items()}\n",
    "    return proportions\n",
    "\n",
    "train_proportions = class_proportions(Y_train)\n",
    "test_proportions = class_proportions(Y_test)\n",
    "\n",
    "print(\"Training proportions:\", train_proportions)\n",
    "print(\"Test proportions:\", test_proportions)"
   ]
  },
  {
   "cell_type": "code",
   "execution_count": null,
   "metadata": {},
   "outputs": [],
   "source": [
    "# compute the number of nans (percentage) for each feature\n",
    "num_samples = X.shape[0]\n",
    "nan_count_per_feature = np.isnan(X).sum(axis=0)\n",
    "\n",
    "# Calculate the percentage for each feature\n",
    "nan_percentage_per_feature = (nan_count_per_feature / num_samples) * 100\n",
    "\n",
    "for i, percentage in enumerate(nan_percentage_per_feature):\n",
    "    print(f\"Percentage of NaN values in feature {feature_names[i]}: {percentage:.2f}%\")"
   ]
  }
 ],
 "metadata": {
  "colab": {
   "name": "nn_xmatch.ipynb",
   "provenance": []
  },
  "kernelspec": {
   "display_name": "Python 3 (ipykernel)",
   "language": "python",
   "name": "python3"
  },
  "language_info": {
   "codemirror_mode": {
    "name": "ipython",
    "version": 3
   },
   "file_extension": ".py",
   "mimetype": "text/x-python",
   "name": "python",
   "nbconvert_exporter": "python",
   "pygments_lexer": "ipython3",
   "version": "3.1.-1"
  }
 },
 "nbformat": 4,
 "nbformat_minor": 4
}
