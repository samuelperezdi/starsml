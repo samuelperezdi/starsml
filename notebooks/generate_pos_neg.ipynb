{
 "cells": [
  {
   "cell_type": "code",
   "execution_count": 1,
   "metadata": {},
   "outputs": [],
   "source": [
    "# run only once\n",
    "import sys\n",
    "import os\n",
    "sys.path.append(\"../../\")\n",
    "os.chdir(\"../../\")"
   ]
  },
  {
   "cell_type": "code",
   "execution_count": 2,
   "metadata": {
    "colab": {
     "base_uri": "https://localhost:8080/"
    },
    "executionInfo": {
     "elapsed": 1402,
     "status": "ok",
     "timestamp": 1646792485416,
     "user": {
      "displayName": "Juan Martinez Galarza",
      "photoUrl": "https://lh3.googleusercontent.com/a-/AOh14GjbbwXLTiq96SY6wFlM3UCnuViVCCrd_23Uu1S8=s64",
      "userId": "02756929718806781863"
     },
     "user_tz": 300
    },
    "id": "E055Crj-ekHo",
    "outputId": "e87cd569-bb76-49e4-c278-8c385c3af3b3"
   },
   "outputs": [],
   "source": [
    "import pandas as pd\n",
    "from src.data import (\n",
    "    get_data,\n",
    "    create_additional_negatives\n",
    "    )\n",
    "\n",
    "%load_ext autoreload\n",
    "%autoreload 2"
   ]
  },
  {
   "cell_type": "code",
   "execution_count": 3,
   "metadata": {},
   "outputs": [],
   "source": [
    "# create additional negatives for best matches without any \"worst\" optical counterpart\n",
    "# saved in additional_negatives.csv\n",
    "create_additional_negatives()"
   ]
  },
  {
   "cell_type": "code",
   "execution_count": 3,
   "metadata": {},
   "outputs": [
    {
     "name": "stderr",
     "output_type": "stream",
     "text": [
      "/mnt/d/workspace/starsml/src/data.py:366: SettingWithCopyWarning: \n",
      "A value is trying to be set on a copy of a slice from a DataFrame\n",
      "\n",
      "See the caveats in the documentation: https://pandas.pydata.org/pandas-docs/stable/user_guide/indexing.html#returning-a-view-versus-a-copy\n",
      "  df_pos.sort_values('csc21_name', inplace=True)\n",
      "/mnt/d/workspace/starsml/src/data.py:367: SettingWithCopyWarning: \n",
      "A value is trying to be set on a copy of a slice from a DataFrame\n",
      "\n",
      "See the caveats in the documentation: https://pandas.pydata.org/pandas-docs/stable/user_guide/indexing.html#returning-a-view-versus-a-copy\n",
      "  df_neg.sort_values('csc21_name', inplace=True)\n",
      "/mnt/d/workspace/starsml/src/data.py:366: SettingWithCopyWarning: \n",
      "A value is trying to be set on a copy of a slice from a DataFrame\n",
      "\n",
      "See the caveats in the documentation: https://pandas.pydata.org/pandas-docs/stable/user_guide/indexing.html#returning-a-view-versus-a-copy\n",
      "  df_pos.sort_values('csc21_name', inplace=True)\n",
      "/mnt/d/workspace/starsml/src/data.py:367: SettingWithCopyWarning: \n",
      "A value is trying to be set on a copy of a slice from a DataFrame\n",
      "\n",
      "See the caveats in the documentation: https://pandas.pydata.org/pandas-docs/stable/user_guide/indexing.html#returning-a-view-versus-a-copy\n",
      "  df_neg.sort_values('csc21_name', inplace=True)\n",
      "/mnt/d/workspace/starsml/src/data.py:366: SettingWithCopyWarning: \n",
      "A value is trying to be set on a copy of a slice from a DataFrame\n",
      "\n",
      "See the caveats in the documentation: https://pandas.pydata.org/pandas-docs/stable/user_guide/indexing.html#returning-a-view-versus-a-copy\n",
      "  df_pos.sort_values('csc21_name', inplace=True)\n",
      "/mnt/d/workspace/starsml/src/data.py:367: SettingWithCopyWarning: \n",
      "A value is trying to be set on a copy of a slice from a DataFrame\n",
      "\n",
      "See the caveats in the documentation: https://pandas.pydata.org/pandas-docs/stable/user_guide/indexing.html#returning-a-view-versus-a-copy\n",
      "  df_neg.sort_values('csc21_name', inplace=True)\n"
     ]
    }
   ],
   "source": [
    "separation_thresholds = {\n",
    "    '0-3': 1.3,  # 0-3 arcmin\n",
    "    '3-6': 1.3,  # 3-6 arcmin\n",
    "    '6+': 2.2    # 6+ arcmin\n",
    "}\n",
    "\n",
    "# process and create the pos and neg datasets\n",
    "# save them as df_neg and df_pos\n",
    "results = get_data(separation_thresholds)"
   ]
  },
  {
   "cell_type": "code",
   "execution_count": 4,
   "metadata": {},
   "outputs": [],
   "source": [
    "# access the positive and negative sets for each threshold range\n",
    "df_pos_0_3 = results['0-3']['df_pos']\n",
    "df_neg_0_3 = results['0-3']['df_neg']\n",
    "df_pos_3_6 = results['3-6']['df_pos']\n",
    "df_neg_3_6 = results['3-6']['df_neg']\n",
    "df_pos_6_plus = results['6+']['df_pos']\n",
    "df_neg_6_plus = results['6+']['df_neg']"
   ]
  },
  {
   "cell_type": "code",
   "execution_count": 6,
   "metadata": {},
   "outputs": [
    {
     "data": {
      "text/plain": [
       "3              NaN\n",
       "55       -4.323144\n",
       "75       -0.968815\n",
       "85             NaN\n",
       "90             NaN\n",
       "            ...   \n",
       "254240   -0.120824\n",
       "254258         NaN\n",
       "254286    0.257575\n",
       "254293   -0.898031\n",
       "254300   -0.132034\n",
       "Name: parallax, Length: 35242, dtype: float64"
      ]
     },
     "execution_count": 6,
     "metadata": {},
     "output_type": "execute_result"
    }
   ],
   "source": [
    "df_pos_0_3.parallax"
   ]
  },
  {
   "cell_type": "code",
   "execution_count": 7,
   "metadata": {},
   "outputs": [],
   "source": [
    "# save the resulting dataframes if needed\n",
    "df_pos_0_3.to_csv('out_data/df_pos_0_3.csv', index=False)\n",
    "df_neg_0_3.to_csv('out_data/df_neg_0_3.csv', index=False)\n",
    "df_pos_3_6.to_csv('out_data/df_pos_3_6.csv', index=False)\n",
    "df_neg_3_6.to_csv('out_data/df_neg_3_6.csv', index=False)\n",
    "df_pos_6_plus.to_csv('out_data/df_pos_6_plus.csv', index=False)\n",
    "df_neg_6_plus.to_csv('out_data/df_neg_6_plus.csv', index=False)"
   ]
  }
 ],
 "metadata": {
  "colab": {
   "name": "nn_xmatch.ipynb",
   "provenance": []
  },
  "kernelspec": {
   "display_name": "Python 3 (ipykernel)",
   "language": "python",
   "name": "python3"
  },
  "language_info": {
   "codemirror_mode": {
    "name": "ipython",
    "version": 3
   },
   "file_extension": ".py",
   "mimetype": "text/x-python",
   "name": "python",
   "nbconvert_exporter": "python",
   "pygments_lexer": "ipython3",
   "version": "3.11.4"
  }
 },
 "nbformat": 4,
 "nbformat_minor": 4
}
