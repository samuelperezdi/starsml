{
 "cells": [
  {
   "cell_type": "code",
   "execution_count": 1,
   "metadata": {
    "colab": {
     "base_uri": "https://localhost:8080/"
    },
    "executionInfo": {
     "elapsed": 1402,
     "status": "ok",
     "timestamp": 1646792485416,
     "user": {
      "displayName": "Juan Martinez Galarza",
      "photoUrl": "https://lh3.googleusercontent.com/a-/AOh14GjbbwXLTiq96SY6wFlM3UCnuViVCCrd_23Uu1S8=s64",
      "userId": "02756929718806781863"
     },
     "user_tz": 300
    },
    "id": "E055Crj-ekHo",
    "outputId": "e87cd569-bb76-49e4-c278-8c385c3af3b3"
   },
   "outputs": [],
   "source": [
    "%matplotlib inline\n",
    "import numpy as np\n",
    "import pandas as pd\n",
    "import matplotlib.pyplot as plt\n",
    "import seaborn as sns\n",
    "\n",
    "from sklearn.impute import SimpleImputer\n",
    "from sklearn.metrics import precision_score, recall_score, f1_score, roc_curve, auc, roc_auc_score, accuracy_score\n",
    "from sklearn.linear_model import LogisticRegression\n",
    "from sklearn.ensemble import RandomForestClassifier\n",
    "from sklearn.svm import SVC\n",
    "from sklearn.preprocessing import StandardScaler\n",
    "from sklearn.model_selection import train_test_split\n",
    "from sklearn.metrics import confusion_matrix\n",
    "from sklearn.inspection import permutation_importance\n",
    "\n",
    "from utils import votable_to_pandas\n",
    "from astropy.table import Table"
   ]
  },
  {
   "cell_type": "code",
   "execution_count": 3,
   "metadata": {},
   "outputs": [],
   "source": [
    "def_last_prob_df = pd.read_csv('out_data/last_new.csv')\n",
    "def_second_prob_df = pd.read_csv('out_data/second_new.csv')\n",
    "def_first_prob_df = pd.read_csv('out_data/most_probable_new.csv')"
   ]
  },
  {
   "cell_type": "code",
   "execution_count": 42,
   "metadata": {},
   "outputs": [],
   "source": [
    "def_first_prob_df = pd.read_csv('out_data/most_probable_new.csv')"
   ]
  },
  {
   "cell_type": "code",
   "execution_count": 35,
   "metadata": {},
   "outputs": [],
   "source": [
    "#check\n",
    "def_first_prob_df = pd.read_csv('out_data/def_most_prob.csv')"
   ]
  },
  {
   "cell_type": "code",
   "execution_count": 46,
   "metadata": {},
   "outputs": [],
   "source": [
    "def_first_prob_df_filtered = def_first_prob_df.query('nway_separation < 0.2')\n",
    "# Extract unique chandra_source_id values from def_first_prob_df\n",
    "chandra_ids_in_first = def_first_prob_df_filtered['chandra_source_id'].unique()\n",
    "\n",
    "# Filter def_second_prob_df and def_last_prob_df based on the extracted chandra_source_id values\n",
    "filtered_second_prob_df = def_second_prob_df[def_second_prob_df['chandra_source_id'].isin(chandra_ids_in_first)]\n",
    "filtered_last_prob_df = def_last_prob_df[def_last_prob_df['chandra_source_id'].isin(chandra_ids_in_first)]"
   ]
  },
  {
   "cell_type": "code",
   "execution_count": 44,
   "metadata": {},
   "outputs": [
    {
     "data": {
      "text/plain": [
       "12302"
      ]
     },
     "execution_count": 44,
     "metadata": {},
     "output_type": "execute_result"
    }
   ],
   "source": [
    "def_first_prob_df_filtered.name.isna().sum()"
   ]
  },
  {
   "cell_type": "code",
   "execution_count": 45,
   "metadata": {},
   "outputs": [
    {
     "name": "stdout",
     "output_type": "stream",
     "text": [
      "0.10262356621480709\n"
     ]
    }
   ],
   "source": [
    "count_of_nan_chandra = def_first_prob_df_filtered.name.isna().sum()\n",
    "print(count_of_nan_chandra/def_first_prob_df.shape[0])"
   ]
  },
  {
   "cell_type": "code",
   "execution_count": 24,
   "metadata": {},
   "outputs": [
    {
     "name": "stderr",
     "output_type": "stream",
     "text": [
      "/home/ubunsam/miniconda3/envs/starsml/lib/python3.11/site-packages/pandas/core/arraylike.py:402: RuntimeWarning: invalid value encountered in log10\n",
      "  result = getattr(ufunc, method)(*inputs, **kwargs)\n"
     ]
    }
   ],
   "source": [
    "from matplotlib.backends.backend_pdf import PdfPages\n",
    "\n",
    "features = [ \n",
    "    'phot_g_mean_mag', 'phot_bp_mean_mag', 'phot_rp_mean_mag', 'bp_rp', 'bp_g', 'g_rp', 'parallax', 'parallax_over_error',\n",
    "    'hard_hs',\n",
    "    'hard_hm',\n",
    "    'hard_ms',\n",
    "    'var_intra_prob_b',\n",
    "    'var_inter_prob_b',\n",
    "]\n",
    "\n",
    "with PdfPages('figures/chandra_gaia_nway_exp/distributions_separation_g0.2_new.pdf') as pdf:\n",
    "    for feature in features:\n",
    "        fig, ax = plt.subplots(figsize=(15, 5))\n",
    "        \n",
    "        if feature == 'parallax':\n",
    "            ax.hist(np.log10(1/def_first_prob_df_filtered[feature]), bins=40, histtype='step', linewidth=3, label='First', density=True)\n",
    "            ax.hist(np.log10(1/filtered_second_prob_df[feature]), bins=40, histtype='step', linewidth=3, label='Second', density=True)\n",
    "            ax.hist(np.log10(1/filtered_last_prob_df[feature]), bins=40, histtype='step', linewidth=3, label='Last', density=True)\n",
    "            ax.set_title(f'log(1/{feature})')\n",
    "            \n",
    "        elif feature == 'parallax_over_error' or feature == 'flux_aper_b':\n",
    "            ax.hist(np.log10(def_first_prob_df_filtered[feature]), bins=40, histtype='step', linewidth=3, label='First', density=True)\n",
    "            ax.hist(np.log10(filtered_second_prob_df[feature]), bins=40, histtype='step', linewidth=3, label='Second', density=True)\n",
    "            ax.hist(np.log10(filtered_last_prob_df[feature]), bins=40, histtype='step', linewidth=3, label='Last', density=True)\n",
    "            ax.set_title(f'log({feature})')\n",
    "            \n",
    "        else:\n",
    "            ax.hist(def_first_prob_df_filtered[feature], bins=40, histtype='step', linewidth=3, label='First', density=True)\n",
    "            ax.hist(filtered_second_prob_df[feature], bins=40, histtype='step', linewidth=3, label='Second', density=True)\n",
    "            ax.hist(filtered_last_prob_df[feature], bins=40, histtype='step', linewidth=3,label='Last', density=True)\n",
    "            ax.set_title(f'{feature}')\n",
    "        \n",
    "        ax.legend()\n",
    "\n",
    "        pdf.savefig(fig)  # Saves the current figure into a PDF page\n",
    "        plt.close()  # Close the figure to free up memory"
   ]
  },
  {
   "cell_type": "code",
   "execution_count": 25,
   "metadata": {},
   "outputs": [],
   "source": [
    "from astropy.coordinates import SkyCoord\n",
    "import astropy.units as u\n",
    "\n",
    "# Assuming dfs is a list of your three datasets\n",
    "dfs = [def_first_prob_df_filtered]  # Replace with actual dataset variables\n",
    "names = ['First']\n",
    "\n",
    "with PdfPages('figures/chandra_gaia_nway_exp/sky_distribution_g0.2_scatter_new.pdf') as pdf:\n",
    "    # Create a single row with three subplots\n",
    "    fig, axes = plt.subplots(1, 1, figsize=(15, 5), subplot_kw={'projection': 'mollweide'})\n",
    "\n",
    "    for df, name in zip(dfs, names):\n",
    "        # Transform coordinates to Galactic\n",
    "        skycoord = SkyCoord(ra=df['ra']*u.degree, dec=df['dec']*u.degree, frame='icrs')\n",
    "        galactic = skycoord.galactic\n",
    "        l_rad = galactic.l.wrap_at(180*u.degree).radian\n",
    "        b_rad = galactic.b.radian\n",
    "\n",
    "        # KDE plot\n",
    "        sns.scatterplot(x=l_rad, y=b_rad, ax=axes,  rasterized=True, s=2)\n",
    "\n",
    "        # Set title for each subplot\n",
    "        ax.set_title(name)\n",
    "\n",
    "    # Super title for the entire figure\n",
    "    plt.suptitle(\"Sky Distribution in Galactic Coordinates\")\n",
    "\n",
    "    # Save the figure into the PDF\n",
    "    pdf.savefig(fig, dpi=150)\n",
    "\n",
    "    # Close the figure to free up memory\n",
    "    plt.close(fig)"
   ]
  }
 ],
 "metadata": {
  "colab": {
   "name": "nn_xmatch.ipynb",
   "provenance": []
  },
  "kernelspec": {
   "display_name": "Python 3 (ipykernel)",
   "language": "python",
   "name": "python3"
  },
  "language_info": {
   "codemirror_mode": {
    "name": "ipython",
    "version": 3
   },
   "file_extension": ".py",
   "mimetype": "text/x-python",
   "name": "python",
   "nbconvert_exporter": "python",
   "pygments_lexer": "ipython3",
   "version": "3.11.4"
  }
 },
 "nbformat": 4,
 "nbformat_minor": 4
}
