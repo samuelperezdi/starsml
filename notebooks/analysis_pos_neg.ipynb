{
 "cells": [
  {
   "cell_type": "code",
   "execution_count": 22,
   "metadata": {},
   "outputs": [],
   "source": [
    "import pandas as pd\n",
    "import numpy as np\n",
    "import matplotlib.pyplot as plt\n",
    "import seaborn as sns\n",
    "from sklearn.metrics import confusion_matrix, classification_report\n",
    "\n",
    "# load data\n",
    "df_neg= pd.read_parquet('../out_data/full_negatives/df_neg_0-3.parquet')\n",
    "df_pos = pd.read_parquet('../out_data/full_negatives/df_pos_0-3.parquet')\n",
    "\n",
    "probabilities = ['p_i', 'p_match_ind', 'p_prod', 'p_match_any', 'p_match_norm', 'p_prod_any', 'p_prod_norm', 'p_prod_norm_renorm']"
   ]
  },
  {
   "cell_type": "code",
   "execution_count": 23,
   "metadata": {},
   "outputs": [
    {
     "data": {
      "text/plain": [
       "(32107, 75)"
      ]
     },
     "execution_count": 23,
     "metadata": {},
     "output_type": "execute_result"
    }
   ],
   "source": [
    "df_pos.shape"
   ]
  },
  {
   "cell_type": "code",
   "execution_count": 28,
   "metadata": {},
   "outputs": [
    {
     "data": {
      "text/plain": [
       "347075"
      ]
     },
     "execution_count": 28,
     "metadata": {},
     "output_type": "execute_result"
    }
   ],
   "source": [
    "(df_neg.negative_type == 'intermediate').sum()"
   ]
  },
  {
   "cell_type": "code",
   "execution_count": 35,
   "metadata": {},
   "outputs": [
    {
     "data": {
      "text/plain": [
       "csc21_name         2CXO J201742.0+364540\n",
       "gaia3_source_id      2060546195600147456\n",
       "Name: 3370534, dtype: object"
      ]
     },
     "execution_count": 35,
     "metadata": {},
     "output_type": "execute_result"
    }
   ],
   "source": [
    "df_neg.iloc[3370534][['csc21_name', 'gaia3_source_id']]"
   ]
  }
 ],
 "metadata": {
  "colab": {
   "name": "nn_xmatch.ipynb",
   "provenance": []
  },
  "kernelspec": {
   "display_name": "Python 3 (ipykernel)",
   "language": "python",
   "name": "python3"
  },
  "language_info": {
   "codemirror_mode": {
    "name": "ipython",
    "version": 3
   },
   "file_extension": ".py",
   "mimetype": "text/x-python",
   "name": "python",
   "nbconvert_exporter": "python",
   "pygments_lexer": "ipython3",
   "version": "3.9.19"
  }
 },
 "nbformat": 4,
 "nbformat_minor": 4
}
