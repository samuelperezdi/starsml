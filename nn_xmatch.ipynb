{
 "cells": [
  {
   "cell_type": "code",
   "execution_count": 1,
   "metadata": {
    "colab": {
     "base_uri": "https://localhost:8080/"
    },
    "executionInfo": {
     "elapsed": 1402,
     "status": "ok",
     "timestamp": 1646792485416,
     "user": {
      "displayName": "Juan Martinez Galarza",
      "photoUrl": "https://lh3.googleusercontent.com/a-/AOh14GjbbwXLTiq96SY6wFlM3UCnuViVCCrd_23Uu1S8=s64",
      "userId": "02756929718806781863"
     },
     "user_tz": 300
    },
    "id": "E055Crj-ekHo",
    "outputId": "e87cd569-bb76-49e4-c278-8c385c3af3b3"
   },
   "outputs": [
    {
     "name": "stdout",
     "output_type": "stream",
     "text": [
      "Populating the interactive namespace from numpy and matplotlib\n"
     ]
    }
   ],
   "source": [
    "%pylab inline\n",
    "import numpy as np\n",
    "import pandas as pd\n",
    "import matplotlib.pyplot as plt\n",
    "from sklearn.impute import SimpleImputer"
   ]
  },
  {
   "cell_type": "code",
   "execution_count": 2,
   "metadata": {
    "executionInfo": {
     "elapsed": 5259,
     "status": "ok",
     "timestamp": 1646792493960,
     "user": {
      "displayName": "Juan Martinez Galarza",
      "photoUrl": "https://lh3.googleusercontent.com/a-/AOh14GjbbwXLTiq96SY6wFlM3UCnuViVCCrd_23Uu1S8=s64",
      "userId": "02756929718806781863"
     },
     "user_tz": 300
    },
    "id": "2LRxsySgekHs"
   },
   "outputs": [],
   "source": [
    "#from keras import models\n",
    "#from keras import layers\n",
    "import tensorflow as tf\n",
    "from tensorflow.keras import models\n",
    "from tensorflow.keras import layers"
   ]
  },
  {
   "cell_type": "code",
   "execution_count": 3,
   "metadata": {
    "colab": {
     "base_uri": "https://localhost:8080/",
     "height": 312
    },
    "executionInfo": {
     "elapsed": 1181,
     "status": "error",
     "timestamp": 1646792500772,
     "user": {
      "displayName": "Juan Martinez Galarza",
      "photoUrl": "https://lh3.googleusercontent.com/a-/AOh14GjbbwXLTiq96SY6wFlM3UCnuViVCCrd_23Uu1S8=s64",
      "userId": "02756929718806781863"
     },
     "user_tz": 300
    },
    "id": "7QhudkQVekHs",
    "outputId": "7e4cfd85-b46a-4103-a99d-f90d3c986cfb"
   },
   "outputs": [],
   "source": [
    "df_good1 = pd.read_csv('likely_matches_plane.csv')"
   ]
  },
  {
   "cell_type": "code",
   "execution_count": 4,
   "metadata": {},
   "outputs": [
    {
     "data": {
      "text/html": [
       "<div>\n",
       "<style scoped>\n",
       "    .dataframe tbody tr th:only-of-type {\n",
       "        vertical-align: middle;\n",
       "    }\n",
       "\n",
       "    .dataframe tbody tr th {\n",
       "        vertical-align: top;\n",
       "    }\n",
       "\n",
       "    .dataframe thead th {\n",
       "        text-align: right;\n",
       "    }\n",
       "</style>\n",
       "<table border=\"1\" class=\"dataframe\">\n",
       "  <thead>\n",
       "    <tr style=\"text-align: right;\">\n",
       "      <th></th>\n",
       "      <th>ens</th>\n",
       "      <th>csc2_pref</th>\n",
       "      <th>csc2_id</th>\n",
       "      <th>csc2_ra</th>\n",
       "      <th>csc2_dec</th>\n",
       "      <th>csc2_mjr</th>\n",
       "      <th>csc2_mnr</th>\n",
       "      <th>csc2_alpha</th>\n",
       "      <th>tic_id</th>\n",
       "      <th>gaia_ra</th>\n",
       "      <th>...</th>\n",
       "      <th>radius_val</th>\n",
       "      <th>radius_percentile_lower</th>\n",
       "      <th>radius_percentile_upper</th>\n",
       "      <th>lum_val</th>\n",
       "      <th>lum_percentile_lower</th>\n",
       "      <th>lum_percentile_upper</th>\n",
       "      <th>ruwe</th>\n",
       "      <th>objID</th>\n",
       "      <th>mag</th>\n",
       "      <th>Separation</th>\n",
       "    </tr>\n",
       "  </thead>\n",
       "  <tbody>\n",
       "    <tr>\n",
       "      <th>0</th>\n",
       "      <td>2</td>\n",
       "      <td>2CXO</td>\n",
       "      <td>J172249.6-340731</td>\n",
       "      <td>260.706734</td>\n",
       "      <td>-34.125397</td>\n",
       "      <td>0.564860</td>\n",
       "      <td>0.498994</td>\n",
       "      <td>149.326996</td>\n",
       "      <td>157069725</td>\n",
       "      <td>260.706845</td>\n",
       "      <td>...</td>\n",
       "      <td>NaN</td>\n",
       "      <td>NaN</td>\n",
       "      <td>NaN</td>\n",
       "      <td>NaN</td>\n",
       "      <td>NaN</td>\n",
       "      <td>NaN</td>\n",
       "      <td>1.051552</td>\n",
       "      <td>5976081920165540608</td>\n",
       "      <td>17.63650</td>\n",
       "      <td>4.844400e-07</td>\n",
       "    </tr>\n",
       "    <tr>\n",
       "      <th>1</th>\n",
       "      <td>2</td>\n",
       "      <td>2CXO</td>\n",
       "      <td>J172251.0-341740</td>\n",
       "      <td>260.712829</td>\n",
       "      <td>-34.294690</td>\n",
       "      <td>1.689860</td>\n",
       "      <td>1.689860</td>\n",
       "      <td>0.000000</td>\n",
       "      <td>157067351</td>\n",
       "      <td>260.712794</td>\n",
       "      <td>...</td>\n",
       "      <td>NaN</td>\n",
       "      <td>NaN</td>\n",
       "      <td>NaN</td>\n",
       "      <td>NaN</td>\n",
       "      <td>NaN</td>\n",
       "      <td>NaN</td>\n",
       "      <td>0.992697</td>\n",
       "      <td>5976075426174823552</td>\n",
       "      <td>17.71515</td>\n",
       "      <td>1.806797e-07</td>\n",
       "    </tr>\n",
       "    <tr>\n",
       "      <th>2</th>\n",
       "      <td>2</td>\n",
       "      <td>2CXO</td>\n",
       "      <td>J172251.9-340641</td>\n",
       "      <td>260.716280</td>\n",
       "      <td>-34.111631</td>\n",
       "      <td>0.405358</td>\n",
       "      <td>0.403091</td>\n",
       "      <td>154.184006</td>\n",
       "      <td>157069916</td>\n",
       "      <td>260.716463</td>\n",
       "      <td>...</td>\n",
       "      <td>0.717821</td>\n",
       "      <td>0.673574</td>\n",
       "      <td>0.814876</td>\n",
       "      <td>0.166019</td>\n",
       "      <td>0.164051</td>\n",
       "      <td>0.167986</td>\n",
       "      <td>0.858655</td>\n",
       "      <td>5976082023244783488</td>\n",
       "      <td>13.07753</td>\n",
       "      <td>4.127832e-07</td>\n",
       "    </tr>\n",
       "    <tr>\n",
       "      <th>3</th>\n",
       "      <td>2</td>\n",
       "      <td>2CXO</td>\n",
       "      <td>J172256.1-340911</td>\n",
       "      <td>260.733861</td>\n",
       "      <td>-34.153061</td>\n",
       "      <td>0.566628</td>\n",
       "      <td>0.492231</td>\n",
       "      <td>127.488991</td>\n",
       "      <td>157069319</td>\n",
       "      <td>260.733961</td>\n",
       "      <td>...</td>\n",
       "      <td>NaN</td>\n",
       "      <td>NaN</td>\n",
       "      <td>NaN</td>\n",
       "      <td>NaN</td>\n",
       "      <td>NaN</td>\n",
       "      <td>NaN</td>\n",
       "      <td>1.093276</td>\n",
       "      <td>5976081649585027456</td>\n",
       "      <td>15.53457</td>\n",
       "      <td>4.225821e-07</td>\n",
       "    </tr>\n",
       "    <tr>\n",
       "      <th>4</th>\n",
       "      <td>2</td>\n",
       "      <td>2CXO</td>\n",
       "      <td>J172256.4-340535</td>\n",
       "      <td>260.735411</td>\n",
       "      <td>-34.093298</td>\n",
       "      <td>0.561330</td>\n",
       "      <td>0.561330</td>\n",
       "      <td>0.000000</td>\n",
       "      <td>1547317350</td>\n",
       "      <td>260.735628</td>\n",
       "      <td>...</td>\n",
       "      <td>NaN</td>\n",
       "      <td>NaN</td>\n",
       "      <td>NaN</td>\n",
       "      <td>NaN</td>\n",
       "      <td>NaN</td>\n",
       "      <td>NaN</td>\n",
       "      <td>0.963171</td>\n",
       "      <td>5976105529599458688</td>\n",
       "      <td>18.23404</td>\n",
       "      <td>2.948014e-07</td>\n",
       "    </tr>\n",
       "    <tr>\n",
       "      <th>...</th>\n",
       "      <td>...</td>\n",
       "      <td>...</td>\n",
       "      <td>...</td>\n",
       "      <td>...</td>\n",
       "      <td>...</td>\n",
       "      <td>...</td>\n",
       "      <td>...</td>\n",
       "      <td>...</td>\n",
       "      <td>...</td>\n",
       "      <td>...</td>\n",
       "      <td>...</td>\n",
       "      <td>...</td>\n",
       "      <td>...</td>\n",
       "      <td>...</td>\n",
       "      <td>...</td>\n",
       "      <td>...</td>\n",
       "      <td>...</td>\n",
       "      <td>...</td>\n",
       "      <td>...</td>\n",
       "      <td>...</td>\n",
       "      <td>...</td>\n",
       "    </tr>\n",
       "    <tr>\n",
       "      <th>27071</th>\n",
       "      <td>4376</td>\n",
       "      <td>2CXO</td>\n",
       "      <td>J124901.5-623904</td>\n",
       "      <td>192.256408</td>\n",
       "      <td>-62.651153</td>\n",
       "      <td>0.597798</td>\n",
       "      <td>0.486344</td>\n",
       "      <td>28.388000</td>\n",
       "      <td>369628466</td>\n",
       "      <td>192.256156</td>\n",
       "      <td>...</td>\n",
       "      <td>0.764010</td>\n",
       "      <td>0.728041</td>\n",
       "      <td>0.802373</td>\n",
       "      <td>0.304225</td>\n",
       "      <td>0.302448</td>\n",
       "      <td>0.306001</td>\n",
       "      <td>0.899785</td>\n",
       "      <td>6055230612595938944</td>\n",
       "      <td>11.73272</td>\n",
       "      <td>1.008053e-07</td>\n",
       "    </tr>\n",
       "    <tr>\n",
       "      <th>27072</th>\n",
       "      <td>4376</td>\n",
       "      <td>2CXO</td>\n",
       "      <td>J124906.7-623449</td>\n",
       "      <td>192.278297</td>\n",
       "      <td>-62.580504</td>\n",
       "      <td>1.056691</td>\n",
       "      <td>0.775569</td>\n",
       "      <td>28.016001</td>\n",
       "      <td>369627672</td>\n",
       "      <td>192.278491</td>\n",
       "      <td>...</td>\n",
       "      <td>NaN</td>\n",
       "      <td>NaN</td>\n",
       "      <td>NaN</td>\n",
       "      <td>NaN</td>\n",
       "      <td>NaN</td>\n",
       "      <td>NaN</td>\n",
       "      <td>13.585671</td>\n",
       "      <td>6055232158784202112</td>\n",
       "      <td>15.07246</td>\n",
       "      <td>2.446120e-07</td>\n",
       "    </tr>\n",
       "    <tr>\n",
       "      <th>27073</th>\n",
       "      <td>4376</td>\n",
       "      <td>2CXO</td>\n",
       "      <td>J124938.4-624331</td>\n",
       "      <td>192.410074</td>\n",
       "      <td>-62.725555</td>\n",
       "      <td>1.088670</td>\n",
       "      <td>1.088670</td>\n",
       "      <td>0.000000</td>\n",
       "      <td>434930797</td>\n",
       "      <td>192.410183</td>\n",
       "      <td>...</td>\n",
       "      <td>NaN</td>\n",
       "      <td>NaN</td>\n",
       "      <td>NaN</td>\n",
       "      <td>NaN</td>\n",
       "      <td>NaN</td>\n",
       "      <td>NaN</td>\n",
       "      <td>1.747122</td>\n",
       "      <td>5863073122951472384</td>\n",
       "      <td>16.72262</td>\n",
       "      <td>3.468000e-07</td>\n",
       "    </tr>\n",
       "    <tr>\n",
       "      <th>27074</th>\n",
       "      <td>4376</td>\n",
       "      <td>2CXO</td>\n",
       "      <td>J124938.7-624353</td>\n",
       "      <td>192.411462</td>\n",
       "      <td>-62.731519</td>\n",
       "      <td>0.786859</td>\n",
       "      <td>0.583495</td>\n",
       "      <td>58.324001</td>\n",
       "      <td>434918647</td>\n",
       "      <td>192.411283</td>\n",
       "      <td>...</td>\n",
       "      <td>0.799687</td>\n",
       "      <td>0.621038</td>\n",
       "      <td>0.899553</td>\n",
       "      <td>0.156585</td>\n",
       "      <td>0.153811</td>\n",
       "      <td>0.159358</td>\n",
       "      <td>1.030859</td>\n",
       "      <td>5863073054231980672</td>\n",
       "      <td>14.60327</td>\n",
       "      <td>1.890382e-07</td>\n",
       "    </tr>\n",
       "    <tr>\n",
       "      <th>27075</th>\n",
       "      <td>4377</td>\n",
       "      <td>2CXO</td>\n",
       "      <td>J121323.9-601516</td>\n",
       "      <td>183.349929</td>\n",
       "      <td>-60.254579</td>\n",
       "      <td>0.393379</td>\n",
       "      <td>0.393379</td>\n",
       "      <td>21.259001</td>\n",
       "      <td>382169119</td>\n",
       "      <td>183.349808</td>\n",
       "      <td>...</td>\n",
       "      <td>NaN</td>\n",
       "      <td>NaN</td>\n",
       "      <td>NaN</td>\n",
       "      <td>NaN</td>\n",
       "      <td>NaN</td>\n",
       "      <td>NaN</td>\n",
       "      <td>1.030444</td>\n",
       "      <td>6058696067111698560</td>\n",
       "      <td>17.63304</td>\n",
       "      <td>2.193591e-07</td>\n",
       "    </tr>\n",
       "  </tbody>\n",
       "</table>\n",
       "<p>27076 rows × 114 columns</p>\n",
       "</div>"
      ],
      "text/plain": [
       "        ens csc2_pref           csc2_id     csc2_ra   csc2_dec  csc2_mjr  \\\n",
       "0         2      2CXO  J172249.6-340731  260.706734 -34.125397  0.564860   \n",
       "1         2      2CXO  J172251.0-341740  260.712829 -34.294690  1.689860   \n",
       "2         2      2CXO  J172251.9-340641  260.716280 -34.111631  0.405358   \n",
       "3         2      2CXO  J172256.1-340911  260.733861 -34.153061  0.566628   \n",
       "4         2      2CXO  J172256.4-340535  260.735411 -34.093298  0.561330   \n",
       "...     ...       ...               ...         ...        ...       ...   \n",
       "27071  4376      2CXO  J124901.5-623904  192.256408 -62.651153  0.597798   \n",
       "27072  4376      2CXO  J124906.7-623449  192.278297 -62.580504  1.056691   \n",
       "27073  4376      2CXO  J124938.4-624331  192.410074 -62.725555  1.088670   \n",
       "27074  4376      2CXO  J124938.7-624353  192.411462 -62.731519  0.786859   \n",
       "27075  4377      2CXO  J121323.9-601516  183.349929 -60.254579  0.393379   \n",
       "\n",
       "       csc2_mnr  csc2_alpha      tic_id     gaia_ra  ...  radius_val  \\\n",
       "0      0.498994  149.326996   157069725  260.706845  ...         NaN   \n",
       "1      1.689860    0.000000   157067351  260.712794  ...         NaN   \n",
       "2      0.403091  154.184006   157069916  260.716463  ...    0.717821   \n",
       "3      0.492231  127.488991   157069319  260.733961  ...         NaN   \n",
       "4      0.561330    0.000000  1547317350  260.735628  ...         NaN   \n",
       "...         ...         ...         ...         ...  ...         ...   \n",
       "27071  0.486344   28.388000   369628466  192.256156  ...    0.764010   \n",
       "27072  0.775569   28.016001   369627672  192.278491  ...         NaN   \n",
       "27073  1.088670    0.000000   434930797  192.410183  ...         NaN   \n",
       "27074  0.583495   58.324001   434918647  192.411283  ...    0.799687   \n",
       "27075  0.393379   21.259001   382169119  183.349808  ...         NaN   \n",
       "\n",
       "       radius_percentile_lower  radius_percentile_upper   lum_val  \\\n",
       "0                          NaN                      NaN       NaN   \n",
       "1                          NaN                      NaN       NaN   \n",
       "2                     0.673574                 0.814876  0.166019   \n",
       "3                          NaN                      NaN       NaN   \n",
       "4                          NaN                      NaN       NaN   \n",
       "...                        ...                      ...       ...   \n",
       "27071                 0.728041                 0.802373  0.304225   \n",
       "27072                      NaN                      NaN       NaN   \n",
       "27073                      NaN                      NaN       NaN   \n",
       "27074                 0.621038                 0.899553  0.156585   \n",
       "27075                      NaN                      NaN       NaN   \n",
       "\n",
       "       lum_percentile_lower  lum_percentile_upper       ruwe  \\\n",
       "0                       NaN                   NaN   1.051552   \n",
       "1                       NaN                   NaN   0.992697   \n",
       "2                  0.164051              0.167986   0.858655   \n",
       "3                       NaN                   NaN   1.093276   \n",
       "4                       NaN                   NaN   0.963171   \n",
       "...                     ...                   ...        ...   \n",
       "27071              0.302448              0.306001   0.899785   \n",
       "27072                   NaN                   NaN  13.585671   \n",
       "27073                   NaN                   NaN   1.747122   \n",
       "27074              0.153811              0.159358   1.030859   \n",
       "27075                   NaN                   NaN   1.030444   \n",
       "\n",
       "                     objID       mag    Separation  \n",
       "0      5976081920165540608  17.63650  4.844400e-07  \n",
       "1      5976075426174823552  17.71515  1.806797e-07  \n",
       "2      5976082023244783488  13.07753  4.127832e-07  \n",
       "3      5976081649585027456  15.53457  4.225821e-07  \n",
       "4      5976105529599458688  18.23404  2.948014e-07  \n",
       "...                    ...       ...           ...  \n",
       "27071  6055230612595938944  11.73272  1.008053e-07  \n",
       "27072  6055232158784202112  15.07246  2.446120e-07  \n",
       "27073  5863073122951472384  16.72262  3.468000e-07  \n",
       "27074  5863073054231980672  14.60327  1.890382e-07  \n",
       "27075  6058696067111698560  17.63304  2.193591e-07  \n",
       "\n",
       "[27076 rows x 114 columns]"
      ]
     },
     "execution_count": 4,
     "metadata": {},
     "output_type": "execute_result"
    }
   ],
   "source": [
    "df_good1"
   ]
  },
  {
   "cell_type": "code",
   "execution_count": 5,
   "metadata": {},
   "outputs": [],
   "source": [
    "df_good = df_good1.loc[(df_good1['prob'] >= 0.95) & (df_good1['separation'] <= 0.2)]"
   ]
  },
  {
   "cell_type": "code",
   "execution_count": 48,
   "metadata": {},
   "outputs": [
    {
     "data": {
      "text/plain": [
       "Index(['astrometric_params_solved', 'astrometric_primary_flag',\n",
       "       'astrometric_weight_al', 'astrometric_pseudo_colour',\n",
       "       'astrometric_pseudo_colour_error', 'mean_varpi_factor_al',\n",
       "       'astrometric_matched_observations', 'visibility_periods_used',\n",
       "       'astrometric_sigma5d_max', 'frame_rotator_object_type',\n",
       "       'matched_observations', 'duplicated_source', 'phot_g_n_obs',\n",
       "       'phot_g_mean_flux', 'phot_g_mean_flux_error',\n",
       "       'phot_g_mean_flux_over_error', 'phot_g_mean_mag', 'phot_bp_n_obs',\n",
       "       'phot_bp_mean_flux', 'phot_bp_mean_flux_error',\n",
       "       'phot_bp_mean_flux_over_error', 'phot_bp_mean_mag', 'phot_rp_n_obs',\n",
       "       'phot_rp_mean_flux', 'phot_rp_mean_flux_error',\n",
       "       'phot_rp_mean_flux_over_error', 'phot_rp_mean_mag',\n",
       "       'phot_bp_rp_excess_factor', 'phot_proc_mode', 'bp_rp', 'bp_g', 'g_rp',\n",
       "       'radial_velocity', 'radial_velocity_error', 'rv_nb_transits',\n",
       "       'rv_template_teff', 'rv_template_logg', 'rv_template_fe_h',\n",
       "       'phot_variable_flag', 'l', 'b', 'Ecl_Lon', 'Ecl_Lat', 'priam_flags',\n",
       "       'teff_val', 'teff_percentile_lower', 'teff_percentile_upper', 'a_g_val',\n",
       "       'a_g_percentile_lower', 'a_g_percentile_upper'],\n",
       "      dtype='object')"
      ]
     },
     "execution_count": 48,
     "metadata": {},
     "output_type": "execute_result"
    }
   ],
   "source": [
    "df_good.columns[50:100]"
   ]
  },
  {
   "cell_type": "code",
   "execution_count": 73,
   "metadata": {},
   "outputs": [
    {
     "data": {
      "text/plain": [
       "<matplotlib.collections.PathCollection at 0x7fe4b1fe1d30>"
      ]
     },
     "execution_count": 73,
     "metadata": {},
     "output_type": "execute_result"
    },
    {
     "data": {
      "image/png": "[encoded data removed]",
      "text/plain": [
       "<Figure size 432x288 with 1 Axes>"
      ]
     },
     "metadata": {
      "needs_background": "light"
     },
     "output_type": "display_data"
    }
   ],
   "source": [
    "plt.scatter(df_good['bp_g'],df_good['g_rp'],alpha=0.2,)\n",
    "plt.scatter(df_bad['bp_g'],df_bad['g_rp'],alpha=0.2)\n"
   ]
  },
  {
   "cell_type": "code",
   "execution_count": 70,
   "metadata": {},
   "outputs": [
    {
     "data": {
      "image/png": "[encoded data removed]",
      "text/plain": [
       "<Figure size 432x288 with 1 Axes>"
      ]
     },
     "metadata": {
      "needs_background": "light"
     },
     "output_type": "display_data"
    }
   ],
   "source": [
    "plt.hist(df_good['bp_g'],bins=50,alpha=0.5,density=True,label='High prob matches')\n",
    "plt.hist(df_bad['bp_g'],bins=50,alpha=0.5,density=True,label='Low prob matches')\n",
    "plt.xlabel('Gaia BP-G',size=15)\n",
    "plt.legend()\n",
    "plt.savefig('Gaia_BP_G.pdf',dpi=300)"
   ]
  },
  {
   "cell_type": "code",
   "execution_count": 71,
   "metadata": {},
   "outputs": [
    {
     "data": {
      "image/png": "[encoded data removed]",
      "text/plain": [
       "<Figure size 432x288 with 1 Axes>"
      ]
     },
     "metadata": {
      "needs_background": "light"
     },
     "output_type": "display_data"
    }
   ],
   "source": [
    "plt.hist(df_good['bp_rp'],bins=50,alpha=0.5,density=True,label='High prob matches')\n",
    "plt.hist(df_bad['bp_rp'],bins=50,alpha=0.5,density=True,label='Low prob matches')\n",
    "plt.xlabel('Gaia BP-RP',size=15)\n",
    "plt.legend()\n",
    "plt.savefig('Gaia_BP_RP.pdf',dpi=300)"
   ]
  },
  {
   "cell_type": "code",
   "execution_count": 80,
   "metadata": {},
   "outputs": [
    {
     "data": {
      "image/png": "[encoded data removed]",
      "text/plain": [
       "<Figure size 432x288 with 1 Axes>"
      ]
     },
     "metadata": {
      "needs_background": "light"
     },
     "output_type": "display_data"
    }
   ],
   "source": [
    "plt.hist(df_good['g_rp'],bins=50,alpha=0.5,density=True,label='High prob matches')\n",
    "plt.hist(df_bad['g_rp'],bins=50,alpha=0.5,density=True,label='Low prob matches')\n",
    "plt.xlabel('Gaia G-RP',size=15)\n",
    "plt.legend()\n",
    "plt.savefig('Gaia_G_RP.pdf',dpi=300)"
   ]
  },
  {
   "cell_type": "code",
   "execution_count": 81,
   "metadata": {},
   "outputs": [
    {
     "data": {
      "image/png": "[encoded data removed]",
      "text/plain": [
       "<Figure size 432x288 with 1 Axes>"
      ]
     },
     "metadata": {
      "needs_background": "light"
     },
     "output_type": "display_data"
    }
   ],
   "source": [
    "plt.hist(df_good['phot_g_mean_mag'],bins=50,alpha=0.5,density=True,label='High prob matches')\n",
    "plt.hist(df_bad['phot_g_mean_mag'],bins=50,alpha=0.5,density=True,label='Low prob matches')\n",
    "plt.xlabel('Gaia G band mag',size=15)\n",
    "#plt.xscale('log')\n",
    "plt.legend()\n",
    "plt.savefig('Gaia_G_mag.pdf',dpi=300)"
   ]
  },
  {
   "cell_type": "code",
   "execution_count": 93,
   "metadata": {},
   "outputs": [
    {
     "data": {
      "text/plain": [
       "<matplotlib.legend.Legend at 0x7fe4b2d70e50>"
      ]
     },
     "execution_count": 93,
     "metadata": {},
     "output_type": "execute_result"
    },
    {
     "data": {
      "image/png": "[encoded data removed]",
      "text/plain": [
       "<Figure size 432x288 with 1 Axes>"
      ]
     },
     "metadata": {
      "needs_background": "light"
     },
     "output_type": "display_data"
    }
   ],
   "source": [
    "plt.hist(np.log10(100./df_good['phot_bp_mean_flux_over_error']),bins=50,alpha=0.5,density=True,label='High prob matches')\n",
    "plt.hist(np.log10(100./df_bad['phot_bp_mean_flux_over_error']),bins=50,alpha=0.5,density=True,label='Low prob matches')\n",
    "plt.xlabel('Separation',size=15)\n",
    "#plt.xscale('log')\n",
    "plt.legend()\n",
    "#plt.savefig('Gaia_G_mag.pdf',dpi=300)"
   ]
  },
  {
   "cell_type": "code",
   "execution_count": 122,
   "metadata": {},
   "outputs": [
    {
     "data": {
      "image/png": "[encoded data removed]",
      "text/plain": [
       "<Figure size 360x360 with 1 Axes>"
      ]
     },
     "metadata": {},
     "output_type": "display_data"
    }
   ],
   "source": [
    "import seaborn as sns\n",
    "plt.rcParams['figure.figsize'] = 5, 5\n",
    "sns.set_style(\"white\")\n",
    "sns.kdeplot(x=df_good.bp_g, y=df_good.phot_g_mean_mag, label = 'High prob matches',shade=True,alpha=0.8)\n",
    "sns.kdeplot(x=df_bad.bp_g, y=df_bad.phot_g_mean_mag, label = 'Low prob matches',shade=False,alpha=0.9)\n",
    "plt.xlim(-2,3)\n",
    "plt.ylim(7,23)\n",
    "plt.xlabel('Gaia BP-G',size=15)\n",
    "plt.ylabel('Gaia G mag',size=15)\n",
    "plt.savefig('contour.pdf',dpi=300)\n",
    "#plt.legend()"
   ]
  },
  {
   "cell_type": "code",
   "execution_count": 84,
   "metadata": {},
   "outputs": [
    {
     "data": {
      "text/plain": [
       "10         9272.821941\n",
       "11         5770.664338\n",
       "45         1266.424933\n",
       "68       183956.631949\n",
       "75         6198.350925\n",
       "             ...      \n",
       "27038       121.188261\n",
       "27040       428.416396\n",
       "27044              NaN\n",
       "27053      1033.642473\n",
       "27069      9474.362573\n",
       "Name: phot_bp_mean_flux, Length: 7328, dtype: float64"
      ]
     },
     "execution_count": 84,
     "metadata": {},
     "output_type": "execute_result"
    }
   ],
   "source": [
    "df_good['phot_bp_mean_flux']"
   ]
  },
  {
   "cell_type": "code",
   "execution_count": 7,
   "metadata": {},
   "outputs": [
    {
     "data": {
      "image/png": "[encoded data removed]",
      "text/plain": [
       "<Figure size 432x288 with 1 Axes>"
      ]
     },
     "metadata": {
      "needs_background": "light"
     },
     "output_type": "display_data"
    }
   ],
   "source": [
    "plt.hist(df_good['separation'],bins=50)\n",
    "#plt.xlim(0,0.5)\n",
    "plt.show()"
   ]
  },
  {
   "cell_type": "code",
   "execution_count": 8,
   "metadata": {},
   "outputs": [
    {
     "data": {
      "image/png": "[encoded data removed]",
      "text/plain": [
       "<Figure size 432x288 with 1 Axes>"
      ]
     },
     "metadata": {
      "needs_background": "light"
     },
     "output_type": "display_data"
    }
   ],
   "source": [
    "plt.hist(df_good['prob'],bins=50)\n",
    "plt.show()"
   ]
  },
  {
   "cell_type": "code",
   "execution_count": 9,
   "metadata": {
    "id": "fPzPX60NekHt"
   },
   "outputs": [],
   "source": [
    "df_bad = pd.read_csv('unlikely_matches_plane.csv')"
   ]
  },
  {
   "cell_type": "code",
   "execution_count": 10,
   "metadata": {},
   "outputs": [
    {
     "data": {
      "text/html": [
       "<div>\n",
       "<style scoped>\n",
       "    .dataframe tbody tr th:only-of-type {\n",
       "        vertical-align: middle;\n",
       "    }\n",
       "\n",
       "    .dataframe tbody tr th {\n",
       "        vertical-align: top;\n",
       "    }\n",
       "\n",
       "    .dataframe thead th {\n",
       "        text-align: right;\n",
       "    }\n",
       "</style>\n",
       "<table border=\"1\" class=\"dataframe\">\n",
       "  <thead>\n",
       "    <tr style=\"text-align: right;\">\n",
       "      <th></th>\n",
       "      <th>col1</th>\n",
       "      <th>ens</th>\n",
       "      <th>csc2_pref</th>\n",
       "      <th>csc2_id</th>\n",
       "      <th>csc2_ra</th>\n",
       "      <th>csc2_dec</th>\n",
       "      <th>csc2_mjr</th>\n",
       "      <th>csc2_mnr</th>\n",
       "      <th>csc2_alpha</th>\n",
       "      <th>tic_id</th>\n",
       "      <th>...</th>\n",
       "      <th>radius_val</th>\n",
       "      <th>radius_percentile_lower</th>\n",
       "      <th>radius_percentile_upper</th>\n",
       "      <th>lum_val</th>\n",
       "      <th>lum_percentile_lower</th>\n",
       "      <th>lum_percentile_upper</th>\n",
       "      <th>ruwe</th>\n",
       "      <th>objID</th>\n",
       "      <th>mag</th>\n",
       "      <th>Separation</th>\n",
       "    </tr>\n",
       "  </thead>\n",
       "  <tbody>\n",
       "    <tr>\n",
       "      <th>0</th>\n",
       "      <td>2</td>\n",
       "      <td>2</td>\n",
       "      <td>2CXO</td>\n",
       "      <td>J172249.6-340731</td>\n",
       "      <td>260.706734</td>\n",
       "      <td>-34.125397</td>\n",
       "      <td>0.564860</td>\n",
       "      <td>0.498994</td>\n",
       "      <td>149.326996</td>\n",
       "      <td>157069725</td>\n",
       "      <td>...</td>\n",
       "      <td>NaN</td>\n",
       "      <td>NaN</td>\n",
       "      <td>NaN</td>\n",
       "      <td>NaN</td>\n",
       "      <td>NaN</td>\n",
       "      <td>NaN</td>\n",
       "      <td>1.101932</td>\n",
       "      <td>5.976082e+18</td>\n",
       "      <td>17.11998</td>\n",
       "      <td>0.002489</td>\n",
       "    </tr>\n",
       "    <tr>\n",
       "      <th>1</th>\n",
       "      <td>6</td>\n",
       "      <td>2</td>\n",
       "      <td>2CXO</td>\n",
       "      <td>J172251.0-341740</td>\n",
       "      <td>260.712829</td>\n",
       "      <td>-34.294690</td>\n",
       "      <td>1.689860</td>\n",
       "      <td>1.689860</td>\n",
       "      <td>0.000000</td>\n",
       "      <td>157067351</td>\n",
       "      <td>...</td>\n",
       "      <td>NaN</td>\n",
       "      <td>NaN</td>\n",
       "      <td>NaN</td>\n",
       "      <td>NaN</td>\n",
       "      <td>NaN</td>\n",
       "      <td>NaN</td>\n",
       "      <td>0.934721</td>\n",
       "      <td>5.976075e+18</td>\n",
       "      <td>19.63974</td>\n",
       "      <td>0.002082</td>\n",
       "    </tr>\n",
       "    <tr>\n",
       "      <th>2</th>\n",
       "      <td>11</td>\n",
       "      <td>2</td>\n",
       "      <td>2CXO</td>\n",
       "      <td>J172256.4-340535</td>\n",
       "      <td>260.735411</td>\n",
       "      <td>-34.093298</td>\n",
       "      <td>0.561330</td>\n",
       "      <td>0.561330</td>\n",
       "      <td>0.000000</td>\n",
       "      <td>1547317350</td>\n",
       "      <td>...</td>\n",
       "      <td>NaN</td>\n",
       "      <td>NaN</td>\n",
       "      <td>NaN</td>\n",
       "      <td>NaN</td>\n",
       "      <td>NaN</td>\n",
       "      <td>NaN</td>\n",
       "      <td>1.430620</td>\n",
       "      <td>5.976106e+18</td>\n",
       "      <td>19.67768</td>\n",
       "      <td>0.001924</td>\n",
       "    </tr>\n",
       "    <tr>\n",
       "      <th>3</th>\n",
       "      <td>13</td>\n",
       "      <td>2</td>\n",
       "      <td>2CXO</td>\n",
       "      <td>J172257.2-340050</td>\n",
       "      <td>260.738491</td>\n",
       "      <td>-34.013988</td>\n",
       "      <td>0.665873</td>\n",
       "      <td>0.573713</td>\n",
       "      <td>17.080000</td>\n",
       "      <td>157071264</td>\n",
       "      <td>...</td>\n",
       "      <td>NaN</td>\n",
       "      <td>NaN</td>\n",
       "      <td>NaN</td>\n",
       "      <td>NaN</td>\n",
       "      <td>NaN</td>\n",
       "      <td>NaN</td>\n",
       "      <td>0.951836</td>\n",
       "      <td>5.976107e+18</td>\n",
       "      <td>20.00656</td>\n",
       "      <td>0.002138</td>\n",
       "    </tr>\n",
       "    <tr>\n",
       "      <th>4</th>\n",
       "      <td>18</td>\n",
       "      <td>2</td>\n",
       "      <td>2CXO</td>\n",
       "      <td>J172258.4-340724</td>\n",
       "      <td>260.743430</td>\n",
       "      <td>-34.123564</td>\n",
       "      <td>0.419931</td>\n",
       "      <td>0.415290</td>\n",
       "      <td>114.171997</td>\n",
       "      <td>157069749</td>\n",
       "      <td>...</td>\n",
       "      <td>NaN</td>\n",
       "      <td>NaN</td>\n",
       "      <td>NaN</td>\n",
       "      <td>NaN</td>\n",
       "      <td>NaN</td>\n",
       "      <td>NaN</td>\n",
       "      <td>NaN</td>\n",
       "      <td>5.976082e+18</td>\n",
       "      <td>20.09490</td>\n",
       "      <td>0.002424</td>\n",
       "    </tr>\n",
       "    <tr>\n",
       "      <th>...</th>\n",
       "      <td>...</td>\n",
       "      <td>...</td>\n",
       "      <td>...</td>\n",
       "      <td>...</td>\n",
       "      <td>...</td>\n",
       "      <td>...</td>\n",
       "      <td>...</td>\n",
       "      <td>...</td>\n",
       "      <td>...</td>\n",
       "      <td>...</td>\n",
       "      <td>...</td>\n",
       "      <td>...</td>\n",
       "      <td>...</td>\n",
       "      <td>...</td>\n",
       "      <td>...</td>\n",
       "      <td>...</td>\n",
       "      <td>...</td>\n",
       "      <td>...</td>\n",
       "      <td>...</td>\n",
       "      <td>...</td>\n",
       "      <td>...</td>\n",
       "    </tr>\n",
       "    <tr>\n",
       "      <th>12969</th>\n",
       "      <td>80464</td>\n",
       "      <td>215</td>\n",
       "      <td>2CXO</td>\n",
       "      <td>J104717.5-600426</td>\n",
       "      <td>161.823042</td>\n",
       "      <td>-60.074062</td>\n",
       "      <td>0.404601</td>\n",
       "      <td>0.399333</td>\n",
       "      <td>12.873000</td>\n",
       "      <td>391638666</td>\n",
       "      <td>...</td>\n",
       "      <td>1.451156</td>\n",
       "      <td>1.190778</td>\n",
       "      <td>1.553049</td>\n",
       "      <td>1.838219</td>\n",
       "      <td>1.675602</td>\n",
       "      <td>2.000836</td>\n",
       "      <td>0.976348</td>\n",
       "      <td>5.350290e+18</td>\n",
       "      <td>14.76322</td>\n",
       "      <td>0.002723</td>\n",
       "    </tr>\n",
       "    <tr>\n",
       "      <th>12970</th>\n",
       "      <td>80469</td>\n",
       "      <td>215</td>\n",
       "      <td>2CXO</td>\n",
       "      <td>J104717.5-601833</td>\n",
       "      <td>161.823155</td>\n",
       "      <td>-60.309283</td>\n",
       "      <td>0.510916</td>\n",
       "      <td>0.452499</td>\n",
       "      <td>148.798996</td>\n",
       "      <td>391641049</td>\n",
       "      <td>...</td>\n",
       "      <td>NaN</td>\n",
       "      <td>NaN</td>\n",
       "      <td>NaN</td>\n",
       "      <td>NaN</td>\n",
       "      <td>NaN</td>\n",
       "      <td>NaN</td>\n",
       "      <td>NaN</td>\n",
       "      <td>5.350278e+18</td>\n",
       "      <td>20.65539</td>\n",
       "      <td>0.002715</td>\n",
       "    </tr>\n",
       "    <tr>\n",
       "      <th>12971</th>\n",
       "      <td>80479</td>\n",
       "      <td>215</td>\n",
       "      <td>2CXO</td>\n",
       "      <td>J104717.8-600535</td>\n",
       "      <td>161.824347</td>\n",
       "      <td>-60.093288</td>\n",
       "      <td>0.436435</td>\n",
       "      <td>0.422264</td>\n",
       "      <td>17.973000</td>\n",
       "      <td>934580836</td>\n",
       "      <td>...</td>\n",
       "      <td>NaN</td>\n",
       "      <td>NaN</td>\n",
       "      <td>NaN</td>\n",
       "      <td>NaN</td>\n",
       "      <td>NaN</td>\n",
       "      <td>NaN</td>\n",
       "      <td>NaN</td>\n",
       "      <td>5.350290e+18</td>\n",
       "      <td>19.44008</td>\n",
       "      <td>0.002757</td>\n",
       "    </tr>\n",
       "    <tr>\n",
       "      <th>12972</th>\n",
       "      <td>80484</td>\n",
       "      <td>215</td>\n",
       "      <td>2CXO</td>\n",
       "      <td>J104717.8-600633</td>\n",
       "      <td>161.824499</td>\n",
       "      <td>-60.109224</td>\n",
       "      <td>0.401584</td>\n",
       "      <td>0.398585</td>\n",
       "      <td>66.470001</td>\n",
       "      <td>391638983</td>\n",
       "      <td>...</td>\n",
       "      <td>NaN</td>\n",
       "      <td>NaN</td>\n",
       "      <td>NaN</td>\n",
       "      <td>NaN</td>\n",
       "      <td>NaN</td>\n",
       "      <td>NaN</td>\n",
       "      <td>0.976052</td>\n",
       "      <td>5.350290e+18</td>\n",
       "      <td>18.83829</td>\n",
       "      <td>0.002565</td>\n",
       "    </tr>\n",
       "    <tr>\n",
       "      <th>12973</th>\n",
       "      <td>80493</td>\n",
       "      <td>215</td>\n",
       "      <td>2CXO</td>\n",
       "      <td>J104717.9-601042</td>\n",
       "      <td>161.824868</td>\n",
       "      <td>-60.178571</td>\n",
       "      <td>0.443624</td>\n",
       "      <td>0.420708</td>\n",
       "      <td>20.253000</td>\n",
       "      <td>391639727</td>\n",
       "      <td>...</td>\n",
       "      <td>NaN</td>\n",
       "      <td>NaN</td>\n",
       "      <td>NaN</td>\n",
       "      <td>NaN</td>\n",
       "      <td>NaN</td>\n",
       "      <td>NaN</td>\n",
       "      <td>NaN</td>\n",
       "      <td>5.350284e+18</td>\n",
       "      <td>20.94014</td>\n",
       "      <td>0.002595</td>\n",
       "    </tr>\n",
       "  </tbody>\n",
       "</table>\n",
       "<p>12974 rows × 115 columns</p>\n",
       "</div>"
      ],
      "text/plain": [
       "        col1  ens csc2_pref           csc2_id     csc2_ra   csc2_dec  \\\n",
       "0          2    2      2CXO  J172249.6-340731  260.706734 -34.125397   \n",
       "1          6    2      2CXO  J172251.0-341740  260.712829 -34.294690   \n",
       "2         11    2      2CXO  J172256.4-340535  260.735411 -34.093298   \n",
       "3         13    2      2CXO  J172257.2-340050  260.738491 -34.013988   \n",
       "4         18    2      2CXO  J172258.4-340724  260.743430 -34.123564   \n",
       "...      ...  ...       ...               ...         ...        ...   \n",
       "12969  80464  215      2CXO  J104717.5-600426  161.823042 -60.074062   \n",
       "12970  80469  215      2CXO  J104717.5-601833  161.823155 -60.309283   \n",
       "12971  80479  215      2CXO  J104717.8-600535  161.824347 -60.093288   \n",
       "12972  80484  215      2CXO  J104717.8-600633  161.824499 -60.109224   \n",
       "12973  80493  215      2CXO  J104717.9-601042  161.824868 -60.178571   \n",
       "\n",
       "       csc2_mjr  csc2_mnr  csc2_alpha      tic_id  ...  radius_val  \\\n",
       "0      0.564860  0.498994  149.326996   157069725  ...         NaN   \n",
       "1      1.689860  1.689860    0.000000   157067351  ...         NaN   \n",
       "2      0.561330  0.561330    0.000000  1547317350  ...         NaN   \n",
       "3      0.665873  0.573713   17.080000   157071264  ...         NaN   \n",
       "4      0.419931  0.415290  114.171997   157069749  ...         NaN   \n",
       "...         ...       ...         ...         ...  ...         ...   \n",
       "12969  0.404601  0.399333   12.873000   391638666  ...    1.451156   \n",
       "12970  0.510916  0.452499  148.798996   391641049  ...         NaN   \n",
       "12971  0.436435  0.422264   17.973000   934580836  ...         NaN   \n",
       "12972  0.401584  0.398585   66.470001   391638983  ...         NaN   \n",
       "12973  0.443624  0.420708   20.253000   391639727  ...         NaN   \n",
       "\n",
       "       radius_percentile_lower  radius_percentile_upper   lum_val  \\\n",
       "0                          NaN                      NaN       NaN   \n",
       "1                          NaN                      NaN       NaN   \n",
       "2                          NaN                      NaN       NaN   \n",
       "3                          NaN                      NaN       NaN   \n",
       "4                          NaN                      NaN       NaN   \n",
       "...                        ...                      ...       ...   \n",
       "12969                 1.190778                 1.553049  1.838219   \n",
       "12970                      NaN                      NaN       NaN   \n",
       "12971                      NaN                      NaN       NaN   \n",
       "12972                      NaN                      NaN       NaN   \n",
       "12973                      NaN                      NaN       NaN   \n",
       "\n",
       "       lum_percentile_lower  lum_percentile_upper      ruwe         objID  \\\n",
       "0                       NaN                   NaN  1.101932  5.976082e+18   \n",
       "1                       NaN                   NaN  0.934721  5.976075e+18   \n",
       "2                       NaN                   NaN  1.430620  5.976106e+18   \n",
       "3                       NaN                   NaN  0.951836  5.976107e+18   \n",
       "4                       NaN                   NaN       NaN  5.976082e+18   \n",
       "...                     ...                   ...       ...           ...   \n",
       "12969              1.675602              2.000836  0.976348  5.350290e+18   \n",
       "12970                   NaN                   NaN       NaN  5.350278e+18   \n",
       "12971                   NaN                   NaN       NaN  5.350290e+18   \n",
       "12972                   NaN                   NaN  0.976052  5.350290e+18   \n",
       "12973                   NaN                   NaN       NaN  5.350284e+18   \n",
       "\n",
       "            mag  Separation  \n",
       "0      17.11998    0.002489  \n",
       "1      19.63974    0.002082  \n",
       "2      19.67768    0.001924  \n",
       "3      20.00656    0.002138  \n",
       "4      20.09490    0.002424  \n",
       "...         ...         ...  \n",
       "12969  14.76322    0.002723  \n",
       "12970  20.65539    0.002715  \n",
       "12971  19.44008    0.002757  \n",
       "12972  18.83829    0.002565  \n",
       "12973  20.94014    0.002595  \n",
       "\n",
       "[12974 rows x 115 columns]"
      ]
     },
     "execution_count": 10,
     "metadata": {},
     "output_type": "execute_result"
    }
   ],
   "source": [
    "df_bad"
   ]
  },
  {
   "cell_type": "code",
   "execution_count": 11,
   "metadata": {
    "id": "sfyOAMpiekHt",
    "outputId": "072d26d6-5018-49c4-f99a-cf0a3001b839"
   },
   "outputs": [
    {
     "data": {
      "text/plain": [
       "array([27547.02104841, 14447.90842112,  4547.97549273, ...,\n",
       "         143.9141916 ,  4992.13730025, 21659.70933245])"
      ]
     },
     "execution_count": 11,
     "metadata": {},
     "output_type": "execute_result"
    }
   ],
   "source": [
    "df_good['phot_g_mean_flux'].values"
   ]
  },
  {
   "cell_type": "code",
   "execution_count": 12,
   "metadata": {
    "id": "w61X5E9HekHu",
    "outputId": "b0fe5152-451d-4b82-8a50-cd39ee97767c"
   },
   "outputs": [
    {
     "name": "stderr",
     "output_type": "stream",
     "text": [
      "/var/folders/14/ndt0htr925q12gxv25s271x00000gn/T/ipykernel_15642/496415149.py:5: RuntimeWarning: invalid value encountered in log10\n",
      "  np.log10(df_good['phot_rp_mean_flux_over_error'].values), np.log10(df_good['bp_rp'].values),\n",
      "/var/folders/14/ndt0htr925q12gxv25s271x00000gn/T/ipykernel_15642/496415149.py:6: RuntimeWarning: invalid value encountered in log10\n",
      "  np.log10(df_good['bp_g'].values), np.log10(df_good['g_rp'].values)])\n"
     ]
    }
   ],
   "source": [
    "X1 = np.array([df_good['separation'].values, np.log10(df_good['phot_g_mean_flux'].values), np.log10(df_good['phot_g_mean_flux_error'].values), \n",
    "      np.log10(df_good['phot_g_mean_flux_over_error'].values), np.log10(df_good['phot_bp_mean_flux'].values), \n",
    "      np.log10(df_good['phot_bp_mean_flux_error'].values), np.log10(df_good['phot_bp_mean_flux_over_error'].values), \n",
    "      np.log10(df_good['phot_rp_mean_flux'].values), np.log10(df_good['phot_rp_mean_flux_error'].values), \n",
    "      np.log10(df_good['phot_rp_mean_flux_over_error'].values), np.log10(df_good['bp_rp'].values),\n",
    "      np.log10(df_good['bp_g'].values), np.log10(df_good['g_rp'].values)])\n",
    "#X1 = np.array([np.log10(df_good['phot_g_mean_flux'].values), np.log10(df_good['phot_g_mean_flux_error'].values), \n",
    "#      np.log10(df_good['phot_g_mean_flux_over_error'].values)])"
   ]
  },
  {
   "cell_type": "code",
   "execution_count": 13,
   "metadata": {
    "id": "V6KAydwlekHu"
   },
   "outputs": [],
   "source": [
    "X1_train = X1.T[0:5400]"
   ]
  },
  {
   "cell_type": "code",
   "execution_count": 14,
   "metadata": {
    "id": "UjzOn5sJekHv",
    "outputId": "e8a878cf-64ff-4e20-a95f-be69ffe2544b"
   },
   "outputs": [
    {
     "data": {
      "text/plain": [
       "(5400, 13)"
      ]
     },
     "execution_count": 14,
     "metadata": {},
     "output_type": "execute_result"
    }
   ],
   "source": [
    "shape(X1_train)"
   ]
  },
  {
   "cell_type": "code",
   "execution_count": 15,
   "metadata": {
    "id": "tn3OBJIaekHv"
   },
   "outputs": [],
   "source": [
    "X1_test = X1.T[5400:] "
   ]
  },
  {
   "cell_type": "code",
   "execution_count": 16,
   "metadata": {
    "id": "d5czLoe6ekHw",
    "outputId": "d96a3185-57a1-4691-cbcc-d44c93d931db"
   },
   "outputs": [
    {
     "name": "stderr",
     "output_type": "stream",
     "text": [
      "/var/folders/14/ndt0htr925q12gxv25s271x00000gn/T/ipykernel_15642/4012784119.py:5: RuntimeWarning: invalid value encountered in log10\n",
      "  np.log10(df_bad['phot_rp_mean_flux_over_error'].values), np.log10(df_bad['bp_rp'].values),\n",
      "/var/folders/14/ndt0htr925q12gxv25s271x00000gn/T/ipykernel_15642/4012784119.py:6: RuntimeWarning: invalid value encountered in log10\n",
      "  np.log10(df_bad['bp_g'].values), np.log10(df_bad['g_rp'].values)])\n"
     ]
    }
   ],
   "source": [
    "X2 = np.array([df_bad['separation'].values, np.log10(df_bad['phot_g_mean_flux'].values), np.log10(df_bad['phot_g_mean_flux_error'].values), \n",
    "      np.log10(df_bad['phot_g_mean_flux_over_error'].values), np.log10(df_bad['phot_bp_mean_flux'].values), \n",
    "      np.log10(df_bad['phot_bp_mean_flux_error'].values), np.log10(df_bad['phot_bp_mean_flux_over_error'].values), \n",
    "      np.log10(df_bad['phot_rp_mean_flux'].values), np.log10(df_bad['phot_rp_mean_flux_error'].values), \n",
    "      np.log10(df_bad['phot_rp_mean_flux_over_error'].values), np.log10(df_bad['bp_rp'].values),\n",
    "      np.log10(df_bad['bp_g'].values), np.log10(df_bad['g_rp'].values)])\n",
    "#X2 = np.array([np.log10(df_bad['phot_g_mean_flux'].values), np.log10(df_bad['phot_g_mean_flux_error'].values), \n",
    "#      np.log10(df_bad['phot_g_mean_flux_over_error'].values)])"
   ]
  },
  {
   "cell_type": "code",
   "execution_count": 17,
   "metadata": {
    "id": "8PA0teG9ekHx"
   },
   "outputs": [],
   "source": [
    "X2_train = X2.T[0:10000]"
   ]
  },
  {
   "cell_type": "code",
   "execution_count": 18,
   "metadata": {
    "id": "weR2-ku6ekHx"
   },
   "outputs": [],
   "source": [
    "X2_test = X2.T[10000:]"
   ]
  },
  {
   "cell_type": "code",
   "execution_count": 19,
   "metadata": {
    "id": "XSvahv6yekHx",
    "outputId": "dfb518b2-6d88-4d17-e141-2cb6ccc03be6"
   },
   "outputs": [
    {
     "data": {
      "text/plain": [
       "(2974, 13)"
      ]
     },
     "execution_count": 19,
     "metadata": {},
     "output_type": "execute_result"
    }
   ],
   "source": [
    "shape(X2_test)"
   ]
  },
  {
   "cell_type": "code",
   "execution_count": 20,
   "metadata": {
    "id": "ln11uJLVekHy"
   },
   "outputs": [],
   "source": [
    "X_train = np.concatenate((X1_train,X2_train), axis=0)"
   ]
  },
  {
   "cell_type": "code",
   "execution_count": 21,
   "metadata": {
    "id": "TsbT1NnpekHy"
   },
   "outputs": [],
   "source": [
    "X_test = np.concatenate((X1_test,X2_test), axis=0)"
   ]
  },
  {
   "cell_type": "code",
   "execution_count": 22,
   "metadata": {
    "id": "MWwciEr4ekHy"
   },
   "outputs": [],
   "source": [
    "Y1_train = np.ones(5400)"
   ]
  },
  {
   "cell_type": "code",
   "execution_count": 23,
   "metadata": {
    "id": "z6CKcBpRekHz"
   },
   "outputs": [],
   "source": [
    "Y1_test = np.ones(1928)"
   ]
  },
  {
   "cell_type": "code",
   "execution_count": 24,
   "metadata": {
    "id": "5fPYUFHpekHz"
   },
   "outputs": [],
   "source": [
    "Y2_train = np.zeros(10000)"
   ]
  },
  {
   "cell_type": "code",
   "execution_count": 25,
   "metadata": {
    "id": "ZEuCx8s6ekHz"
   },
   "outputs": [],
   "source": [
    "Y2_test = np.zeros(2974)"
   ]
  },
  {
   "cell_type": "code",
   "execution_count": 26,
   "metadata": {
    "id": "n6PFnN6xekHz"
   },
   "outputs": [],
   "source": [
    "Y_train = np.concatenate((Y1_train,Y2_train), axis=0)"
   ]
  },
  {
   "cell_type": "code",
   "execution_count": 27,
   "metadata": {
    "id": "MSujmeesekHz"
   },
   "outputs": [],
   "source": [
    "Y_test = np.concatenate((Y1_test,Y2_test), axis=0)"
   ]
  },
  {
   "cell_type": "code",
   "execution_count": 28,
   "metadata": {
    "id": "6FRhH_usekH0",
    "outputId": "98060395-eef2-44b5-bfeb-522377b7b109"
   },
   "outputs": [
    {
     "name": "stdout",
     "output_type": "stream",
     "text": [
      "(15400, 13) (15400,)\n"
     ]
    }
   ],
   "source": [
    "print(shape(X_train),shape(Y_train))"
   ]
  },
  {
   "cell_type": "code",
   "execution_count": 29,
   "metadata": {
    "id": "u9py9n8gekH0",
    "outputId": "90181072-bde2-4c3b-8fda-7ad9592c2197"
   },
   "outputs": [
    {
     "data": {
      "text/plain": [
       "array([11920,  6233,  9119, ...,  9159, 15143, 13798])"
      ]
     },
     "execution_count": 29,
     "metadata": {},
     "output_type": "execute_result"
    }
   ],
   "source": [
    "arr = np.arange(15400)\n",
    "np.random.shuffle(arr)\n",
    "arr"
   ]
  },
  {
   "cell_type": "code",
   "execution_count": 30,
   "metadata": {
    "id": "RVQiFyFBekH0"
   },
   "outputs": [],
   "source": [
    "X_train = X_train[arr]"
   ]
  },
  {
   "cell_type": "code",
   "execution_count": 31,
   "metadata": {
    "id": "JVCIeCQTekH1"
   },
   "outputs": [],
   "source": [
    "Y_train = Y_train[arr]"
   ]
  },
  {
   "cell_type": "code",
   "execution_count": 32,
   "metadata": {
    "id": "EDz3vPtaekH1"
   },
   "outputs": [],
   "source": [
    "imp_mean = SimpleImputer(missing_values=np.nan, strategy='mean')\n",
    "imp_mean.fit(X_train)\n",
    "X_train = imp_mean.transform(X_train)"
   ]
  },
  {
   "cell_type": "code",
   "execution_count": 33,
   "metadata": {
    "id": "rPnzUKnGekH1",
    "outputId": "df499bee-baf8-44af-b536-6d7f5999f136"
   },
   "outputs": [
    {
     "name": "stdout",
     "output_type": "stream",
     "text": [
      "(4902, 13) (4902,)\n"
     ]
    }
   ],
   "source": [
    "print(shape(X_test),shape(Y_test))"
   ]
  },
  {
   "cell_type": "code",
   "execution_count": 37,
   "metadata": {
    "id": "LB51y2PsekH1",
    "outputId": "59f8c4fc-6175-45bb-da68-819b25e1345b"
   },
   "outputs": [
    {
     "data": {
      "text/plain": [
       "array([4239, 1049, 4347, ..., 4684, 3047, 1116])"
      ]
     },
     "execution_count": 37,
     "metadata": {},
     "output_type": "execute_result"
    }
   ],
   "source": [
    "arr = np.arange(4902)\n",
    "np.random.shuffle(arr)\n",
    "arr"
   ]
  },
  {
   "cell_type": "code",
   "execution_count": 38,
   "metadata": {
    "id": "4A3sfHseekH1"
   },
   "outputs": [],
   "source": [
    "X_test = X_test[arr]"
   ]
  },
  {
   "cell_type": "code",
   "execution_count": 39,
   "metadata": {
    "id": "Qccb8y9LekH2"
   },
   "outputs": [],
   "source": [
    "Y_test = Y_test[arr]"
   ]
  },
  {
   "cell_type": "code",
   "execution_count": 40,
   "metadata": {
    "id": "cSZulZ6UekH2"
   },
   "outputs": [],
   "source": [
    "imp_mean.fit(X_test)\n",
    "X_test = imp_mean.transform(X_test)"
   ]
  },
  {
   "cell_type": "code",
   "execution_count": 41,
   "metadata": {
    "id": "6kP9YVhlekH2"
   },
   "outputs": [
    {
     "name": "stderr",
     "output_type": "stream",
     "text": [
      "2022-03-08 22:04:22.487108: I tensorflow/core/platform/cpu_feature_guard.cc:142] This TensorFlow binary is optimized with oneAPI Deep Neural Network Library (oneDNN)to use the following CPU instructions in performance-critical operations:  AVX2 FMA\n",
      "To enable them in other operations, rebuild TensorFlow with the appropriate compiler flags.\n",
      "2022-03-08 22:04:22.501160: I tensorflow/compiler/xla/service/service.cc:168] XLA service 0x7fe4c40e7330 initialized for platform Host (this does not guarantee that XLA will be used). Devices:\n",
      "2022-03-08 22:04:22.501173: I tensorflow/compiler/xla/service/service.cc:176]   StreamExecutor device (0): Host, Default Version\n"
     ]
    }
   ],
   "source": [
    "network = models.Sequential()\n",
    "network.add(layers.Dense(128, activation='relu', input_shape=(13,)))\n",
    "network.add(layers.Dense(64, activation='relu', input_shape=(128,)))\n",
    "network.add(layers.Dense(1, activation='sigmoid'))"
   ]
  },
  {
   "cell_type": "code",
   "execution_count": 42,
   "metadata": {
    "id": "i8KUSpiQekH2"
   },
   "outputs": [],
   "source": [
    "from tensorflow.keras import optimizers\n",
    "#Adagrad = optimizers.Adagrad\n",
    "#Adagrad['lr']\n",
    "Adagrad = optimizers.Adagrad(lr=0.005)\n",
    "network.compile(optimizer=Adagrad,\n",
    "                loss='binary_crossentropy',\n",
    "                metrics=['binary_accuracy'])\n",
    "#optimizer.lr.set_value(0.02)"
   ]
  },
  {
   "cell_type": "code",
   "execution_count": 43,
   "metadata": {
    "id": "afLwUXjpekH2",
    "outputId": "90fb4f74-afbc-496b-d607-5c6066f5880b",
    "scrolled": true,
    "tags": []
   },
   "outputs": [
    {
     "name": "stdout",
     "output_type": "stream",
     "text": [
      "Epoch 1/200\n",
      "49/49 [==============================] - 0s 3ms/step - loss: 0.6498 - binary_accuracy: 0.6468 - val_loss: 0.6389 - val_binary_accuracy: 0.6451\n",
      "Epoch 2/200\n",
      "49/49 [==============================] - 0s 1ms/step - loss: 0.6274 - binary_accuracy: 0.6507 - val_loss: 0.6268 - val_binary_accuracy: 0.6451\n",
      "Epoch 3/200\n",
      "49/49 [==============================] - 0s 996us/step - loss: 0.6135 - binary_accuracy: 0.6567 - val_loss: 0.6136 - val_binary_accuracy: 0.6831\n",
      "Epoch 4/200\n",
      "49/49 [==============================] - 0s 996us/step - loss: 0.6015 - binary_accuracy: 0.6735 - val_loss: 0.6034 - val_binary_accuracy: 0.6568\n",
      "Epoch 5/200\n",
      "49/49 [==============================] - 0s 1ms/step - loss: 0.5912 - binary_accuracy: 0.6814 - val_loss: 0.5915 - val_binary_accuracy: 0.6951\n",
      "Epoch 6/200\n",
      "49/49 [==============================] - 0s 969us/step - loss: 0.5820 - binary_accuracy: 0.6941 - val_loss: 0.5868 - val_binary_accuracy: 0.7114\n",
      "Epoch 7/200\n",
      "49/49 [==============================] - 0s 995us/step - loss: 0.5741 - binary_accuracy: 0.7040 - val_loss: 0.5758 - val_binary_accuracy: 0.6945\n",
      "Epoch 8/200\n",
      "49/49 [==============================] - 0s 1ms/step - loss: 0.5664 - binary_accuracy: 0.7069 - val_loss: 0.5697 - val_binary_accuracy: 0.6958\n",
      "Epoch 9/200\n",
      "49/49 [==============================] - 0s 1ms/step - loss: 0.5604 - binary_accuracy: 0.7141 - val_loss: 0.5649 - val_binary_accuracy: 0.6971\n",
      "Epoch 10/200\n",
      "49/49 [==============================] - 0s 1ms/step - loss: 0.5547 - binary_accuracy: 0.7187 - val_loss: 0.5639 - val_binary_accuracy: 0.6942\n",
      "Epoch 11/200\n",
      "49/49 [==============================] - 0s 1ms/step - loss: 0.5496 - binary_accuracy: 0.7217 - val_loss: 0.5565 - val_binary_accuracy: 0.7208\n",
      "Epoch 12/200\n",
      "49/49 [==============================] - 0s 1ms/step - loss: 0.5448 - binary_accuracy: 0.7239 - val_loss: 0.5521 - val_binary_accuracy: 0.7205\n",
      "Epoch 13/200\n",
      "49/49 [==============================] - 0s 1ms/step - loss: 0.5402 - binary_accuracy: 0.7307 - val_loss: 0.5505 - val_binary_accuracy: 0.7263\n",
      "Epoch 14/200\n",
      "49/49 [==============================] - 0s 1ms/step - loss: 0.5365 - binary_accuracy: 0.7312 - val_loss: 0.5483 - val_binary_accuracy: 0.7006\n",
      "Epoch 15/200\n",
      "49/49 [==============================] - 0s 1ms/step - loss: 0.5330 - binary_accuracy: 0.7328 - val_loss: 0.5427 - val_binary_accuracy: 0.7101\n",
      "Epoch 16/200\n",
      "49/49 [==============================] - 0s 1ms/step - loss: 0.5290 - binary_accuracy: 0.7357 - val_loss: 0.5368 - val_binary_accuracy: 0.7218\n",
      "Epoch 17/200\n",
      "49/49 [==============================] - 0s 998us/step - loss: 0.5254 - binary_accuracy: 0.7377 - val_loss: 0.5335 - val_binary_accuracy: 0.7256\n",
      "Epoch 18/200\n",
      "49/49 [==============================] - 0s 968us/step - loss: 0.5218 - binary_accuracy: 0.7400 - val_loss: 0.5310 - val_binary_accuracy: 0.7211\n",
      "Epoch 19/200\n",
      "49/49 [==============================] - 0s 962us/step - loss: 0.5182 - binary_accuracy: 0.7402 - val_loss: 0.5354 - val_binary_accuracy: 0.7331\n",
      "Epoch 20/200\n",
      "49/49 [==============================] - 0s 966us/step - loss: 0.5151 - binary_accuracy: 0.7442 - val_loss: 0.5243 - val_binary_accuracy: 0.7250\n",
      "Epoch 21/200\n",
      "49/49 [==============================] - 0s 978us/step - loss: 0.5113 - binary_accuracy: 0.7444 - val_loss: 0.5201 - val_binary_accuracy: 0.7279\n",
      "Epoch 22/200\n",
      "49/49 [==============================] - 0s 993us/step - loss: 0.5080 - binary_accuracy: 0.7446 - val_loss: 0.5176 - val_binary_accuracy: 0.7315\n",
      "Epoch 23/200\n",
      "49/49 [==============================] - 0s 1ms/step - loss: 0.5045 - binary_accuracy: 0.7467 - val_loss: 0.5135 - val_binary_accuracy: 0.7354\n",
      "Epoch 24/200\n",
      "49/49 [==============================] - 0s 986us/step - loss: 0.5013 - binary_accuracy: 0.7489 - val_loss: 0.5124 - val_binary_accuracy: 0.7321\n",
      "Epoch 25/200\n",
      "49/49 [==============================] - 0s 1ms/step - loss: 0.4982 - binary_accuracy: 0.7475 - val_loss: 0.5091 - val_binary_accuracy: 0.7442\n",
      "Epoch 26/200\n",
      "49/49 [==============================] - 0s 963us/step - loss: 0.4952 - binary_accuracy: 0.7507 - val_loss: 0.5044 - val_binary_accuracy: 0.7373\n",
      "Epoch 27/200\n",
      "49/49 [==============================] - 0s 1ms/step - loss: 0.4916 - binary_accuracy: 0.7532 - val_loss: 0.5007 - val_binary_accuracy: 0.7461\n",
      "Epoch 28/200\n",
      "49/49 [==============================] - 0s 985us/step - loss: 0.4881 - binary_accuracy: 0.7558 - val_loss: 0.5044 - val_binary_accuracy: 0.7240\n",
      "Epoch 29/200\n",
      "49/49 [==============================] - 0s 1ms/step - loss: 0.4853 - binary_accuracy: 0.7557 - val_loss: 0.5005 - val_binary_accuracy: 0.7279\n",
      "Epoch 30/200\n",
      "49/49 [==============================] - 0s 1ms/step - loss: 0.4818 - binary_accuracy: 0.7561 - val_loss: 0.4958 - val_binary_accuracy: 0.7351\n",
      "Epoch 31/200\n",
      "49/49 [==============================] - 0s 1ms/step - loss: 0.4793 - binary_accuracy: 0.7577 - val_loss: 0.4898 - val_binary_accuracy: 0.7412\n",
      "Epoch 32/200\n",
      "49/49 [==============================] - 0s 991us/step - loss: 0.4760 - binary_accuracy: 0.7593 - val_loss: 0.4931 - val_binary_accuracy: 0.7558\n",
      "Epoch 33/200\n",
      "49/49 [==============================] - 0s 985us/step - loss: 0.4732 - binary_accuracy: 0.7622 - val_loss: 0.4867 - val_binary_accuracy: 0.7380\n",
      "Epoch 34/200\n",
      "49/49 [==============================] - 0s 987us/step - loss: 0.4700 - binary_accuracy: 0.7627 - val_loss: 0.4921 - val_binary_accuracy: 0.7247\n",
      "Epoch 35/200\n",
      "49/49 [==============================] - 0s 966us/step - loss: 0.4675 - binary_accuracy: 0.7642 - val_loss: 0.4767 - val_binary_accuracy: 0.7526\n",
      "Epoch 36/200\n",
      "49/49 [==============================] - 0s 1ms/step - loss: 0.4641 - binary_accuracy: 0.7674 - val_loss: 0.4742 - val_binary_accuracy: 0.7529\n",
      "Epoch 37/200\n",
      "49/49 [==============================] - 0s 958us/step - loss: 0.4615 - binary_accuracy: 0.7692 - val_loss: 0.4732 - val_binary_accuracy: 0.7662\n",
      "Epoch 38/200\n",
      "49/49 [==============================] - 0s 988us/step - loss: 0.4586 - binary_accuracy: 0.7695 - val_loss: 0.4796 - val_binary_accuracy: 0.7334\n",
      "Epoch 39/200\n",
      "49/49 [==============================] - 0s 972us/step - loss: 0.4561 - binary_accuracy: 0.7706 - val_loss: 0.4828 - val_binary_accuracy: 0.7640\n",
      "Epoch 40/200\n",
      "49/49 [==============================] - 0s 977us/step - loss: 0.4537 - binary_accuracy: 0.7716 - val_loss: 0.4629 - val_binary_accuracy: 0.7649\n",
      "Epoch 41/200\n",
      "49/49 [==============================] - 0s 1ms/step - loss: 0.4506 - binary_accuracy: 0.7744 - val_loss: 0.4608 - val_binary_accuracy: 0.7727\n",
      "Epoch 42/200\n",
      "49/49 [==============================] - 0s 967us/step - loss: 0.4480 - binary_accuracy: 0.7770 - val_loss: 0.4724 - val_binary_accuracy: 0.7685\n",
      "Epoch 43/200\n",
      "49/49 [==============================] - 0s 963us/step - loss: 0.4460 - binary_accuracy: 0.7761 - val_loss: 0.4576 - val_binary_accuracy: 0.7747\n",
      "Epoch 44/200\n",
      "49/49 [==============================] - 0s 1ms/step - loss: 0.4436 - binary_accuracy: 0.7790 - val_loss: 0.4565 - val_binary_accuracy: 0.7750\n",
      "Epoch 45/200\n",
      "49/49 [==============================] - 0s 1ms/step - loss: 0.4413 - binary_accuracy: 0.7795 - val_loss: 0.4509 - val_binary_accuracy: 0.7773\n",
      "Epoch 46/200\n",
      "49/49 [==============================] - 0s 966us/step - loss: 0.4388 - binary_accuracy: 0.7807 - val_loss: 0.4490 - val_binary_accuracy: 0.7769\n",
      "Epoch 47/200\n",
      "49/49 [==============================] - 0s 960us/step - loss: 0.4369 - binary_accuracy: 0.7778 - val_loss: 0.4486 - val_binary_accuracy: 0.7773\n",
      "Epoch 48/200\n",
      "49/49 [==============================] - 0s 984us/step - loss: 0.4349 - binary_accuracy: 0.7821 - val_loss: 0.4468 - val_binary_accuracy: 0.7643\n",
      "Epoch 49/200\n",
      "49/49 [==============================] - 0s 994us/step - loss: 0.4328 - binary_accuracy: 0.7807 - val_loss: 0.4438 - val_binary_accuracy: 0.7711\n",
      "Epoch 50/200\n",
      "49/49 [==============================] - 0s 1ms/step - loss: 0.4308 - binary_accuracy: 0.7843 - val_loss: 0.4469 - val_binary_accuracy: 0.7555\n",
      "Epoch 51/200\n",
      "49/49 [==============================] - 0s 966us/step - loss: 0.4290 - binary_accuracy: 0.7845 - val_loss: 0.4394 - val_binary_accuracy: 0.7802\n",
      "Epoch 52/200\n",
      "49/49 [==============================] - 0s 962us/step - loss: 0.4270 - binary_accuracy: 0.7860 - val_loss: 0.4373 - val_binary_accuracy: 0.7795\n",
      "Epoch 53/200\n",
      "49/49 [==============================] - 0s 994us/step - loss: 0.4253 - binary_accuracy: 0.7837 - val_loss: 0.4356 - val_binary_accuracy: 0.7795\n",
      "Epoch 54/200\n",
      "49/49 [==============================] - 0s 974us/step - loss: 0.4236 - binary_accuracy: 0.7869 - val_loss: 0.4344 - val_binary_accuracy: 0.7808\n",
      "Epoch 55/200\n",
      "49/49 [==============================] - 0s 994us/step - loss: 0.4220 - binary_accuracy: 0.7892 - val_loss: 0.4362 - val_binary_accuracy: 0.7685\n",
      "Epoch 56/200\n",
      "49/49 [==============================] - 0s 1ms/step - loss: 0.4205 - binary_accuracy: 0.7880 - val_loss: 0.4318 - val_binary_accuracy: 0.7769\n",
      "Epoch 57/200\n",
      "49/49 [==============================] - 0s 1ms/step - loss: 0.4194 - binary_accuracy: 0.7893 - val_loss: 0.4302 - val_binary_accuracy: 0.7789\n",
      "Epoch 58/200\n",
      "49/49 [==============================] - 0s 984us/step - loss: 0.4175 - binary_accuracy: 0.7885 - val_loss: 0.4294 - val_binary_accuracy: 0.7877\n",
      "Epoch 59/200\n",
      "49/49 [==============================] - 0s 992us/step - loss: 0.4162 - binary_accuracy: 0.7903 - val_loss: 0.4342 - val_binary_accuracy: 0.7851\n",
      "Epoch 60/200\n",
      "49/49 [==============================] - 0s 984us/step - loss: 0.4150 - binary_accuracy: 0.7916 - val_loss: 0.4285 - val_binary_accuracy: 0.7740\n",
      "Epoch 61/200\n",
      "49/49 [==============================] - 0s 1ms/step - loss: 0.4140 - binary_accuracy: 0.7918 - val_loss: 0.4253 - val_binary_accuracy: 0.7903\n",
      "Epoch 62/200\n",
      "49/49 [==============================] - 0s 1ms/step - loss: 0.4129 - binary_accuracy: 0.7916 - val_loss: 0.4325 - val_binary_accuracy: 0.7831\n",
      "Epoch 63/200\n",
      "49/49 [==============================] - 0s 1ms/step - loss: 0.4111 - binary_accuracy: 0.7929 - val_loss: 0.4275 - val_binary_accuracy: 0.7724\n",
      "Epoch 64/200\n",
      "49/49 [==============================] - 0s 1ms/step - loss: 0.4105 - binary_accuracy: 0.7922 - val_loss: 0.4223 - val_binary_accuracy: 0.7815\n",
      "Epoch 65/200\n",
      "49/49 [==============================] - 0s 1ms/step - loss: 0.4094 - binary_accuracy: 0.7911 - val_loss: 0.4314 - val_binary_accuracy: 0.7854\n",
      "Epoch 66/200\n",
      "49/49 [==============================] - 0s 978us/step - loss: 0.4088 - binary_accuracy: 0.7915 - val_loss: 0.4207 - val_binary_accuracy: 0.7919\n",
      "Epoch 67/200\n",
      "49/49 [==============================] - 0s 985us/step - loss: 0.4074 - binary_accuracy: 0.7935 - val_loss: 0.4212 - val_binary_accuracy: 0.7896\n",
      "Epoch 68/200\n",
      "49/49 [==============================] - 0s 1ms/step - loss: 0.4062 - binary_accuracy: 0.7926 - val_loss: 0.4180 - val_binary_accuracy: 0.7864\n",
      "Epoch 69/200\n",
      "49/49 [==============================] - 0s 974us/step - loss: 0.4055 - binary_accuracy: 0.7926 - val_loss: 0.4269 - val_binary_accuracy: 0.7847\n",
      "Epoch 70/200\n",
      "49/49 [==============================] - 0s 992us/step - loss: 0.4046 - binary_accuracy: 0.7933 - val_loss: 0.4161 - val_binary_accuracy: 0.7909\n",
      "Epoch 71/200\n",
      "49/49 [==============================] - 0s 1000us/step - loss: 0.4035 - binary_accuracy: 0.7935 - val_loss: 0.4163 - val_binary_accuracy: 0.7903\n",
      "Epoch 72/200\n",
      "49/49 [==============================] - 0s 975us/step - loss: 0.4028 - binary_accuracy: 0.7946 - val_loss: 0.4266 - val_binary_accuracy: 0.7594\n",
      "Epoch 73/200\n",
      "49/49 [==============================] - 0s 973us/step - loss: 0.4029 - binary_accuracy: 0.7925 - val_loss: 0.4208 - val_binary_accuracy: 0.7731\n",
      "Epoch 74/200\n",
      "49/49 [==============================] - 0s 962us/step - loss: 0.4014 - binary_accuracy: 0.7934 - val_loss: 0.4132 - val_binary_accuracy: 0.7948\n",
      "Epoch 75/200\n",
      "49/49 [==============================] - 0s 1ms/step - loss: 0.4008 - binary_accuracy: 0.7916 - val_loss: 0.4125 - val_binary_accuracy: 0.7925\n",
      "Epoch 76/200\n",
      "49/49 [==============================] - 0s 989us/step - loss: 0.4001 - binary_accuracy: 0.7947 - val_loss: 0.4129 - val_binary_accuracy: 0.7851\n",
      "Epoch 77/200\n",
      "49/49 [==============================] - 0s 979us/step - loss: 0.3995 - binary_accuracy: 0.7939 - val_loss: 0.4191 - val_binary_accuracy: 0.7890\n",
      "Epoch 78/200\n",
      "49/49 [==============================] - 0s 991us/step - loss: 0.3992 - binary_accuracy: 0.7946 - val_loss: 0.4108 - val_binary_accuracy: 0.7935\n",
      "Epoch 79/200\n",
      "49/49 [==============================] - 0s 999us/step - loss: 0.3984 - binary_accuracy: 0.7949 - val_loss: 0.4102 - val_binary_accuracy: 0.7909\n",
      "Epoch 80/200\n",
      "49/49 [==============================] - 0s 970us/step - loss: 0.3976 - binary_accuracy: 0.7960 - val_loss: 0.4274 - val_binary_accuracy: 0.7838\n",
      "Epoch 81/200\n",
      "49/49 [==============================] - 0s 975us/step - loss: 0.3978 - binary_accuracy: 0.7944 - val_loss: 0.4183 - val_binary_accuracy: 0.7727\n",
      "Epoch 82/200\n",
      "49/49 [==============================] - 0s 997us/step - loss: 0.3971 - binary_accuracy: 0.7936 - val_loss: 0.4092 - val_binary_accuracy: 0.7899\n",
      "Epoch 83/200\n",
      "49/49 [==============================] - 0s 979us/step - loss: 0.3961 - binary_accuracy: 0.7955 - val_loss: 0.4120 - val_binary_accuracy: 0.7919\n",
      "Epoch 84/200\n",
      "49/49 [==============================] - 0s 1ms/step - loss: 0.3953 - binary_accuracy: 0.7956 - val_loss: 0.4088 - val_binary_accuracy: 0.7912\n",
      "Epoch 85/200\n",
      "49/49 [==============================] - 0s 1ms/step - loss: 0.3952 - binary_accuracy: 0.7956 - val_loss: 0.4189 - val_binary_accuracy: 0.7873\n",
      "Epoch 86/200\n",
      "49/49 [==============================] - 0s 1ms/step - loss: 0.3953 - binary_accuracy: 0.7957 - val_loss: 0.4072 - val_binary_accuracy: 0.7906\n",
      "Epoch 87/200\n",
      "49/49 [==============================] - 0s 1ms/step - loss: 0.3942 - binary_accuracy: 0.7944 - val_loss: 0.4087 - val_binary_accuracy: 0.7919\n",
      "Epoch 88/200\n",
      "49/49 [==============================] - 0s 1ms/step - loss: 0.3940 - binary_accuracy: 0.7978 - val_loss: 0.4250 - val_binary_accuracy: 0.7864\n",
      "Epoch 89/200\n",
      "49/49 [==============================] - 0s 1ms/step - loss: 0.3943 - binary_accuracy: 0.7975 - val_loss: 0.4133 - val_binary_accuracy: 0.7727\n",
      "Epoch 90/200\n",
      "49/49 [==============================] - 0s 1ms/step - loss: 0.3931 - binary_accuracy: 0.7973 - val_loss: 0.4183 - val_binary_accuracy: 0.7886\n",
      "Epoch 91/200\n",
      "49/49 [==============================] - 0s 1ms/step - loss: 0.3928 - binary_accuracy: 0.7984 - val_loss: 0.4061 - val_binary_accuracy: 0.7838\n",
      "Epoch 92/200\n",
      "49/49 [==============================] - 0s 1ms/step - loss: 0.3923 - binary_accuracy: 0.7968 - val_loss: 0.4048 - val_binary_accuracy: 0.7893\n",
      "Epoch 93/200\n",
      "49/49 [==============================] - 0s 994us/step - loss: 0.3919 - binary_accuracy: 0.7980 - val_loss: 0.4105 - val_binary_accuracy: 0.7766\n",
      "Epoch 94/200\n",
      "49/49 [==============================] - 0s 991us/step - loss: 0.3922 - binary_accuracy: 0.7951 - val_loss: 0.4054 - val_binary_accuracy: 0.7838\n",
      "Epoch 95/200\n",
      "49/49 [==============================] - 0s 997us/step - loss: 0.3913 - binary_accuracy: 0.7980 - val_loss: 0.4042 - val_binary_accuracy: 0.7883\n",
      "Epoch 96/200\n",
      "49/49 [==============================] - 0s 1ms/step - loss: 0.3910 - binary_accuracy: 0.7982 - val_loss: 0.4125 - val_binary_accuracy: 0.7909\n",
      "Epoch 97/200\n",
      "49/49 [==============================] - 0s 1ms/step - loss: 0.3911 - binary_accuracy: 0.7985 - val_loss: 0.4037 - val_binary_accuracy: 0.7867\n",
      "Epoch 98/200\n",
      "49/49 [==============================] - 0s 985us/step - loss: 0.3903 - binary_accuracy: 0.7969 - val_loss: 0.4042 - val_binary_accuracy: 0.7828\n",
      "Epoch 99/200\n",
      "49/49 [==============================] - 0s 985us/step - loss: 0.3904 - binary_accuracy: 0.7976 - val_loss: 0.4039 - val_binary_accuracy: 0.7828\n",
      "Epoch 100/200\n",
      "49/49 [==============================] - 0s 1ms/step - loss: 0.3900 - binary_accuracy: 0.7986 - val_loss: 0.4133 - val_binary_accuracy: 0.7724\n",
      "Epoch 101/200\n",
      "49/49 [==============================] - 0s 1ms/step - loss: 0.3901 - binary_accuracy: 0.7979 - val_loss: 0.4033 - val_binary_accuracy: 0.7906\n",
      "Epoch 102/200\n",
      "49/49 [==============================] - 0s 985us/step - loss: 0.3895 - binary_accuracy: 0.7983 - val_loss: 0.4069 - val_binary_accuracy: 0.7916\n",
      "Epoch 103/200\n",
      "49/49 [==============================] - 0s 981us/step - loss: 0.3890 - binary_accuracy: 0.7983 - val_loss: 0.4115 - val_binary_accuracy: 0.7737\n",
      "Epoch 104/200\n",
      "49/49 [==============================] - 0s 990us/step - loss: 0.3892 - binary_accuracy: 0.7980 - val_loss: 0.4021 - val_binary_accuracy: 0.7860\n",
      "Epoch 105/200\n",
      "49/49 [==============================] - 0s 1ms/step - loss: 0.3887 - binary_accuracy: 0.7994 - val_loss: 0.4053 - val_binary_accuracy: 0.7779\n",
      "Epoch 106/200\n",
      "49/49 [==============================] - 0s 1ms/step - loss: 0.3884 - binary_accuracy: 0.7983 - val_loss: 0.4021 - val_binary_accuracy: 0.7864\n",
      "Epoch 107/200\n",
      "49/49 [==============================] - 0s 1ms/step - loss: 0.3884 - binary_accuracy: 0.7979 - val_loss: 0.4016 - val_binary_accuracy: 0.7938\n",
      "Epoch 108/200\n",
      "49/49 [==============================] - 0s 1ms/step - loss: 0.3881 - binary_accuracy: 0.7985 - val_loss: 0.4012 - val_binary_accuracy: 0.7925\n",
      "Epoch 109/200\n",
      "49/49 [==============================] - 0s 1ms/step - loss: 0.3879 - binary_accuracy: 0.7989 - val_loss: 0.4018 - val_binary_accuracy: 0.7857\n",
      "Epoch 110/200\n",
      "49/49 [==============================] - 0s 1ms/step - loss: 0.3875 - binary_accuracy: 0.7978 - val_loss: 0.4008 - val_binary_accuracy: 0.7877\n",
      "Epoch 111/200\n",
      "49/49 [==============================] - 0s 1ms/step - loss: 0.3875 - binary_accuracy: 0.7979 - val_loss: 0.4012 - val_binary_accuracy: 0.7864\n",
      "Epoch 112/200\n",
      "49/49 [==============================] - 0s 1ms/step - loss: 0.3873 - binary_accuracy: 0.7987 - val_loss: 0.4005 - val_binary_accuracy: 0.7870\n",
      "Epoch 113/200\n",
      "49/49 [==============================] - 0s 1ms/step - loss: 0.3870 - binary_accuracy: 0.7992 - val_loss: 0.4144 - val_binary_accuracy: 0.7692\n",
      "Epoch 114/200\n",
      "49/49 [==============================] - 0s 986us/step - loss: 0.3875 - binary_accuracy: 0.7981 - val_loss: 0.4361 - val_binary_accuracy: 0.7422\n",
      "Epoch 115/200\n",
      "49/49 [==============================] - 0s 1ms/step - loss: 0.3883 - binary_accuracy: 0.7959 - val_loss: 0.4004 - val_binary_accuracy: 0.7929\n",
      "Epoch 116/200\n",
      "49/49 [==============================] - 0s 999us/step - loss: 0.3864 - binary_accuracy: 0.7982 - val_loss: 0.4001 - val_binary_accuracy: 0.7867\n",
      "Epoch 117/200\n",
      "49/49 [==============================] - 0s 968us/step - loss: 0.3862 - binary_accuracy: 0.7982 - val_loss: 0.4026 - val_binary_accuracy: 0.7929\n",
      "Epoch 118/200\n",
      "49/49 [==============================] - 0s 979us/step - loss: 0.3864 - binary_accuracy: 0.7993 - val_loss: 0.4003 - val_binary_accuracy: 0.7867\n",
      "Epoch 119/200\n",
      "49/49 [==============================] - 0s 971us/step - loss: 0.3864 - binary_accuracy: 0.7989 - val_loss: 0.3994 - val_binary_accuracy: 0.7906\n",
      "Epoch 120/200\n",
      "49/49 [==============================] - 0s 986us/step - loss: 0.3861 - binary_accuracy: 0.7993 - val_loss: 0.3996 - val_binary_accuracy: 0.7870\n",
      "Epoch 121/200\n",
      "49/49 [==============================] - 0s 990us/step - loss: 0.3861 - binary_accuracy: 0.7988 - val_loss: 0.4005 - val_binary_accuracy: 0.7935\n",
      "Epoch 122/200\n",
      "49/49 [==============================] - 0s 980us/step - loss: 0.3854 - binary_accuracy: 0.7997 - val_loss: 0.4009 - val_binary_accuracy: 0.7821\n",
      "Epoch 123/200\n",
      "49/49 [==============================] - 0s 979us/step - loss: 0.3857 - binary_accuracy: 0.7983 - val_loss: 0.3999 - val_binary_accuracy: 0.7851\n",
      "Epoch 124/200\n",
      "49/49 [==============================] - 0s 985us/step - loss: 0.3855 - binary_accuracy: 0.7983 - val_loss: 0.4014 - val_binary_accuracy: 0.7802\n",
      "Epoch 125/200\n",
      "49/49 [==============================] - 0s 1ms/step - loss: 0.3855 - binary_accuracy: 0.7986 - val_loss: 0.3987 - val_binary_accuracy: 0.7906\n",
      "Epoch 126/200\n",
      "49/49 [==============================] - 0s 996us/step - loss: 0.3852 - binary_accuracy: 0.7994 - val_loss: 0.3988 - val_binary_accuracy: 0.7880\n",
      "Epoch 127/200\n",
      "49/49 [==============================] - 0s 1ms/step - loss: 0.3850 - binary_accuracy: 0.7990 - val_loss: 0.3985 - val_binary_accuracy: 0.7886\n",
      "Epoch 128/200\n",
      "49/49 [==============================] - 0s 993us/step - loss: 0.3848 - binary_accuracy: 0.7983 - val_loss: 0.3983 - val_binary_accuracy: 0.7903\n",
      "Epoch 129/200\n",
      "49/49 [==============================] - 0s 998us/step - loss: 0.3849 - binary_accuracy: 0.7999 - val_loss: 0.3982 - val_binary_accuracy: 0.7890\n",
      "Epoch 130/200\n",
      "49/49 [==============================] - 0s 994us/step - loss: 0.3847 - binary_accuracy: 0.7983 - val_loss: 0.3987 - val_binary_accuracy: 0.7864\n",
      "Epoch 131/200\n",
      "49/49 [==============================] - 0s 979us/step - loss: 0.3847 - binary_accuracy: 0.7983 - val_loss: 0.4038 - val_binary_accuracy: 0.7769\n",
      "Epoch 132/200\n",
      "49/49 [==============================] - 0s 1ms/step - loss: 0.3845 - binary_accuracy: 0.7998 - val_loss: 0.4038 - val_binary_accuracy: 0.7929\n",
      "Epoch 133/200\n",
      "49/49 [==============================] - 0s 1ms/step - loss: 0.3845 - binary_accuracy: 0.7997 - val_loss: 0.3979 - val_binary_accuracy: 0.7929\n",
      "Epoch 134/200\n",
      "49/49 [==============================] - 0s 1ms/step - loss: 0.3841 - binary_accuracy: 0.7994 - val_loss: 0.3986 - val_binary_accuracy: 0.7938\n",
      "Epoch 135/200\n",
      "49/49 [==============================] - 0s 972us/step - loss: 0.3841 - binary_accuracy: 0.8005 - val_loss: 0.4007 - val_binary_accuracy: 0.7786\n",
      "Epoch 136/200\n",
      "49/49 [==============================] - 0s 989us/step - loss: 0.3843 - binary_accuracy: 0.7983 - val_loss: 0.3977 - val_binary_accuracy: 0.7873\n",
      "Epoch 137/200\n",
      "49/49 [==============================] - 0s 1ms/step - loss: 0.3836 - binary_accuracy: 0.7991 - val_loss: 0.4057 - val_binary_accuracy: 0.7935\n",
      "Epoch 138/200\n",
      "49/49 [==============================] - 0s 1ms/step - loss: 0.3843 - binary_accuracy: 0.7992 - val_loss: 0.4013 - val_binary_accuracy: 0.7795\n",
      "Epoch 139/200\n",
      "49/49 [==============================] - 0s 982us/step - loss: 0.3838 - binary_accuracy: 0.7988 - val_loss: 0.4012 - val_binary_accuracy: 0.7929\n",
      "Epoch 140/200\n",
      "49/49 [==============================] - 0s 998us/step - loss: 0.3836 - binary_accuracy: 0.7995 - val_loss: 0.3971 - val_binary_accuracy: 0.7890\n",
      "Epoch 141/200\n",
      "49/49 [==============================] - 0s 998us/step - loss: 0.3836 - binary_accuracy: 0.8009 - val_loss: 0.3997 - val_binary_accuracy: 0.7922\n",
      "Epoch 142/200\n",
      "49/49 [==============================] - 0s 993us/step - loss: 0.3833 - binary_accuracy: 0.7998 - val_loss: 0.3982 - val_binary_accuracy: 0.7857\n",
      "Epoch 143/200\n",
      "49/49 [==============================] - 0s 1ms/step - loss: 0.3833 - binary_accuracy: 0.7985 - val_loss: 0.3996 - val_binary_accuracy: 0.7802\n",
      "Epoch 144/200\n",
      "49/49 [==============================] - 0s 993us/step - loss: 0.3832 - binary_accuracy: 0.7989 - val_loss: 0.3970 - val_binary_accuracy: 0.7912\n",
      "Epoch 145/200\n",
      "49/49 [==============================] - 0s 984us/step - loss: 0.3831 - binary_accuracy: 0.8020 - val_loss: 0.3971 - val_binary_accuracy: 0.7932\n",
      "Epoch 146/200\n",
      "49/49 [==============================] - 0s 986us/step - loss: 0.3834 - binary_accuracy: 0.8004 - val_loss: 0.3968 - val_binary_accuracy: 0.7899\n",
      "Epoch 147/200\n",
      "49/49 [==============================] - 0s 1ms/step - loss: 0.3831 - binary_accuracy: 0.8001 - val_loss: 0.3971 - val_binary_accuracy: 0.7932\n",
      "Epoch 148/200\n",
      "49/49 [==============================] - 0s 1ms/step - loss: 0.3831 - binary_accuracy: 0.7981 - val_loss: 0.3967 - val_binary_accuracy: 0.7893\n",
      "Epoch 149/200\n",
      "49/49 [==============================] - 0s 1ms/step - loss: 0.3829 - binary_accuracy: 0.7993 - val_loss: 0.3980 - val_binary_accuracy: 0.7961\n",
      "Epoch 150/200\n",
      "49/49 [==============================] - 0s 969us/step - loss: 0.3829 - binary_accuracy: 0.8001 - val_loss: 0.3966 - val_binary_accuracy: 0.7890\n",
      "Epoch 151/200\n",
      "49/49 [==============================] - 0s 966us/step - loss: 0.3826 - binary_accuracy: 0.8008 - val_loss: 0.3981 - val_binary_accuracy: 0.7951\n",
      "Epoch 152/200\n",
      "49/49 [==============================] - 0s 1ms/step - loss: 0.3827 - binary_accuracy: 0.7992 - val_loss: 0.4085 - val_binary_accuracy: 0.7955\n",
      "Epoch 153/200\n",
      "49/49 [==============================] - 0s 996us/step - loss: 0.3829 - binary_accuracy: 0.8018 - val_loss: 0.4009 - val_binary_accuracy: 0.7776\n",
      "Epoch 154/200\n",
      "49/49 [==============================] - 0s 991us/step - loss: 0.3821 - binary_accuracy: 0.8006 - val_loss: 0.3965 - val_binary_accuracy: 0.7893\n",
      "Epoch 155/200\n",
      "49/49 [==============================] - 0s 1ms/step - loss: 0.3826 - binary_accuracy: 0.7994 - val_loss: 0.3982 - val_binary_accuracy: 0.7948\n",
      "Epoch 156/200\n",
      "49/49 [==============================] - 0s 975us/step - loss: 0.3822 - binary_accuracy: 0.8006 - val_loss: 0.4034 - val_binary_accuracy: 0.7773\n",
      "Epoch 157/200\n",
      "49/49 [==============================] - 0s 987us/step - loss: 0.3823 - binary_accuracy: 0.8006 - val_loss: 0.3960 - val_binary_accuracy: 0.7909\n",
      "Epoch 158/200\n",
      "49/49 [==============================] - 0s 963us/step - loss: 0.3821 - binary_accuracy: 0.8004 - val_loss: 0.3962 - val_binary_accuracy: 0.7883\n",
      "Epoch 159/200\n",
      "49/49 [==============================] - 0s 998us/step - loss: 0.3820 - binary_accuracy: 0.8002 - val_loss: 0.3970 - val_binary_accuracy: 0.7864\n",
      "Epoch 160/200\n",
      "49/49 [==============================] - 0s 982us/step - loss: 0.3821 - binary_accuracy: 0.7997 - val_loss: 0.3960 - val_binary_accuracy: 0.7932\n",
      "Epoch 161/200\n",
      "49/49 [==============================] - 0s 979us/step - loss: 0.3821 - binary_accuracy: 0.7994 - val_loss: 0.3972 - val_binary_accuracy: 0.7867\n",
      "Epoch 162/200\n",
      "49/49 [==============================] - 0s 973us/step - loss: 0.3818 - binary_accuracy: 0.8015 - val_loss: 0.3958 - val_binary_accuracy: 0.7877\n",
      "Epoch 163/200\n",
      "49/49 [==============================] - 0s 975us/step - loss: 0.3815 - binary_accuracy: 0.8000 - val_loss: 0.3958 - val_binary_accuracy: 0.7880\n",
      "Epoch 164/200\n",
      "49/49 [==============================] - 0s 985us/step - loss: 0.3817 - binary_accuracy: 0.8008 - val_loss: 0.3956 - val_binary_accuracy: 0.7883\n",
      "Epoch 165/200\n",
      "49/49 [==============================] - 0s 968us/step - loss: 0.3816 - binary_accuracy: 0.7994 - val_loss: 0.3989 - val_binary_accuracy: 0.7812\n",
      "Epoch 166/200\n",
      "49/49 [==============================] - 0s 999us/step - loss: 0.3818 - binary_accuracy: 0.7989 - val_loss: 0.3986 - val_binary_accuracy: 0.7808\n",
      "Epoch 167/200\n",
      "49/49 [==============================] - 0s 983us/step - loss: 0.3816 - binary_accuracy: 0.8006 - val_loss: 0.4051 - val_binary_accuracy: 0.7744\n",
      "Epoch 168/200\n",
      "49/49 [==============================] - 0s 994us/step - loss: 0.3819 - binary_accuracy: 0.8014 - val_loss: 0.3958 - val_binary_accuracy: 0.7886\n",
      "Epoch 169/200\n",
      "49/49 [==============================] - 0s 1ms/step - loss: 0.3815 - binary_accuracy: 0.8019 - val_loss: 0.3954 - val_binary_accuracy: 0.7896\n",
      "Epoch 170/200\n",
      "49/49 [==============================] - 0s 989us/step - loss: 0.3811 - binary_accuracy: 0.8005 - val_loss: 0.3954 - val_binary_accuracy: 0.7880\n",
      "Epoch 171/200\n",
      "49/49 [==============================] - 0s 1ms/step - loss: 0.3814 - binary_accuracy: 0.8012 - val_loss: 0.3989 - val_binary_accuracy: 0.7922\n",
      "Epoch 172/200\n",
      "49/49 [==============================] - 0s 1ms/step - loss: 0.3814 - binary_accuracy: 0.7999 - val_loss: 0.3968 - val_binary_accuracy: 0.7870\n",
      "Epoch 173/200\n",
      "49/49 [==============================] - 0s 1ms/step - loss: 0.3813 - binary_accuracy: 0.7997 - val_loss: 0.3976 - val_binary_accuracy: 0.7818\n",
      "Epoch 174/200\n",
      "49/49 [==============================] - 0s 996us/step - loss: 0.3811 - binary_accuracy: 0.8005 - val_loss: 0.3953 - val_binary_accuracy: 0.7919\n",
      "Epoch 175/200\n",
      "49/49 [==============================] - 0s 1ms/step - loss: 0.3808 - binary_accuracy: 0.7979 - val_loss: 0.3968 - val_binary_accuracy: 0.7958\n",
      "Epoch 176/200\n",
      "49/49 [==============================] - 0s 975us/step - loss: 0.3810 - binary_accuracy: 0.8014 - val_loss: 0.3973 - val_binary_accuracy: 0.7825\n",
      "Epoch 177/200\n",
      "49/49 [==============================] - 0s 1ms/step - loss: 0.3814 - binary_accuracy: 0.8001 - val_loss: 0.3973 - val_binary_accuracy: 0.7935\n",
      "Epoch 178/200\n",
      "49/49 [==============================] - 0s 1ms/step - loss: 0.3811 - binary_accuracy: 0.8012 - val_loss: 0.4010 - val_binary_accuracy: 0.7795\n",
      "Epoch 179/200\n",
      "49/49 [==============================] - 0s 1ms/step - loss: 0.3811 - binary_accuracy: 0.7998 - val_loss: 0.3954 - val_binary_accuracy: 0.7886\n",
      "Epoch 180/200\n",
      "49/49 [==============================] - 0s 983us/step - loss: 0.3807 - binary_accuracy: 0.7996 - val_loss: 0.3952 - val_binary_accuracy: 0.7890\n",
      "Epoch 181/200\n",
      "49/49 [==============================] - 0s 1ms/step - loss: 0.3806 - binary_accuracy: 0.7999 - val_loss: 0.3961 - val_binary_accuracy: 0.7880\n",
      "Epoch 182/200\n",
      "49/49 [==============================] - 0s 1ms/step - loss: 0.3805 - binary_accuracy: 0.7992 - val_loss: 0.3953 - val_binary_accuracy: 0.7942\n",
      "Epoch 183/200\n",
      "49/49 [==============================] - 0s 993us/step - loss: 0.3808 - binary_accuracy: 0.8012 - val_loss: 0.3990 - val_binary_accuracy: 0.7922\n",
      "Epoch 184/200\n",
      "49/49 [==============================] - 0s 987us/step - loss: 0.3808 - binary_accuracy: 0.8014 - val_loss: 0.3963 - val_binary_accuracy: 0.7870\n",
      "Epoch 185/200\n",
      "49/49 [==============================] - 0s 967us/step - loss: 0.3803 - binary_accuracy: 0.7996 - val_loss: 0.4043 - val_binary_accuracy: 0.7971\n",
      "Epoch 186/200\n",
      "49/49 [==============================] - 0s 997us/step - loss: 0.3810 - binary_accuracy: 0.8003 - val_loss: 0.3954 - val_binary_accuracy: 0.7951\n",
      "Epoch 187/200\n",
      "49/49 [==============================] - 0s 979us/step - loss: 0.3806 - binary_accuracy: 0.8013 - val_loss: 0.3969 - val_binary_accuracy: 0.7945\n",
      "Epoch 188/200\n",
      "49/49 [==============================] - 0s 982us/step - loss: 0.3804 - binary_accuracy: 0.8003 - val_loss: 0.3976 - val_binary_accuracy: 0.7925\n",
      "Epoch 189/200\n",
      "49/49 [==============================] - 0s 991us/step - loss: 0.3803 - binary_accuracy: 0.8014 - val_loss: 0.3947 - val_binary_accuracy: 0.7890\n",
      "Epoch 190/200\n",
      "49/49 [==============================] - 0s 972us/step - loss: 0.3803 - binary_accuracy: 0.8007 - val_loss: 0.3944 - val_binary_accuracy: 0.7890\n",
      "Epoch 191/200\n",
      "49/49 [==============================] - 0s 974us/step - loss: 0.3802 - binary_accuracy: 0.7998 - val_loss: 0.3943 - val_binary_accuracy: 0.7886\n",
      "Epoch 192/200\n",
      "49/49 [==============================] - 0s 986us/step - loss: 0.3801 - binary_accuracy: 0.8011 - val_loss: 0.3955 - val_binary_accuracy: 0.7958\n",
      "Epoch 193/200\n",
      "49/49 [==============================] - 0s 1ms/step - loss: 0.3801 - binary_accuracy: 0.8013 - val_loss: 0.3966 - val_binary_accuracy: 0.7955\n",
      "Epoch 194/200\n",
      "49/49 [==============================] - 0s 1ms/step - loss: 0.3799 - binary_accuracy: 0.8021 - val_loss: 0.3958 - val_binary_accuracy: 0.7860\n",
      "Epoch 195/200\n",
      "49/49 [==============================] - 0s 1ms/step - loss: 0.3800 - binary_accuracy: 0.8006 - val_loss: 0.3959 - val_binary_accuracy: 0.7854\n",
      "Epoch 196/200\n",
      "49/49 [==============================] - 0s 1ms/step - loss: 0.3800 - binary_accuracy: 0.8010 - val_loss: 0.4037 - val_binary_accuracy: 0.7756\n",
      "Epoch 197/200\n",
      "49/49 [==============================] - 0s 1ms/step - loss: 0.3800 - binary_accuracy: 0.8010 - val_loss: 0.3940 - val_binary_accuracy: 0.7893\n",
      "Epoch 198/200\n",
      "49/49 [==============================] - 0s 1ms/step - loss: 0.3798 - binary_accuracy: 0.8032 - val_loss: 0.3940 - val_binary_accuracy: 0.7893\n",
      "Epoch 199/200\n",
      "49/49 [==============================] - 0s 1ms/step - loss: 0.3798 - binary_accuracy: 0.8011 - val_loss: 0.3945 - val_binary_accuracy: 0.7873\n",
      "Epoch 200/200\n",
      "49/49 [==============================] - 0s 1ms/step - loss: 0.3798 - binary_accuracy: 0.8001 - val_loss: 0.3941 - val_binary_accuracy: 0.7890\n"
     ]
    }
   ],
   "source": [
    "history = network.fit(X_train, Y_train, validation_split=0.2, epochs=200, batch_size=256)"
   ]
  },
  {
   "cell_type": "code",
   "execution_count": 44,
   "metadata": {
    "id": "r9tKwEYgekH2",
    "outputId": "5a326378-6675-494d-aba1-88ca5b323e5c"
   },
   "outputs": [
    {
     "data": {
      "image/png": "[encoded data removed]",
      "text/plain": [
       "<Figure size 432x288 with 1 Axes>"
      ]
     },
     "metadata": {
      "needs_background": "light"
     },
     "output_type": "display_data"
    }
   ],
   "source": [
    "plt.plot(history.history['loss'],label='training')\n",
    "plt.plot(history.history['val_loss'],label='validation')\n",
    "plt.xlabel('Epoch')\n",
    "plt.ylabel('Loss')\n",
    "plt.legend()\n",
    "plt.savefig('loss_nn_v2.pdf')"
   ]
  },
  {
   "cell_type": "code",
   "execution_count": 45,
   "metadata": {
    "id": "xpVeWnjXekH3",
    "outputId": "1591b2f1-e1e3-4185-fb8e-7a128830974c"
   },
   "outputs": [
    {
     "data": {
      "image/png": "[encoded data removed]",
      "text/plain": [
       "<Figure size 432x288 with 1 Axes>"
      ]
     },
     "metadata": {
      "needs_background": "light"
     },
     "output_type": "display_data"
    }
   ],
   "source": [
    "plt.plot(history.history['binary_accuracy'],label='training')\n",
    "plt.plot(history.history['val_binary_accuracy'],label='validation')\n",
    "plt.xlabel('Epoch')\n",
    "plt.ylabel('Accuracy')\n",
    "plt.legend()\n",
    "plt.savefig('acc_nn_v2.pdf')"
   ]
  },
  {
   "cell_type": "code",
   "execution_count": null,
   "metadata": {
    "id": "DPXeLeOPekH3",
    "outputId": "17c7bc2b-44e7-4f9f-d00a-30b67dabf070"
   },
   "outputs": [
    {
     "name": "stdout",
     "output_type": "stream",
     "text": [
      "\n",
      "# Evaluate on test data\n",
      "10050/10050 [==============================] - 0s 4us/step\n",
      "test loss, test acc: [0.5509259144702361, 0.7345273633264191]\n"
     ]
    }
   ],
   "source": [
    "print('\\n# Evaluate on test data')\n",
    "results = network.evaluate(X_test, Y_test, batch_size=256)\n",
    "print('test loss, test acc:', results)"
   ]
  },
  {
   "cell_type": "code",
   "execution_count": null,
   "metadata": {
    "id": "Av70UZreekH3",
    "outputId": "7100a867-53a5-4448-e4a1-c35ed06cb1cb"
   },
   "outputs": [
    {
     "name": "stdout",
     "output_type": "stream",
     "text": [
      "[0] 0.0\n",
      "[1] 1.0\n",
      "[1] 1.0\n",
      "[1] 1.0\n",
      "[1] 1.0\n",
      "[1] 1.0\n",
      "[0] 0.0\n",
      "[1] 1.0\n",
      "[1] 1.0\n",
      "[1] 1.0\n",
      "[1] 0.0\n",
      "[1] 1.0\n",
      "[0] 1.0\n",
      "[1] 1.0\n",
      "[1] 1.0\n",
      "[1] 1.0\n",
      "[1] 0.0\n",
      "[0] 0.0\n",
      "[0] 0.0\n",
      "[1] 0.0\n",
      "[1] 1.0\n",
      "[1] 0.0\n",
      "[1] 1.0\n",
      "[1] 0.0\n",
      "[1] 0.0\n",
      "[1] 1.0\n",
      "[1] 1.0\n",
      "[1] 1.0\n",
      "[1] 1.0\n",
      "[1] 1.0\n",
      "[0] 1.0\n",
      "[1] 1.0\n",
      "[0] 0.0\n",
      "[0] 1.0\n",
      "[1] 1.0\n",
      "[1] 1.0\n",
      "[1] 1.0\n",
      "[1] 1.0\n",
      "[1] 0.0\n",
      "[1] 1.0\n",
      "[1] 0.0\n",
      "[1] 1.0\n",
      "[1] 0.0\n",
      "[0] 1.0\n",
      "[0] 1.0\n",
      "[1] 0.0\n",
      "[1] 0.0\n",
      "[0] 0.0\n",
      "[1] 1.0\n",
      "[1] 1.0\n",
      "[1] 1.0\n",
      "[1] 0.0\n",
      "[1] 1.0\n",
      "[1] 1.0\n",
      "[1] 1.0\n",
      "[0] 1.0\n",
      "[0] 0.0\n",
      "[1] 1.0\n",
      "[0] 0.0\n",
      "[1] 1.0\n",
      "[1] 0.0\n",
      "[0] 1.0\n",
      "[0] 1.0\n",
      "[1] 1.0\n",
      "[1] 1.0\n",
      "[1] 1.0\n",
      "[1] 1.0\n",
      "[1] 1.0\n",
      "[1] 1.0\n",
      "[1] 0.0\n",
      "[1] 0.0\n",
      "[1] 1.0\n",
      "[1] 1.0\n",
      "[1] 1.0\n",
      "[1] 1.0\n",
      "[1] 1.0\n",
      "[1] 0.0\n",
      "[0] 1.0\n",
      "[0] 0.0\n",
      "[1] 1.0\n",
      "[0] 1.0\n",
      "[1] 1.0\n",
      "[1] 0.0\n",
      "[1] 1.0\n",
      "[1] 0.0\n",
      "[1] 0.0\n",
      "[1] 0.0\n",
      "[1] 1.0\n",
      "[1] 1.0\n",
      "[1] 1.0\n",
      "[1] 1.0\n",
      "[1] 1.0\n",
      "[1] 1.0\n",
      "[1] 1.0\n",
      "[0] 0.0\n",
      "[1] 1.0\n",
      "[1] 1.0\n",
      "[1] 1.0\n",
      "[1] 1.0\n",
      "[0] 0.0\n"
     ]
    }
   ],
   "source": [
    "for i in range(100):\n",
    "    print(network.predict_classes(X_test)[i], Y_test[i])"
   ]
  },
  {
   "cell_type": "code",
   "execution_count": null,
   "metadata": {
    "id": "LsdBnhXFekH3",
    "outputId": "23fafef2-bff9-4126-8f7b-615f2b32a7ed"
   },
   "outputs": [
    {
     "name": "stdout",
     "output_type": "stream",
     "text": [
      "1.0\n"
     ]
    }
   ],
   "source": [
    "print(Y_test[4])"
   ]
  },
  {
   "cell_type": "code",
   "execution_count": null,
   "metadata": {
    "id": "zeaGtzMAekH3"
   },
   "outputs": [],
   "source": []
  }
 ],
 "metadata": {
  "colab": {
   "name": "nn_xmatch.ipynb",
   "provenance": []
  },
  "kernelspec": {
   "display_name": "Python 3 (ipykernel)",
   "language": "python",
   "name": "python3"
  },
  "language_info": {
   "codemirror_mode": {
    "name": "ipython",
    "version": 3
   },
   "file_extension": ".py",
   "mimetype": "text/x-python",
   "name": "python",
   "nbconvert_exporter": "python",
   "pygments_lexer": "ipython3",
   "version": "3.8.3"
  }
 },
 "nbformat": 4,
 "nbformat_minor": 4
}
