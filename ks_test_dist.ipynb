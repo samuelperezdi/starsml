{
 "cells": [
  {
   "cell_type": "code",
   "execution_count": 11,
   "metadata": {},
   "outputs": [],
   "source": [
    "import pandas as pd\n",
    "import numpy as np\n",
    "import scipy.stats as stats\n",
    "import matplotlib.pyplot as plt"
   ]
  },
  {
   "cell_type": "markdown",
   "metadata": {},
   "source": [
    "# Difference in Distributions of First- and Second-Best Matches"
   ]
  },
  {
   "cell_type": "markdown",
   "metadata": {},
   "source": [
    "## Load Data\n",
    "New Data: https://drive.google.com/drive/folders/11rqjfphE7gSC_LsUxEEVe149njpQpt01"
   ]
  },
  {
   "cell_type": "code",
   "execution_count": 4,
   "metadata": {},
   "outputs": [],
   "source": [
    "first_match = pd.read_csv('/Users/joshuaingram/Main/Projects/starsml/data/new/most_probable_new.csv')\n",
    "second_match= pd.read_csv('/Users/joshuaingram/Main/Projects/starsml/data/new/second_new.csv')"
   ]
  },
  {
   "cell_type": "code",
   "execution_count": 5,
   "metadata": {},
   "outputs": [
    {
     "data": {
      "text/plain": [
       "Index(['Unnamed: 0', 'chandra_source_id', 'chandra_ra', 'chandra_dec', 'name',\n",
       "       'err_ellipse_r0', 'err_ellipse_r1', 'err_ellipse_ang', 'significance',\n",
       "       'likelihood_class', 'conf_flag', 'sat_src_flag', 'streak_src_flag',\n",
       "       'flux_aper_b', 'flux_aper_lolim_b', 'flux_aper_hilim_b', 'flux_aper_w',\n",
       "       'flux_aper_lolim_w', 'flux_aper_hilim_w', 'flux_aper_avg_b',\n",
       "       'flux_aper_avg_lolim_b', 'flux_aper_avg_hilim_b', 'flux_aper_avg_w',\n",
       "       'flux_aper_avg_lolim_w', 'flux_aper_avg_hilim_w', 'var_inter_prob_b',\n",
       "       'var_inter_prob_h', 'var_inter_prob_m', 'var_inter_prob_s',\n",
       "       'var_intra_prob_b', 'var_intra_prob_h', 'var_intra_prob_m',\n",
       "       'var_intra_prob_s', 'hard_hs', 'hard_hm', 'hard_ms', 'min_theta_mean',\n",
       "       'nway_separation', 'dist_bayesfactor', 'dist_post', 'p_single', 'p_any',\n",
       "       'p_i', 'match_flag', 'source_id', 'ra', 'dec', 'parallax',\n",
       "       'parallax_error', 'parallax_over_error', 'pmra', 'pmdec', 'ruwe',\n",
       "       'phot_g_mean_flux', 'phot_g_mean_flux_error',\n",
       "       'phot_g_mean_flux_over_error', 'phot_g_mean_mag', 'phot_bp_mean_flux',\n",
       "       'phot_bp_mean_flux_error', 'phot_bp_mean_flux_over_error',\n",
       "       'phot_bp_mean_mag', 'phot_rp_mean_flux', 'phot_rp_mean_flux_error',\n",
       "       'phot_rp_mean_flux_over_error', 'phot_rp_mean_mag', 'bp_rp', 'bp_g',\n",
       "       'g_rp', 'radial_velocity', 'phot_variable_flag', 'dist_arcsec'],\n",
       "      dtype='object')"
      ]
     },
     "execution_count": 5,
     "metadata": {},
     "output_type": "execute_result"
    }
   ],
   "source": [
    "first_match.columns"
   ]
  },
  {
   "cell_type": "code",
   "execution_count": 14,
   "metadata": {},
   "outputs": [
    {
     "data": {
      "image/png": "[encoded data removed]",
      "text/plain": [
       "<Figure size 640x480 with 1 Axes>"
      ]
     },
     "metadata": {},
     "output_type": "display_data"
    }
   ],
   "source": [
    "plt.hist(first_match['dist_arcsec'], bins=100, alpha=0.5, label='first_match')\n",
    "plt.hist(second_match['dist_arcsec'], bins=100, alpha=0.5, label='second_match')\n",
    "plt.show()"
   ]
  },
  {
   "cell_type": "markdown",
   "metadata": {},
   "source": [
    "# Analysis: No Separation Filtering or Off-Axis Filtering"
   ]
  },
  {
   "cell_type": "markdown",
   "metadata": {},
   "source": [
    "## Colors"
   ]
  },
  {
   "cell_type": "code",
   "execution_count": 15,
   "metadata": {},
   "outputs": [
    {
     "name": "stdout",
     "output_type": "stream",
     "text": [
      "KstestResult(statistic=0.08666527632950993, pvalue=0.0, statistic_location=6.908633, statistic_sign=1)\n"
     ]
    }
   ],
   "source": [
    "# bp_rp\n",
    "# first best\n",
    "sample1 = first_match['bp_rp']\n",
    "# second best\n",
    "sample2 = second_match['bp_rp']\n",
    "\n",
    "# ks test\n",
    "ks_test = stats.ks_2samp(sample1, sample2)\n",
    "print(ks_test)"
   ]
  },
  {
   "cell_type": "code",
   "execution_count": 16,
   "metadata": {},
   "outputs": [
    {
     "name": "stdout",
     "output_type": "stream",
     "text": [
      "KstestResult(statistic=0.08640667361835241, pvalue=0.0, statistic_location=5.1906586, statistic_sign=1)\n"
     ]
    }
   ],
   "source": [
    "# bp_g\n",
    "# first best\n",
    "sample1 = first_match['bp_g']\n",
    "# second best\n",
    "sample2 = second_match['bp_g']\n",
    "\n",
    "# ks test\n",
    "ks_test = stats.ks_2samp(sample1, sample2)\n",
    "print(ks_test)"
   ]
  },
  {
   "cell_type": "code",
   "execution_count": 17,
   "metadata": {},
   "outputs": [
    {
     "name": "stdout",
     "output_type": "stream",
     "text": [
      "KstestResult(statistic=0.10148905109489048, pvalue=0.0, statistic_location=1.4907293, statistic_sign=1)\n"
     ]
    }
   ],
   "source": [
    "# g_rp\n",
    "# first best\n",
    "sample1 = first_match['g_rp']\n",
    "# second best\n",
    "sample2 = second_match['g_rp']\n",
    "\n",
    "# ks test\n",
    "ks_test = stats.ks_2samp(sample1, sample2)\n",
    "print(ks_test)"
   ]
  },
  {
   "cell_type": "markdown",
   "metadata": {},
   "source": [
    "## Magnitudes"
   ]
  },
  {
   "cell_type": "code",
   "execution_count": 18,
   "metadata": {},
   "outputs": [
    {
     "name": "stdout",
     "output_type": "stream",
     "text": [
      "KstestResult(statistic=0.13371428571428573, pvalue=0.0, statistic_location=18.720013, statistic_sign=1)\n"
     ]
    }
   ],
   "source": [
    "# phot_g_mean_mag\n",
    "# first best\n",
    "sample1 = first_match['phot_g_mean_mag']\n",
    "# second best\n",
    "sample2 = second_match['phot_g_mean_mag']\n",
    "\n",
    "# ks test\n",
    "ks_test = stats.ks_2samp(sample1, sample2)\n",
    "print(ks_test)"
   ]
  },
  {
   "cell_type": "code",
   "execution_count": 19,
   "metadata": {},
   "outputs": [
    {
     "name": "stdout",
     "output_type": "stream",
     "text": [
      "KstestResult(statistic=0.12519708029197085, pvalue=0.0, statistic_location=19.83087, statistic_sign=1)\n"
     ]
    }
   ],
   "source": [
    "# phot_bp_mean_mag\n",
    "# first best\n",
    "sample1 = first_match['phot_bp_mean_mag']\n",
    "# second best\n",
    "sample2 = second_match['phot_bp_mean_mag']\n",
    "\n",
    "ks_test = stats.ks_2samp(sample1, sample2)\n",
    "print(ks_test)"
   ]
  },
  {
   "cell_type": "code",
   "execution_count": 20,
   "metadata": {},
   "outputs": [
    {
     "name": "stdout",
     "output_type": "stream",
     "text": [
      "KstestResult(statistic=0.1489718456725756, pvalue=0.0, statistic_location=17.69413, statistic_sign=1)\n"
     ]
    }
   ],
   "source": [
    "# phot_rp_mean_mag\n",
    "# first best\n",
    "sample1 = first_match['phot_rp_mean_mag']\n",
    "# second best\n",
    "sample2 = second_match['phot_rp_mean_mag']\n",
    "\n",
    "# ks test\n",
    "ks_test = stats.ks_2samp(sample1, sample2)\n",
    "print(ks_test)"
   ]
  },
  {
   "cell_type": "markdown",
   "metadata": {},
   "source": [
    "## Fluxes"
   ]
  },
  {
   "cell_type": "code",
   "execution_count": 21,
   "metadata": {},
   "outputs": [
    {
     "name": "stdout",
     "output_type": "stream",
     "text": [
      "KstestResult(statistic=0.13071115745568307, pvalue=0.0, statistic_location=612.2373069792916, statistic_sign=-1)\n"
     ]
    }
   ],
   "source": [
    "# phot_g_mean_flux\n",
    "# first best\n",
    "sample1 = first_match['phot_g_mean_flux']\n",
    "# second best\n",
    "sample2 = second_match['phot_g_mean_flux']\n",
    "\n",
    "# ks test\n",
    "ks_test = stats.ks_2samp(sample1, sample2)\n",
    "print(ks_test)"
   ]
  },
  {
   "cell_type": "code",
   "execution_count": 22,
   "metadata": {},
   "outputs": [
    {
     "name": "stdout",
     "output_type": "stream",
     "text": [
      "KstestResult(statistic=0.08639833159541188, pvalue=0.0, statistic_location=546428066.1702335, statistic_sign=1)\n"
     ]
    }
   ],
   "source": [
    "# phot_bp_mean_flux\n",
    "# first best\n",
    "sample1 = first_match['phot_bp_mean_flux']\n",
    "# second best\n",
    "sample2 = second_match['phot_bp_mean_flux']\n",
    "\n",
    "# ks test\n",
    "ks_test = stats.ks_2samp(sample1, sample2)\n",
    "print(ks_test)"
   ]
  },
  {
   "cell_type": "code",
   "execution_count": 23,
   "metadata": {},
   "outputs": [
    {
     "name": "stdout",
     "output_type": "stream",
     "text": [
      "KstestResult(statistic=0.08090093847758084, pvalue=0.0, statistic_location=406803723.3031809, statistic_sign=1)\n"
     ]
    }
   ],
   "source": [
    "# phot_rp_mean_flux\n",
    "# first best\n",
    "sample1 = first_match['phot_rp_mean_flux']\n",
    "# second best\n",
    "sample2 = second_match['phot_rp_mean_flux']\n",
    "\n",
    "# ks test\n",
    "ks_test = stats.ks_2samp(sample1, sample2)\n",
    "print(ks_test)"
   ]
  },
  {
   "cell_type": "markdown",
   "metadata": {},
   "source": [
    "## Radial Velocity"
   ]
  },
  {
   "cell_type": "code",
   "execution_count": 24,
   "metadata": {},
   "outputs": [
    {
     "name": "stdout",
     "output_type": "stream",
     "text": [
      "KstestResult(statistic=0.04797497393117831, pvalue=2.5211337277175745e-120, statistic_location=425.69962, statistic_sign=1)\n"
     ]
    }
   ],
   "source": [
    "# radial_velocity\n",
    "# first best\n",
    "sample1 = first_match['radial_velocity']\n",
    "# second best\n",
    "sample2 = second_match['radial_velocity']\n",
    "\n",
    "# ks test\n",
    "ks_test = stats.ks_2samp(sample1, sample2)\n",
    "print(ks_test)"
   ]
  },
  {
   "cell_type": "markdown",
   "metadata": {},
   "source": [
    "# Analysis: Separation Filtering"
   ]
  },
  {
   "cell_type": "code",
   "execution_count": 26,
   "metadata": {},
   "outputs": [],
   "source": [
    "def ks_test_filter(data1, data2, column, filter_column, filter_level, filter_count = \"second\"):\n",
    "\n",
    "    if filter_count == \"second\":\n",
    "        data2 = data2[data2[filter_column] < filter_level]\n",
    "    elif filter_count == \"first\":\n",
    "        data1 = data1[data1[filter_column] < filter_level]\n",
    "    elif filter_count == \"both\":\n",
    "        data1 = data1[data1[filter_column] < filter_level]\n",
    "        data2 = data2[data2[filter_column] < filter_level]\n",
    "    else:\n",
    "        print(\"filter_count must be 'first', 'second', or 'both'\")\n",
    "        return\n",
    "    \n",
    "    sample1 = data1[column]\n",
    "    sample2 = data2[column]\n",
    "\n",
    "    # ks test\n",
    "    ks_test = stats.ks_2samp(sample1, sample2)\n",
    "\n",
    "    return ks_test"
   ]
  },
  {
   "cell_type": "markdown",
   "metadata": {},
   "source": [
    "## Magnitudes"
   ]
  },
  {
   "cell_type": "code",
   "execution_count": null,
   "metadata": {},
   "outputs": [],
   "source": [
    "### do filtering on the first best match\n",
    "# do bins instead of a single value\n",
    "# get the distribution of the corresponding (leftover) second best matches... (only sources not filtered out for both first and second best matches)"
   ]
  },
  {
   "cell_type": "code",
   "execution_count": 51,
   "metadata": {},
   "outputs": [],
   "source": [
    "# phot_g_mean_mag\n",
    "column = \"phot_g_mean_mag\"\n",
    "filter_column = \"dist_arcsec\"\n",
    "filter_level = 5 # in arcsec\n",
    "filter_count = \"second\"\n",
    "\n",
    "levels = []\n",
    "ks_tests_pvals = []\n",
    "\n",
    "for level in np.arange(0.1, 10, 0.01):\n",
    "    ks_test = ks_test_filter(first_match, second_match, column, filter_column, filter_level = level, filter_count = \"first\") # change here\n",
    "\n",
    "    levels.append(level)\n",
    "    ks_tests_pvals.append(ks_test.pvalue)\n"
   ]
  },
  {
   "cell_type": "code",
   "execution_count": 52,
   "metadata": {},
   "outputs": [
    {
     "data": {
      "image/png": "[encoded data removed]",
      "text/plain": [
       "<Figure size 640x480 with 1 Axes>"
      ]
     },
     "metadata": {},
     "output_type": "display_data"
    }
   ],
   "source": [
    "plt.plot(levels, ks_tests_pvals)\n",
    "plt.xlabel(\"Max separation (arcsec) for second best match\")\n",
    "plt.ylabel(\"KS test p-value\")\n",
    "plt.title(\"p-value vs Max separation (second best match)\")\n",
    "plt.show()"
   ]
  },
  {
   "cell_type": "code",
   "execution_count": 44,
   "metadata": {},
   "outputs": [
    {
     "name": "stdout",
     "output_type": "stream",
     "text": [
      "p-value is less than 0.05 at max separation of 0.30999999999999994 arcsec\n"
     ]
    }
   ],
   "source": [
    "# find the level where the p-value is 0.05\n",
    "for i in range(len(ks_tests_pvals)):\n",
    "    if ks_tests_pvals[i] < 0.05:\n",
    "        print(\"p-value is less than 0.05 at max separation of \" + str(levels[i]) + \" arcsec\")\n",
    "        break"
   ]
  },
  {
   "cell_type": "code",
   "execution_count": 45,
   "metadata": {},
   "outputs": [],
   "source": [
    "# phot_bp_mean_mag\n",
    "column = \"phot_bp_mean_mag\"\n",
    "filter_column = \"dist_arcsec\"\n",
    "filter_level = 5 # in arcsec\n",
    "filter_count = \"second\"\n",
    "\n",
    "levels = []\n",
    "ks_tests_pvals = []\n",
    "\n",
    "for level in np.arange(0.1, 10, 0.01):\n",
    "    ks_test = ks_test_filter(first_match, second_match, column, filter_column, filter_level = level, filter_count = \"second\")\n",
    "\n",
    "    levels.append(level)\n",
    "    ks_tests_pvals.append(ks_test.pvalue)"
   ]
  },
  {
   "cell_type": "code",
   "execution_count": 46,
   "metadata": {},
   "outputs": [
    {
     "data": {
      "image/png": "[encoded data removed]",
      "text/plain": [
       "<Figure size 640x480 with 1 Axes>"
      ]
     },
     "metadata": {},
     "output_type": "display_data"
    }
   ],
   "source": [
    "plt.plot(levels, ks_tests_pvals)\n",
    "plt.xlabel(\"Max separation (arcsec) for second best match\")\n",
    "plt.ylabel(\"KS test p-value\")\n",
    "plt.title(\"p-value vs Max separation (second best match)\")\n",
    "plt.show()"
   ]
  },
  {
   "cell_type": "code",
   "execution_count": 47,
   "metadata": {},
   "outputs": [
    {
     "name": "stdout",
     "output_type": "stream",
     "text": [
      "p-value is less than 0.05 at max separation of 0.15999999999999998 arcsec\n"
     ]
    }
   ],
   "source": [
    "# find the level where the p-value is 0.05\n",
    "for i in range(len(ks_tests_pvals)):\n",
    "    if ks_tests_pvals[i] < 0.05:\n",
    "        print(\"p-value is less than 0.05 at max separation of \" + str(levels[i]) + \" arcsec\")\n",
    "        break"
   ]
  },
  {
   "cell_type": "code",
   "execution_count": 48,
   "metadata": {},
   "outputs": [],
   "source": [
    "# phot_rp_mean_mag\n",
    "column = \"phot_rp_mean_mag\"\n",
    "filter_column = \"dist_arcsec\"\n",
    "filter_level = 5 # in arcsec\n",
    "filter_count = \"second\"\n",
    "\n",
    "levels = []\n",
    "ks_tests_pvals = []\n",
    "\n",
    "for level in np.arange(0.1, 10, 0.01):\n",
    "    ks_test = ks_test_filter(first_match, second_match, column, filter_column, filter_level = level, filter_count = \"second\")\n",
    "\n",
    "    levels.append(level)\n",
    "    ks_tests_pvals.append(ks_test.pvalue)"
   ]
  },
  {
   "cell_type": "code",
   "execution_count": 49,
   "metadata": {},
   "outputs": [
    {
     "data": {
      "image/png": "[encoded data removed]",
      "text/plain": [
       "<Figure size 640x480 with 1 Axes>"
      ]
     },
     "metadata": {},
     "output_type": "display_data"
    }
   ],
   "source": [
    "plt.plot(levels, ks_tests_pvals)\n",
    "plt.xlabel(\"Max separation (arcsec) for second best match\")\n",
    "plt.ylabel(\"KS test p-value\")\n",
    "plt.title(\"p-value vs Max separation (second best match)\")\n",
    "plt.show()"
   ]
  },
  {
   "cell_type": "code",
   "execution_count": 50,
   "metadata": {},
   "outputs": [
    {
     "name": "stdout",
     "output_type": "stream",
     "text": [
      "p-value is less than 0.05 at max separation of 0.22999999999999995 arcsec\n"
     ]
    }
   ],
   "source": [
    "# find the level where the p-value is 0.05\n",
    "for i in range(len(ks_tests_pvals)):\n",
    "    if ks_tests_pvals[i] < 0.05:\n",
    "        print(\"p-value is less than 0.05 at max separation of \" + str(levels[i]) + \" arcsec\")\n",
    "        break"
   ]
  },
  {
   "cell_type": "markdown",
   "metadata": {},
   "source": [
    "# Fluxes"
   ]
  },
  {
   "cell_type": "markdown",
   "metadata": {},
   "source": [
    "# Analysis: Off-Axis Filtering"
   ]
  },
  {
   "cell_type": "markdown",
   "metadata": {},
   "source": [
    "# 0-3, 3-5, >5 arcmin"
   ]
  }
 ],
 "metadata": {
  "kernelspec": {
   "display_name": "base",
   "language": "python",
   "name": "python3"
  },
  "language_info": {
   "codemirror_mode": {
    "name": "ipython",
    "version": 3
   },
   "file_extension": ".py",
   "mimetype": "text/x-python",
   "name": "python",
   "nbconvert_exporter": "python",
   "pygments_lexer": "ipython3",
   "version": "3.10.10"
  }
 },
 "nbformat": 4,
 "nbformat_minor": 2
}
